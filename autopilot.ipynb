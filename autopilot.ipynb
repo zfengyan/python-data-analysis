{
 "cells": [
  {
   "cell_type": "code",
   "execution_count": 16,
   "metadata": {},
   "outputs": [
    {
     "name": "stdout",
     "output_type": "stream",
     "text": [
      "-- loading dataset ...\n",
      "-- found file \n",
      "-- done\n"
     ]
    }
   ],
   "source": [
    "import pandas as pd\n",
    "import datetime\n",
    "from Preprocessing import Preprocessing\n",
    "\n",
    "#file_path = 'data/fixations.csv'\n",
    "#df = pd.read_csv(file_path, delimiter=\";\")\n",
    "filename = 'fixations.csv'\n",
    "delimiter = ','\n",
    "df = Preprocessing.load_data_csv(filename, delimiter)"
   ]
  },
  {
   "cell_type": "code",
   "execution_count": 24,
   "metadata": {},
   "outputs": [
    {
     "name": "stdout",
     "output_type": "stream",
     "text": [
      "2023-05-12 08:19:44.205738074\n"
     ]
    }
   ],
   "source": [
    "# 1906 records in total, access the elements: df['start timestamp [ns]'][0] ~ df['start timestamp [ns]'][1906]\n",
    "# df['end timestamp [ns]'][0] - df['start timestamp [ns]'][0]\n",
    "timestamp = df['start timestamp [ns]'][0]\n",
    "timestamp_seconds = timestamp // 10**9 # Convert nanoseconds to seconds \n",
    "timestamp_nanoseconds = timestamp % 10**9 # Extract remaining nanoseconds \n",
    "# Convert to datetime object \n",
    "dt = datetime.datetime.utcfromtimestamp(timestamp_seconds) # Print the datetime object in a desired format \n",
    "print(dt.strftime(\"%Y-%m-%d %H:%M:%S\") + f\".{timestamp_nanoseconds}\")"
   ]
  }
 ],
 "metadata": {
  "kernelspec": {
   "display_name": "geo_env",
   "language": "python",
   "name": "python3"
  },
  "language_info": {
   "codemirror_mode": {
    "name": "ipython",
    "version": 3
   },
   "file_extension": ".py",
   "mimetype": "text/x-python",
   "name": "python",
   "nbconvert_exporter": "python",
   "pygments_lexer": "ipython3",
   "version": "3.10.6"
  },
  "orig_nbformat": 4
 },
 "nbformat": 4,
 "nbformat_minor": 2
}
