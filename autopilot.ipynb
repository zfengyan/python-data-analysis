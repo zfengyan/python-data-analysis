{
 "cells": [
  {
   "cell_type": "code",
   "execution_count": null,
   "metadata": {},
   "outputs": [],
   "source": [
    "# NOTE: Each time the Preprocessing.py is changed\n",
    "# the kernel must be re-started\n",
    "# load fixations file\n",
    "# import necessary packages\n",
    "\n",
    "import pandas as pd\n",
    "import datetime\n",
    "# from datetime import datetime\n",
    "import pytz # datetime and pytz is for converting the timestamp\n",
    "from Preprocessing import Preprocessing\n",
    "\n",
    "#file_path = 'data/fixations.csv'\n",
    "#df = pd.read_csv(file_path, delimiter=\";\")\n",
    "filename = 'fixations.csv'\n",
    "delimiter = ','\n",
    "df = Preprocessing.load_data_csv(filename, delimiter)"
   ]
  },
  {
   "cell_type": "code",
   "execution_count": null,
   "metadata": {},
   "outputs": [],
   "source": [
    "# function:\n",
    "# convert the original time stamp to a readable format\n",
    "# @input:\n",
    "# timestamp: int\n",
    "# e.g. 1683879584205738074 \n",
    "# @output: string\n",
    "# e.g. 2023-05-12 10:19:44.205738074\n",
    "\n",
    "def convert_time_stamp(timestamp:int) -> str:\n",
    "    timestamp_seconds = timestamp // 10**9 # Convert nanoseconds to seconds \n",
    "    # timestamp_nanoseconds = timestamp % 10**9 # Extract remaining nanoseconds \n",
    "\n",
    "    # Convert to datetime object \n",
    "    dt = datetime.datetime.utcfromtimestamp(timestamp_seconds) # a UTC datetime object\n",
    "\n",
    "    # Define the target time zone (UTC+2 for Europe)\n",
    "    target_timezone = pytz.timezone('Europe/Amsterdam')\n",
    "\n",
    "    # Localize the UTC datetime object to the target time zone\n",
    "    localized_dt = pytz.utc.localize(dt).astimezone(target_timezone)\n",
    "\n",
    "    # Normalize the datetime to handle DST adjustments\n",
    "    normalized_dt = target_timezone.normalize(localized_dt)\n",
    "\n",
    "    final_dt_string = normalized_dt.strftime(\"%Y-%m-%d %H:%M:%S\") # + f\".{timestamp_nanoseconds}\"\n",
    "    return final_dt_string\n",
    "\n",
    "# auto = convert_time_stamp(df['start timestamp [ns]'][0]) # 1683879584205738074\n",
    "# print(auto)\n"
   ]
  },
  {
   "cell_type": "code",
   "execution_count": null,
   "metadata": {},
   "outputs": [],
   "source": [
    "# convert the timestamp\n",
    "# input: dataframe before conversion\n",
    "# output: dataframe after conversion\n",
    "\n",
    "for index, row in df.iterrows():\n",
    "    # update timestamp - start\n",
    "    current_value = row['start timestamp [ns]'] # Access the value in the column for the current row, type: int    \n",
    "    modified_value = convert_time_stamp(current_value) # Modify the value as needed\n",
    "    df.at[index, 'start timestamp [ns]'] = modified_value  # Update the value in the column for the current row\n",
    "\n",
    "    # update timestamp - end\n",
    "    current_value = row['end timestamp [ns]']\n",
    "    modified_value = convert_time_stamp(current_value)\n",
    "    df.at[index, 'end timestamp [ns]'] = modified_value\n",
    "\n"
   ]
  },
  {
   "cell_type": "code",
   "execution_count": null,
   "metadata": {},
   "outputs": [],
   "source": [
    "# view df after the timestamp conversion\n",
    "df"
   ]
  },
  {
   "cell_type": "code",
   "execution_count": 23,
   "metadata": {},
   "outputs": [
    {
     "name": "stdout",
     "output_type": "stream",
     "text": [
      "5\n"
     ]
    }
   ],
   "source": [
    "# count the number of records between timestamp 1 and timestamp 2\n",
    "# e.g.\n",
    "# timestamp 1: 2023-05-12 10:19:44 (type: str)\n",
    "# timestamp 2: 2023-05-12 10:39:20 (type: str)\n",
    "# timestamp 1 and 2 may not exist in the dataset\n",
    "\n",
    "def count_records_with_start_timestamp(timestamp1:str, timestamp2:str) -> int:\n",
    "    # count the record\n",
    "    count = 0\n",
    "\n",
    "    # convert the parameter time1 and time2 from type string to type datetime (for comparison)\n",
    "    dt1 = datetime.datetime.strptime(timestamp1, \"%Y-%m-%d %H:%M:%S\")\n",
    "    dt2 = datetime.datetime.strptime(timestamp2, \"%Y-%m-%d %H:%M:%S\")\n",
    "\n",
    "    # iterate through each record\n",
    "    for index, row in df.iterrows():\n",
    "        converted_time = row['start timestamp [ns]'] # get the converted time, e.g. '2023-05-12 10:19:44'\n",
    "        dt = datetime.datetime.strptime(converted_time, \"%Y-%m-%d %H:%M:%S\") # convert the type string to type datetime\n",
    "        if(dt >= dt1 and dt <= dt2):\n",
    "            count += 1\n",
    "\n",
    "    return count\n",
    "\n",
    "print(count_records_with_start_timestamp('2023-05-12 10:19:44', '2023-05-12 10:19:45'))\n"
   ]
  },
  {
   "cell_type": "code",
   "execution_count": null,
   "metadata": {},
   "outputs": [],
   "source": [
    "# save/store the df to a csv file\n",
    "Preprocessing.save_data_csv(df, 'fixations_readable_timestamp.csv')"
   ]
  }
 ],
 "metadata": {
  "kernelspec": {
   "display_name": "geo_env",
   "language": "python",
   "name": "python3"
  },
  "language_info": {
   "codemirror_mode": {
    "name": "ipython",
    "version": 3
   },
   "file_extension": ".py",
   "mimetype": "text/x-python",
   "name": "python",
   "nbconvert_exporter": "python",
   "pygments_lexer": "ipython3",
   "version": "3.10.6"
  },
  "orig_nbformat": 4,
  "vscode": {
   "interpreter": {
    "hash": "b6656aa92867de04c70119335fc3c3a4596933397f2003359bd019dd745cffca"
   }
  }
 },
 "nbformat": 4,
 "nbformat_minor": 2
}
