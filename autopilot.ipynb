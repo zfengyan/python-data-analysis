{
 "cells": [
  {
   "cell_type": "code",
   "execution_count": 16,
   "metadata": {},
   "outputs": [
    {
     "name": "stdout",
     "output_type": "stream",
     "text": [
      "-- loading dataset ...\n",
      "-- found file \n",
      "-- done\n"
     ]
    }
   ],
   "source": [
    "import pandas as pd\n",
    "import datetime\n",
    "import pytz # datetime and pytz is for converting the timestamp\n",
    "from Preprocessing import Preprocessing\n",
    "\n",
    "#file_path = 'data/fixations.csv'\n",
    "#df = pd.read_csv(file_path, delimiter=\";\")\n",
    "filename = 'fixations.csv'\n",
    "delimiter = ','\n",
    "df = Preprocessing.load_data_csv(filename, delimiter)"
   ]
  },
  {
   "cell_type": "code",
   "execution_count": 53,
   "metadata": {},
   "outputs": [
    {
     "name": "stdout",
     "output_type": "stream",
     "text": [
      "2023-05-12 09:19:44.205738074\n"
     ]
    }
   ],
   "source": [
    "# 1906 records in total, access the elements: df['start timestamp [ns]'][0] ~ df['start timestamp [ns]'][1906]\n",
    "# df['end timestamp [ns]'][0] - df['start timestamp [ns]'][0]\n",
    "timestamp = 1683879584205738074 # df['start timestamp [ns]'][0]\n",
    "timestamp_seconds = timestamp // 10**9 # Convert nanoseconds to seconds \n",
    "timestamp_nanoseconds = timestamp % 10**9 # Extract remaining nanoseconds \n",
    "\n",
    "# Convert to datetime object \n",
    "dt = datetime.datetime.utcfromtimestamp(timestamp_seconds) # a UTC datetime object\n",
    "\n",
    "# Define the target time zone (UTC+2 for Europe)\n",
    "target_timezone = pytz.timezone('Europe/Amsterdam')\n",
    "\n",
    "# Localize the UTC datetime object to the target time zone\n",
    "localized_dt = pytz.utc.localize(dt).astimezone(target_timezone)\n",
    "\n",
    "# Normalize the datetime to handle DST adjustments\n",
    "normalized_dt = target_timezone.normalize(localized_dt)\n",
    "\n",
    "final_dt_string = normalized_dt.strftime(\"%Y-%m-%d %H:%M:%S\") + f\".{timestamp_nanoseconds}\"\n",
    "print(final_dt_string)"
   ]
  }
 ],
 "metadata": {
  "kernelspec": {
   "display_name": "geo_env",
   "language": "python",
   "name": "python3"
  },
  "language_info": {
   "codemirror_mode": {
    "name": "ipython",
    "version": 3
   },
   "file_extension": ".py",
   "mimetype": "text/x-python",
   "name": "python",
   "nbconvert_exporter": "python",
   "pygments_lexer": "ipython3",
   "version": "3.10.6"
  },
  "orig_nbformat": 4
 },
 "nbformat": 4,
 "nbformat_minor": 2
}
