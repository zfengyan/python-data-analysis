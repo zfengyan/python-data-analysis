{
 "cells": [
  {
   "attachments": {},
   "cell_type": "markdown",
   "metadata": {},
   "source": [
    "NOTE: Each time the Preprocessing.py is changed\n",
    "the kernel must be re-started"
   ]
  },
  {
   "attachments": {},
   "cell_type": "markdown",
   "metadata": {},
   "source": [
    "load fixations file\n",
    "import necessary packages"
   ]
  },
  {
   "cell_type": "code",
   "execution_count": 1,
   "metadata": {},
   "outputs": [
    {
     "name": "stdout",
     "output_type": "stream",
     "text": [
      "-- loading dataset ...\n",
      "-- found file \n",
      "-- done\n"
     ]
    }
   ],
   "source": [
    "import pandas as pd\n",
    "import datetime\n",
    "# from datetime import datetime\n",
    "import pytz # datetime and pytz is for converting the timestamp\n",
    "from Preprocessing import Preprocessing\n",
    "\n",
    "#file_path = 'data/fixations.csv'\n",
    "#df = pd.read_csv(file_path, delimiter=\";\")\n",
    "filename = 'fixations.csv'\n",
    "delimiter = ','\n",
    "df = Preprocessing.load_data_csv(filename, delimiter)"
   ]
  },
  {
   "attachments": {},
   "cell_type": "markdown",
   "metadata": {},
   "source": [
    "function:\n",
    "convert the original time stamp to a readable format\n",
    "@input:\n",
    "timestamp: int\n",
    "e.g. 1683879584205738074 \n",
    "@output: string\n",
    "e.g. 2023-05-12 10:19:44.205738074\n"
   ]
  },
  {
   "cell_type": "code",
   "execution_count": 2,
   "metadata": {},
   "outputs": [],
   "source": [
    "def convert_time_stamp(timestamp:int) -> str:\n",
    "    timestamp_seconds = timestamp // 10**9 # Convert nanoseconds to seconds \n",
    "    # timestamp_nanoseconds = timestamp % 10**9 # Extract remaining nanoseconds \n",
    "\n",
    "    # Convert to datetime object \n",
    "    dt = datetime.datetime.utcfromtimestamp(timestamp_seconds) # a UTC datetime object\n",
    "\n",
    "    # Define the target time zone (UTC+2 for Europe)\n",
    "    target_timezone = pytz.timezone('Europe/Amsterdam')\n",
    "\n",
    "    # Localize the UTC datetime object to the target time zone\n",
    "    localized_dt = pytz.utc.localize(dt).astimezone(target_timezone)\n",
    "\n",
    "    # Normalize the datetime to handle DST adjustments\n",
    "    normalized_dt = target_timezone.normalize(localized_dt)\n",
    "\n",
    "    final_dt_string = normalized_dt.strftime(\"%Y-%m-%d %H:%M:%S\") # + f\".{timestamp_nanoseconds}\"\n",
    "    return final_dt_string\n",
    "\n",
    "# auto = convert_time_stamp(df['start timestamp [ns]'][0]) # 1683879584205738074\n",
    "# print(auto)\n"
   ]
  },
  {
   "attachments": {},
   "cell_type": "markdown",
   "metadata": {},
   "source": [
    "convert the timestamp\n",
    "input: dataframe before conversion\n",
    "output: dataframe after conversion"
   ]
  },
  {
   "cell_type": "code",
   "execution_count": 3,
   "metadata": {},
   "outputs": [],
   "source": [
    "for index, row in df.iterrows():\n",
    "    # update timestamp - start\n",
    "    current_value = row['start timestamp [ns]'] # Access the value in the column for the current row, type: int    \n",
    "    modified_value = convert_time_stamp(current_value) # Modify the value as needed\n",
    "    df.at[index, 'start timestamp [ns]'] = modified_value  # Update the value in the column for the current row\n",
    "\n",
    "    # update timestamp - end\n",
    "    current_value = row['end timestamp [ns]']\n",
    "    modified_value = convert_time_stamp(current_value)\n",
    "    df.at[index, 'end timestamp [ns]'] = modified_value\n",
    "\n"
   ]
  },
  {
   "cell_type": "markdown",
   "metadata": {},
   "source": [
    "view df after the timestamp conversion\n"
   ]
  },
  {
   "cell_type": "code",
   "execution_count": null,
   "metadata": {},
   "outputs": [],
   "source": [
    "df"
   ]
  },
  {
   "cell_type": "markdown",
   "metadata": {},
   "source": [
    "count the number of records between timestamp 1 and timestamp 2\n",
    "e.g.\n",
    "timestamp 1: 2023-05-12 10:19:44 (type: str)\n",
    "timestamp 2: 2023-05-12 10:39:20 (type: str)\n",
    "timestamp 1 and 2 may not exist in the dataset"
   ]
  },
  {
   "cell_type": "code",
   "execution_count": null,
   "metadata": {},
   "outputs": [],
   "source": [
    "def count_records_with_start_timestamp(time1:str, time2:str) -> int:\n",
    "    index_a = df.loc[df['start timestamp [ns]'] == time1].index[0]\n",
    "    index_b = df.loc[df['start timestamp [ns]'] == time2].index[0]\n",
    "    return(index_b - index_a + 1)"
   ]
  },
  {
   "cell_type": "code",
   "execution_count": 4,
   "metadata": {},
   "outputs": [
    {
     "name": "stdout",
     "output_type": "stream",
     "text": [
      "True\n"
     ]
    }
   ],
   "source": [
    "timestamp1 = '2023-05-12 10:19:44'\n",
    "timestamp2 = '2023-05-12 10:19:44'\n",
    "dt1 = datetime.datetime.strptime(timestamp1, \"%Y-%m-%d %H:%M:%S\") # convert the strings to datetime objects\n",
    "dt2 = datetime.datetime.strptime(timestamp2, \"%Y-%m-%d %H:%M:%S\")\n",
    "print(dt1>= dt2)\n"
   ]
  },
  {
   "cell_type": "markdown",
   "metadata": {},
   "source": [
    "save/store the df to a csv file"
   ]
  },
  {
   "cell_type": "code",
   "execution_count": null,
   "metadata": {},
   "outputs": [],
   "source": [
    "Preprocessing.save_data_csv(df, 'fixations_readable_timestamp.csv')"
   ]
  }
 ],
 "metadata": {
  "kernelspec": {
   "display_name": "geo_env",
   "language": "python",
   "name": "python3"
  },
  "language_info": {
   "codemirror_mode": {
    "name": "ipython",
    "version": 3
   },
   "file_extension": ".py",
   "mimetype": "text/x-python",
   "name": "python",
   "nbconvert_exporter": "python",
   "pygments_lexer": "ipython3",
   "version": "3.10.6"
  },
  "orig_nbformat": 4,
  "vscode": {
   "interpreter": {
    "hash": "b6656aa92867de04c70119335fc3c3a4596933397f2003359bd019dd745cffca"
   }
  }
 },
 "nbformat": 4,
 "nbformat_minor": 2
}
