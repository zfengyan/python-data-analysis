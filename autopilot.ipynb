{
 "cells": [
  {
   "attachments": {},
   "cell_type": "markdown",
   "metadata": {},
   "source": [
    "NOTE: Each time the Preprocessing.py is changed\n",
    "the kernel must be re-started"
   ]
  },
  {
   "attachments": {},
   "cell_type": "markdown",
   "metadata": {},
   "source": [
    "load fixations file\n",
    "import necessary packages"
   ]
  },
  {
   "cell_type": "code",
   "execution_count": 10,
   "metadata": {},
   "outputs": [
    {
     "name": "stdout",
     "output_type": "stream",
     "text": [
      "-- loading dataset ...\n",
      "-- found file \n",
      "-- done\n"
     ]
    }
   ],
   "source": [
    "import pandas as pd\n",
    "import datetime\n",
    "# from datetime import datetime\n",
    "import pytz # datetime and pytz is for converting the timestamp\n",
    "from Preprocessing import Preprocessing\n",
    "\n",
    "#file_path = 'data/fixations.csv'\n",
    "#df = pd.read_csv(file_path, delimiter=\";\")\n",
    "filename = 'fixations.csv'\n",
    "delimiter = ','\n",
    "df = Preprocessing.load_data_csv(filename, delimiter)"
   ]
  },
  {
   "attachments": {},
   "cell_type": "markdown",
   "metadata": {},
   "source": [
    "function:\n",
    "convert the original time stamp to a readable format\n",
    "@input:\n",
    "timestamp: int\n",
    "e.g. 1683879584205738074 \n",
    "@output: string\n",
    "e.g. 2023-05-12 10:19:44.205738074\n"
   ]
  },
  {
   "cell_type": "code",
   "execution_count": 11,
   "metadata": {},
   "outputs": [],
   "source": [
    "def convert_time_stamp(timestamp:int) -> str:\n",
    "    timestamp_seconds = timestamp // 10**9 # Convert nanoseconds to seconds \n",
    "    # timestamp_nanoseconds = timestamp % 10**9 # Extract remaining nanoseconds \n",
    "\n",
    "    # Convert to datetime object \n",
    "    dt = datetime.datetime.utcfromtimestamp(timestamp_seconds) # a UTC datetime object\n",
    "\n",
    "    # Define the target time zone (UTC+2 for Europe)\n",
    "    target_timezone = pytz.timezone('Europe/Amsterdam')\n",
    "\n",
    "    # Localize the UTC datetime object to the target time zone\n",
    "    localized_dt = pytz.utc.localize(dt).astimezone(target_timezone)\n",
    "\n",
    "    # Normalize the datetime to handle DST adjustments\n",
    "    normalized_dt = target_timezone.normalize(localized_dt)\n",
    "\n",
    "    final_dt_string = normalized_dt.strftime(\"%Y-%m-%d %H:%M:%S\") # + f\".{timestamp_nanoseconds}\"\n",
    "    return final_dt_string\n",
    "\n",
    "# auto = convert_time_stamp(df['start timestamp [ns]'][0]) # 1683879584205738074\n",
    "# print(auto)\n"
   ]
  },
  {
   "attachments": {},
   "cell_type": "markdown",
   "metadata": {},
   "source": [
    "convert the timestamp\n",
    "input: dataframe before conversion\n",
    "output: dataframe after conversion"
   ]
  },
  {
   "cell_type": "code",
   "execution_count": 12,
   "metadata": {},
   "outputs": [],
   "source": [
    "for index, row in df.iterrows():\n",
    "    # update timestamp - start\n",
    "    current_value = row['start timestamp [ns]'] # Access the value in the column for the current row, type: int    \n",
    "    modified_value = convert_time_stamp(current_value) # Modify the value as needed\n",
    "    df.at[index, 'start timestamp [ns]'] = modified_value  # Update the value in the column for the current row\n",
    "\n",
    "    # update timestamp - end\n",
    "    current_value = row['end timestamp [ns]']\n",
    "    modified_value = convert_time_stamp(current_value)\n",
    "    df.at[index, 'end timestamp [ns]'] = modified_value\n",
    "\n"
   ]
  },
  {
   "cell_type": "markdown",
   "metadata": {},
   "source": [
    "view df after the timestamp conversion\n"
   ]
  },
  {
   "cell_type": "code",
   "execution_count": 13,
   "metadata": {},
   "outputs": [
    {
     "data": {
      "text/html": [
       "<div>\n",
       "<style scoped>\n",
       "    .dataframe tbody tr th:only-of-type {\n",
       "        vertical-align: middle;\n",
       "    }\n",
       "\n",
       "    .dataframe tbody tr th {\n",
       "        vertical-align: top;\n",
       "    }\n",
       "\n",
       "    .dataframe thead th {\n",
       "        text-align: right;\n",
       "    }\n",
       "</style>\n",
       "<table border=\"1\" class=\"dataframe\">\n",
       "  <thead>\n",
       "    <tr style=\"text-align: right;\">\n",
       "      <th></th>\n",
       "      <th>section id</th>\n",
       "      <th>recording id</th>\n",
       "      <th>fixation id</th>\n",
       "      <th>start timestamp [ns]</th>\n",
       "      <th>end timestamp [ns]</th>\n",
       "      <th>duration [ms]</th>\n",
       "      <th>fixation x [px]</th>\n",
       "      <th>fixation y [px]</th>\n",
       "      <th>azimuth [deg]</th>\n",
       "      <th>elevation [deg]</th>\n",
       "    </tr>\n",
       "  </thead>\n",
       "  <tbody>\n",
       "    <tr>\n",
       "      <th>0</th>\n",
       "      <td>b84e95f2-6d8b-40e5-ab30-af27b867a839</td>\n",
       "      <td>4bbf62fc-71fc-407c-8dd6-d476f6542689</td>\n",
       "      <td>1</td>\n",
       "      <td>2023-05-12 10:19:44</td>\n",
       "      <td>2023-05-12 10:19:44</td>\n",
       "      <td>196</td>\n",
       "      <td>577.646</td>\n",
       "      <td>477.851</td>\n",
       "      <td>1.718600</td>\n",
       "      <td>3.229121</td>\n",
       "    </tr>\n",
       "    <tr>\n",
       "      <th>1</th>\n",
       "      <td>b84e95f2-6d8b-40e5-ab30-af27b867a839</td>\n",
       "      <td>4bbf62fc-71fc-407c-8dd6-d476f6542689</td>\n",
       "      <td>2</td>\n",
       "      <td>2023-05-12 10:19:44</td>\n",
       "      <td>2023-05-12 10:19:44</td>\n",
       "      <td>475</td>\n",
       "      <td>418.252</td>\n",
       "      <td>451.261</td>\n",
       "      <td>-10.260214</td>\n",
       "      <td>5.196947</td>\n",
       "    </tr>\n",
       "    <tr>\n",
       "      <th>2</th>\n",
       "      <td>b84e95f2-6d8b-40e5-ab30-af27b867a839</td>\n",
       "      <td>4bbf62fc-71fc-407c-8dd6-d476f6542689</td>\n",
       "      <td>3</td>\n",
       "      <td>2023-05-12 10:19:44</td>\n",
       "      <td>2023-05-12 10:19:45</td>\n",
       "      <td>232</td>\n",
       "      <td>583.694</td>\n",
       "      <td>536.609</td>\n",
       "      <td>2.170390</td>\n",
       "      <td>-1.179995</td>\n",
       "    </tr>\n",
       "    <tr>\n",
       "      <th>3</th>\n",
       "      <td>b84e95f2-6d8b-40e5-ab30-af27b867a839</td>\n",
       "      <td>4bbf62fc-71fc-407c-8dd6-d476f6542689</td>\n",
       "      <td>4</td>\n",
       "      <td>2023-05-12 10:19:45</td>\n",
       "      <td>2023-05-12 10:19:45</td>\n",
       "      <td>311</td>\n",
       "      <td>651.299</td>\n",
       "      <td>458.259</td>\n",
       "      <td>7.258155</td>\n",
       "      <td>4.688697</td>\n",
       "    </tr>\n",
       "    <tr>\n",
       "      <th>4</th>\n",
       "      <td>b84e95f2-6d8b-40e5-ab30-af27b867a839</td>\n",
       "      <td>4bbf62fc-71fc-407c-8dd6-d476f6542689</td>\n",
       "      <td>5</td>\n",
       "      <td>2023-05-12 10:19:45</td>\n",
       "      <td>2023-05-12 10:19:45</td>\n",
       "      <td>272</td>\n",
       "      <td>584.164</td>\n",
       "      <td>448.699</td>\n",
       "      <td>2.212494</td>\n",
       "      <td>5.416615</td>\n",
       "    </tr>\n",
       "    <tr>\n",
       "      <th>...</th>\n",
       "      <td>...</td>\n",
       "      <td>...</td>\n",
       "      <td>...</td>\n",
       "      <td>...</td>\n",
       "      <td>...</td>\n",
       "      <td>...</td>\n",
       "      <td>...</td>\n",
       "      <td>...</td>\n",
       "      <td>...</td>\n",
       "      <td>...</td>\n",
       "    </tr>\n",
       "    <tr>\n",
       "      <th>1902</th>\n",
       "      <td>b84e95f2-6d8b-40e5-ab30-af27b867a839</td>\n",
       "      <td>4bbf62fc-71fc-407c-8dd6-d476f6542689</td>\n",
       "      <td>1903</td>\n",
       "      <td>2023-05-12 10:39:19</td>\n",
       "      <td>2023-05-12 10:39:19</td>\n",
       "      <td>200</td>\n",
       "      <td>443.826</td>\n",
       "      <td>374.293</td>\n",
       "      <td>-8.418634</td>\n",
       "      <td>10.962983</td>\n",
       "    </tr>\n",
       "    <tr>\n",
       "      <th>1903</th>\n",
       "      <td>b84e95f2-6d8b-40e5-ab30-af27b867a839</td>\n",
       "      <td>4bbf62fc-71fc-407c-8dd6-d476f6542689</td>\n",
       "      <td>1904</td>\n",
       "      <td>2023-05-12 10:39:20</td>\n",
       "      <td>2023-05-12 10:39:20</td>\n",
       "      <td>208</td>\n",
       "      <td>411.314</td>\n",
       "      <td>381.008</td>\n",
       "      <td>-10.873152</td>\n",
       "      <td>10.435651</td>\n",
       "    </tr>\n",
       "    <tr>\n",
       "      <th>1904</th>\n",
       "      <td>b84e95f2-6d8b-40e5-ab30-af27b867a839</td>\n",
       "      <td>4bbf62fc-71fc-407c-8dd6-d476f6542689</td>\n",
       "      <td>1905</td>\n",
       "      <td>2023-05-12 10:39:20</td>\n",
       "      <td>2023-05-12 10:39:20</td>\n",
       "      <td>103</td>\n",
       "      <td>397.940</td>\n",
       "      <td>393.011</td>\n",
       "      <td>-11.864504</td>\n",
       "      <td>9.528996</td>\n",
       "    </tr>\n",
       "    <tr>\n",
       "      <th>1905</th>\n",
       "      <td>b84e95f2-6d8b-40e5-ab30-af27b867a839</td>\n",
       "      <td>4bbf62fc-71fc-407c-8dd6-d476f6542689</td>\n",
       "      <td>1906</td>\n",
       "      <td>2023-05-12 10:39:20</td>\n",
       "      <td>2023-05-12 10:39:20</td>\n",
       "      <td>528</td>\n",
       "      <td>456.456</td>\n",
       "      <td>364.362</td>\n",
       "      <td>-7.473265</td>\n",
       "      <td>11.714923</td>\n",
       "    </tr>\n",
       "    <tr>\n",
       "      <th>1906</th>\n",
       "      <td>b84e95f2-6d8b-40e5-ab30-af27b867a839</td>\n",
       "      <td>4bbf62fc-71fc-407c-8dd6-d476f6542689</td>\n",
       "      <td>1907</td>\n",
       "      <td>2023-05-12 10:39:20</td>\n",
       "      <td>2023-05-12 10:39:21</td>\n",
       "      <td>108</td>\n",
       "      <td>399.399</td>\n",
       "      <td>349.972</td>\n",
       "      <td>-11.842226</td>\n",
       "      <td>12.738805</td>\n",
       "    </tr>\n",
       "  </tbody>\n",
       "</table>\n",
       "<p>1907 rows × 10 columns</p>\n",
       "</div>"
      ],
      "text/plain": [
       "                                section id  \\\n",
       "0     b84e95f2-6d8b-40e5-ab30-af27b867a839   \n",
       "1     b84e95f2-6d8b-40e5-ab30-af27b867a839   \n",
       "2     b84e95f2-6d8b-40e5-ab30-af27b867a839   \n",
       "3     b84e95f2-6d8b-40e5-ab30-af27b867a839   \n",
       "4     b84e95f2-6d8b-40e5-ab30-af27b867a839   \n",
       "...                                    ...   \n",
       "1902  b84e95f2-6d8b-40e5-ab30-af27b867a839   \n",
       "1903  b84e95f2-6d8b-40e5-ab30-af27b867a839   \n",
       "1904  b84e95f2-6d8b-40e5-ab30-af27b867a839   \n",
       "1905  b84e95f2-6d8b-40e5-ab30-af27b867a839   \n",
       "1906  b84e95f2-6d8b-40e5-ab30-af27b867a839   \n",
       "\n",
       "                              recording id  fixation id start timestamp [ns]  \\\n",
       "0     4bbf62fc-71fc-407c-8dd6-d476f6542689            1  2023-05-12 10:19:44   \n",
       "1     4bbf62fc-71fc-407c-8dd6-d476f6542689            2  2023-05-12 10:19:44   \n",
       "2     4bbf62fc-71fc-407c-8dd6-d476f6542689            3  2023-05-12 10:19:44   \n",
       "3     4bbf62fc-71fc-407c-8dd6-d476f6542689            4  2023-05-12 10:19:45   \n",
       "4     4bbf62fc-71fc-407c-8dd6-d476f6542689            5  2023-05-12 10:19:45   \n",
       "...                                    ...          ...                  ...   \n",
       "1902  4bbf62fc-71fc-407c-8dd6-d476f6542689         1903  2023-05-12 10:39:19   \n",
       "1903  4bbf62fc-71fc-407c-8dd6-d476f6542689         1904  2023-05-12 10:39:20   \n",
       "1904  4bbf62fc-71fc-407c-8dd6-d476f6542689         1905  2023-05-12 10:39:20   \n",
       "1905  4bbf62fc-71fc-407c-8dd6-d476f6542689         1906  2023-05-12 10:39:20   \n",
       "1906  4bbf62fc-71fc-407c-8dd6-d476f6542689         1907  2023-05-12 10:39:20   \n",
       "\n",
       "       end timestamp [ns]  duration [ms]  fixation x [px]  fixation y [px]  \\\n",
       "0     2023-05-12 10:19:44            196          577.646          477.851   \n",
       "1     2023-05-12 10:19:44            475          418.252          451.261   \n",
       "2     2023-05-12 10:19:45            232          583.694          536.609   \n",
       "3     2023-05-12 10:19:45            311          651.299          458.259   \n",
       "4     2023-05-12 10:19:45            272          584.164          448.699   \n",
       "...                   ...            ...              ...              ...   \n",
       "1902  2023-05-12 10:39:19            200          443.826          374.293   \n",
       "1903  2023-05-12 10:39:20            208          411.314          381.008   \n",
       "1904  2023-05-12 10:39:20            103          397.940          393.011   \n",
       "1905  2023-05-12 10:39:20            528          456.456          364.362   \n",
       "1906  2023-05-12 10:39:21            108          399.399          349.972   \n",
       "\n",
       "      azimuth [deg]  elevation [deg]  \n",
       "0          1.718600         3.229121  \n",
       "1        -10.260214         5.196947  \n",
       "2          2.170390        -1.179995  \n",
       "3          7.258155         4.688697  \n",
       "4          2.212494         5.416615  \n",
       "...             ...              ...  \n",
       "1902      -8.418634        10.962983  \n",
       "1903     -10.873152        10.435651  \n",
       "1904     -11.864504         9.528996  \n",
       "1905      -7.473265        11.714923  \n",
       "1906     -11.842226        12.738805  \n",
       "\n",
       "[1907 rows x 10 columns]"
      ]
     },
     "execution_count": 13,
     "metadata": {},
     "output_type": "execute_result"
    }
   ],
   "source": [
    "df"
   ]
  },
  {
   "cell_type": "markdown",
   "metadata": {},
   "source": [
    "count the number of records between timestamp 1 and timestamp 2\n",
    "e.g.\n",
    "timestamp 1: 2023-05-12 10:19:44 (type: str)\n",
    "timestamp 2: 2023-05-12 10:39:20 (type: str)\n",
    "there are 3 records between these two timestamps (including timestamp 1 and 2)"
   ]
  },
  {
   "cell_type": "code",
   "execution_count": 13,
   "metadata": {},
   "outputs": [],
   "source": [
    "def count_records_with_start_timestamp(time1:str, time2:str) -> int:\n",
    "    index_a = df.loc[df['start timestamp [ns]'] == time1].index[0]\n",
    "    index_b = df.loc[df['start timestamp [ns]'] == time2].index[0]\n",
    "    return(index_b - index_a + 1)"
   ]
  },
  {
   "cell_type": "code",
   "execution_count": 18,
   "metadata": {},
   "outputs": [
    {
     "name": "stdout",
     "output_type": "stream",
     "text": [
      "True\n"
     ]
    }
   ],
   "source": [
    "timestamp1 = '2023-05-12 10:19:44'\n",
    "timestamp2 = '2023-05-12 10:19:44'\n",
    "dt1 = datetime.datetime.strptime(timestamp1, \"%Y-%m-%d %H:%M:%S\") # convert the strings to datetime objects\n",
    "dt2 = datetime.datetime.strptime(timestamp2, \"%Y-%m-%d %H:%M:%S\")\n",
    "print(dt1>= dt2)\n"
   ]
  },
  {
   "cell_type": "markdown",
   "metadata": {},
   "source": [
    "save/store the df to a csv file"
   ]
  },
  {
   "cell_type": "code",
   "execution_count": null,
   "metadata": {},
   "outputs": [],
   "source": [
    "Preprocessing.save_data_csv(df, 'fixations_readable_timestamp.csv')"
   ]
  }
 ],
 "metadata": {
  "kernelspec": {
   "display_name": "geo_env",
   "language": "python",
   "name": "python3"
  },
  "language_info": {
   "codemirror_mode": {
    "name": "ipython",
    "version": 3
   },
   "file_extension": ".py",
   "mimetype": "text/x-python",
   "name": "python",
   "nbconvert_exporter": "python",
   "pygments_lexer": "ipython3",
   "version": "3.10.6"
  },
  "orig_nbformat": 4,
  "vscode": {
   "interpreter": {
    "hash": "b6656aa92867de04c70119335fc3c3a4596933397f2003359bd019dd745cffca"
   }
  }
 },
 "nbformat": 4,
 "nbformat_minor": 2
}
