{
 "cells": [
  {
   "cell_type": "code",
   "execution_count": 1,
   "metadata": {},
   "outputs": [
    {
     "name": "stdout",
     "output_type": "stream",
     "text": [
      "-- loading dataset ...\n",
      "-- found file \n",
      "-- done\n"
     ]
    },
    {
     "data": {
      "text/html": [
       "<div>\n",
       "<style scoped>\n",
       "    .dataframe tbody tr th:only-of-type {\n",
       "        vertical-align: middle;\n",
       "    }\n",
       "\n",
       "    .dataframe tbody tr th {\n",
       "        vertical-align: top;\n",
       "    }\n",
       "\n",
       "    .dataframe thead th {\n",
       "        text-align: right;\n",
       "    }\n",
       "</style>\n",
       "<table border=\"1\" class=\"dataframe\">\n",
       "  <thead>\n",
       "    <tr style=\"text-align: right;\">\n",
       "      <th></th>\n",
       "      <th>Populatie</th>\n",
       "      <th>Geslacht</th>\n",
       "      <th>Persoonskenmerken</th>\n",
       "      <th>Reismotieven</th>\n",
       "      <th>Marges</th>\n",
       "      <th>Perioden</th>\n",
       "      <th>Regio's</th>\n",
       "      <th>Gemiddeld per persoon per dag /Verplaatsingen  (aantal)</th>\n",
       "      <th>Gemiddeld per persoon per dag /Afstand  (reizigerskilometers)</th>\n",
       "      <th>Gemiddeld per persoon per dag /Reisduur (minuten)</th>\n",
       "    </tr>\n",
       "  </thead>\n",
       "  <tbody>\n",
       "    <tr>\n",
       "      <th>0</th>\n",
       "      <td>Populatie: 6 jaar of ouder</td>\n",
       "      <td>Totaal mannen en vrouwen</td>\n",
       "      <td>Totaal personen</td>\n",
       "      <td>Totaal</td>\n",
       "      <td>Waarde</td>\n",
       "      <td>2018</td>\n",
       "      <td>Nederland</td>\n",
       "      <td>2.78</td>\n",
       "      <td>36.16</td>\n",
       "      <td>74.60</td>\n",
       "    </tr>\n",
       "    <tr>\n",
       "      <th>1</th>\n",
       "      <td>Populatie: 6 jaar of ouder</td>\n",
       "      <td>Totaal mannen en vrouwen</td>\n",
       "      <td>Totaal personen</td>\n",
       "      <td>Totaal</td>\n",
       "      <td>Waarde</td>\n",
       "      <td>2019</td>\n",
       "      <td>Nederland</td>\n",
       "      <td>2.71</td>\n",
       "      <td>36.00</td>\n",
       "      <td>74.39</td>\n",
       "    </tr>\n",
       "    <tr>\n",
       "      <th>2</th>\n",
       "      <td>Populatie: 6 jaar of ouder</td>\n",
       "      <td>Totaal mannen en vrouwen</td>\n",
       "      <td>Totaal personen</td>\n",
       "      <td>Totaal</td>\n",
       "      <td>Waarde</td>\n",
       "      <td>2020</td>\n",
       "      <td>Nederland</td>\n",
       "      <td>2.35</td>\n",
       "      <td>24.88</td>\n",
       "      <td>61.96</td>\n",
       "    </tr>\n",
       "    <tr>\n",
       "      <th>3</th>\n",
       "      <td>Populatie: 6 jaar of ouder</td>\n",
       "      <td>Totaal mannen en vrouwen</td>\n",
       "      <td>Totaal personen</td>\n",
       "      <td>Totaal</td>\n",
       "      <td>Waarde</td>\n",
       "      <td>2021</td>\n",
       "      <td>Nederland</td>\n",
       "      <td>2.51</td>\n",
       "      <td>27.24</td>\n",
       "      <td>69.85</td>\n",
       "    </tr>\n",
       "    <tr>\n",
       "      <th>4</th>\n",
       "      <td>Populatie: 6 jaar of ouder</td>\n",
       "      <td>Totaal mannen en vrouwen</td>\n",
       "      <td>Totaal personen</td>\n",
       "      <td>Van en naar het werk</td>\n",
       "      <td>Waarde</td>\n",
       "      <td>2018</td>\n",
       "      <td>Nederland</td>\n",
       "      <td>0.55</td>\n",
       "      <td>10.55</td>\n",
       "      <td>16.24</td>\n",
       "    </tr>\n",
       "    <tr>\n",
       "      <th>...</th>\n",
       "      <td>...</td>\n",
       "      <td>...</td>\n",
       "      <td>...</td>\n",
       "      <td>...</td>\n",
       "      <td>...</td>\n",
       "      <td>...</td>\n",
       "      <td>...</td>\n",
       "      <td>...</td>\n",
       "      <td>...</td>\n",
       "      <td>...</td>\n",
       "    </tr>\n",
       "    <tr>\n",
       "      <th>835</th>\n",
       "      <td>Populatie: 6 jaar of ouder</td>\n",
       "      <td>Vrouwen</td>\n",
       "      <td>Geen rijbewijs; jonger dan 17 jaar</td>\n",
       "      <td>Totaal</td>\n",
       "      <td>Waarde</td>\n",
       "      <td>2021</td>\n",
       "      <td>Nederland</td>\n",
       "      <td>2.66</td>\n",
       "      <td>16.60</td>\n",
       "      <td>66.09</td>\n",
       "    </tr>\n",
       "    <tr>\n",
       "      <th>836</th>\n",
       "      <td>Populatie: 6 jaar of ouder</td>\n",
       "      <td>Vrouwen</td>\n",
       "      <td>Geen rijbewijs; jonger dan 17 jaar</td>\n",
       "      <td>Van en naar het werk</td>\n",
       "      <td>Waarde</td>\n",
       "      <td>2018</td>\n",
       "      <td>Nederland</td>\n",
       "      <td>0.08</td>\n",
       "      <td>0.36</td>\n",
       "      <td>1.27</td>\n",
       "    </tr>\n",
       "    <tr>\n",
       "      <th>837</th>\n",
       "      <td>Populatie: 6 jaar of ouder</td>\n",
       "      <td>Vrouwen</td>\n",
       "      <td>Geen rijbewijs; jonger dan 17 jaar</td>\n",
       "      <td>Van en naar het werk</td>\n",
       "      <td>Waarde</td>\n",
       "      <td>2019</td>\n",
       "      <td>Nederland</td>\n",
       "      <td>0.06</td>\n",
       "      <td>0.22</td>\n",
       "      <td>0.93</td>\n",
       "    </tr>\n",
       "    <tr>\n",
       "      <th>838</th>\n",
       "      <td>Populatie: 6 jaar of ouder</td>\n",
       "      <td>Vrouwen</td>\n",
       "      <td>Geen rijbewijs; jonger dan 17 jaar</td>\n",
       "      <td>Van en naar het werk</td>\n",
       "      <td>Waarde</td>\n",
       "      <td>2020</td>\n",
       "      <td>Nederland</td>\n",
       "      <td>0.06</td>\n",
       "      <td>0.16</td>\n",
       "      <td>0.79</td>\n",
       "    </tr>\n",
       "    <tr>\n",
       "      <th>839</th>\n",
       "      <td>Populatie: 6 jaar of ouder</td>\n",
       "      <td>Vrouwen</td>\n",
       "      <td>Geen rijbewijs; jonger dan 17 jaar</td>\n",
       "      <td>Van en naar het werk</td>\n",
       "      <td>Waarde</td>\n",
       "      <td>2021</td>\n",
       "      <td>Nederland</td>\n",
       "      <td>0.06</td>\n",
       "      <td>0.23</td>\n",
       "      <td>0.96</td>\n",
       "    </tr>\n",
       "  </tbody>\n",
       "</table>\n",
       "<p>840 rows × 10 columns</p>\n",
       "</div>"
      ],
      "text/plain": [
       "                      Populatie                  Geslacht  \\\n",
       "0    Populatie: 6 jaar of ouder  Totaal mannen en vrouwen   \n",
       "1    Populatie: 6 jaar of ouder  Totaal mannen en vrouwen   \n",
       "2    Populatie: 6 jaar of ouder  Totaal mannen en vrouwen   \n",
       "3    Populatie: 6 jaar of ouder  Totaal mannen en vrouwen   \n",
       "4    Populatie: 6 jaar of ouder  Totaal mannen en vrouwen   \n",
       "..                          ...                       ...   \n",
       "835  Populatie: 6 jaar of ouder                   Vrouwen   \n",
       "836  Populatie: 6 jaar of ouder                   Vrouwen   \n",
       "837  Populatie: 6 jaar of ouder                   Vrouwen   \n",
       "838  Populatie: 6 jaar of ouder                   Vrouwen   \n",
       "839  Populatie: 6 jaar of ouder                   Vrouwen   \n",
       "\n",
       "                      Persoonskenmerken          Reismotieven  Marges  \\\n",
       "0                       Totaal personen                Totaal  Waarde   \n",
       "1                       Totaal personen                Totaal  Waarde   \n",
       "2                       Totaal personen                Totaal  Waarde   \n",
       "3                       Totaal personen                Totaal  Waarde   \n",
       "4                       Totaal personen  Van en naar het werk  Waarde   \n",
       "..                                  ...                   ...     ...   \n",
       "835  Geen rijbewijs; jonger dan 17 jaar                Totaal  Waarde   \n",
       "836  Geen rijbewijs; jonger dan 17 jaar  Van en naar het werk  Waarde   \n",
       "837  Geen rijbewijs; jonger dan 17 jaar  Van en naar het werk  Waarde   \n",
       "838  Geen rijbewijs; jonger dan 17 jaar  Van en naar het werk  Waarde   \n",
       "839  Geen rijbewijs; jonger dan 17 jaar  Van en naar het werk  Waarde   \n",
       "\n",
       "     Perioden    Regio's  \\\n",
       "0        2018  Nederland   \n",
       "1        2019  Nederland   \n",
       "2        2020  Nederland   \n",
       "3        2021  Nederland   \n",
       "4        2018  Nederland   \n",
       "..        ...        ...   \n",
       "835      2021  Nederland   \n",
       "836      2018  Nederland   \n",
       "837      2019  Nederland   \n",
       "838      2020  Nederland   \n",
       "839      2021  Nederland   \n",
       "\n",
       "    Gemiddeld per persoon per dag /Verplaatsingen  (aantal)  \\\n",
       "0                                                 2.78        \n",
       "1                                                 2.71        \n",
       "2                                                 2.35        \n",
       "3                                                 2.51        \n",
       "4                                                 0.55        \n",
       "..                                                 ...        \n",
       "835                                               2.66        \n",
       "836                                               0.08        \n",
       "837                                               0.06        \n",
       "838                                               0.06        \n",
       "839                                               0.06        \n",
       "\n",
       "    Gemiddeld per persoon per dag /Afstand  (reizigerskilometers)  \\\n",
       "0                                                36.16              \n",
       "1                                                36.00              \n",
       "2                                                24.88              \n",
       "3                                                27.24              \n",
       "4                                                10.55              \n",
       "..                                                 ...              \n",
       "835                                              16.60              \n",
       "836                                               0.36              \n",
       "837                                               0.22              \n",
       "838                                               0.16              \n",
       "839                                               0.23              \n",
       "\n",
       "    Gemiddeld per persoon per dag /Reisduur (minuten)  \n",
       "0                                               74.60  \n",
       "1                                               74.39  \n",
       "2                                               61.96  \n",
       "3                                               69.85  \n",
       "4                                               16.24  \n",
       "..                                                ...  \n",
       "835                                             66.09  \n",
       "836                                              1.27  \n",
       "837                                              0.93  \n",
       "838                                              0.79  \n",
       "839                                              0.96  \n",
       "\n",
       "[840 rows x 10 columns]"
      ]
     },
     "execution_count": 1,
     "metadata": {},
     "output_type": "execute_result"
    }
   ],
   "source": [
    "import pandas as pd\n",
    "from Preprocessing import Preprocessing\n",
    "\n",
    "#file_path = 'data/mobility.csv'\n",
    "#df = pd.read_csv(file_path, delimiter=\";\")\n",
    "filename = 'mobility.csv'\n",
    "delimiter = ';'\n",
    "df = Preprocessing.load_data_csv(filename, delimiter)\n",
    "df"
   ]
  },
  {
   "cell_type": "code",
   "execution_count": 2,
   "metadata": {},
   "outputs": [
    {
     "data": {
      "text/html": [
       "<div>\n",
       "<style scoped>\n",
       "    .dataframe tbody tr th:only-of-type {\n",
       "        vertical-align: middle;\n",
       "    }\n",
       "\n",
       "    .dataframe tbody tr th {\n",
       "        vertical-align: top;\n",
       "    }\n",
       "\n",
       "    .dataframe thead th {\n",
       "        text-align: right;\n",
       "    }\n",
       "</style>\n",
       "<table border=\"1\" class=\"dataframe\">\n",
       "  <thead>\n",
       "    <tr style=\"text-align: right;\">\n",
       "      <th></th>\n",
       "      <th>Populatie</th>\n",
       "      <th>Geslacht</th>\n",
       "      <th>Persoonskenmerken</th>\n",
       "      <th>Reismotieven</th>\n",
       "      <th>Marges</th>\n",
       "      <th>Perioden</th>\n",
       "      <th>Regio's</th>\n",
       "      <th>Gemiddeld per persoon per dag /Verplaatsingen  (aantal)</th>\n",
       "      <th>Gemiddeld per persoon per dag /Afstand  (reizigerskilometers)</th>\n",
       "      <th>Gemiddeld per persoon per dag /Reisduur (minuten)</th>\n",
       "    </tr>\n",
       "  </thead>\n",
       "  <tbody>\n",
       "    <tr>\n",
       "      <th>9</th>\n",
       "      <td>Populatie: 6 jaar of ouder</td>\n",
       "      <td>Totaal mannen en vrouwen</td>\n",
       "      <td>Leeftijd:6 tot 12 jaar</td>\n",
       "      <td>Totaal</td>\n",
       "      <td>Waarde</td>\n",
       "      <td>2019</td>\n",
       "      <td>Nederland</td>\n",
       "      <td>3.12</td>\n",
       "      <td>17.08</td>\n",
       "      <td>58.72</td>\n",
       "    </tr>\n",
       "    <tr>\n",
       "      <th>10</th>\n",
       "      <td>Populatie: 6 jaar of ouder</td>\n",
       "      <td>Totaal mannen en vrouwen</td>\n",
       "      <td>Leeftijd:6 tot 12 jaar</td>\n",
       "      <td>Totaal</td>\n",
       "      <td>Waarde</td>\n",
       "      <td>2020</td>\n",
       "      <td>Nederland</td>\n",
       "      <td>2.58</td>\n",
       "      <td>13.50</td>\n",
       "      <td>58.51</td>\n",
       "    </tr>\n",
       "    <tr>\n",
       "      <th>13</th>\n",
       "      <td>Populatie: 6 jaar of ouder</td>\n",
       "      <td>Totaal mannen en vrouwen</td>\n",
       "      <td>Leeftijd:6 tot 12 jaar</td>\n",
       "      <td>Van en naar het werk</td>\n",
       "      <td>Waarde</td>\n",
       "      <td>2019</td>\n",
       "      <td>Nederland</td>\n",
       "      <td>.</td>\n",
       "      <td>.</td>\n",
       "      <td>.</td>\n",
       "    </tr>\n",
       "    <tr>\n",
       "      <th>14</th>\n",
       "      <td>Populatie: 6 jaar of ouder</td>\n",
       "      <td>Totaal mannen en vrouwen</td>\n",
       "      <td>Leeftijd:6 tot 12 jaar</td>\n",
       "      <td>Van en naar het werk</td>\n",
       "      <td>Waarde</td>\n",
       "      <td>2020</td>\n",
       "      <td>Nederland</td>\n",
       "      <td>.</td>\n",
       "      <td>.</td>\n",
       "      <td>.</td>\n",
       "    </tr>\n",
       "    <tr>\n",
       "      <th>17</th>\n",
       "      <td>Populatie: 6 jaar of ouder</td>\n",
       "      <td>Totaal mannen en vrouwen</td>\n",
       "      <td>Leeftijd: 12 tot 18 jaar</td>\n",
       "      <td>Totaal</td>\n",
       "      <td>Waarde</td>\n",
       "      <td>2019</td>\n",
       "      <td>Nederland</td>\n",
       "      <td>2.64</td>\n",
       "      <td>23.59</td>\n",
       "      <td>69.31</td>\n",
       "    </tr>\n",
       "    <tr>\n",
       "      <th>18</th>\n",
       "      <td>Populatie: 6 jaar of ouder</td>\n",
       "      <td>Totaal mannen en vrouwen</td>\n",
       "      <td>Leeftijd: 12 tot 18 jaar</td>\n",
       "      <td>Totaal</td>\n",
       "      <td>Waarde</td>\n",
       "      <td>2020</td>\n",
       "      <td>Nederland</td>\n",
       "      <td>2.11</td>\n",
       "      <td>15.58</td>\n",
       "      <td>53.97</td>\n",
       "    </tr>\n",
       "    <tr>\n",
       "      <th>21</th>\n",
       "      <td>Populatie: 6 jaar of ouder</td>\n",
       "      <td>Totaal mannen en vrouwen</td>\n",
       "      <td>Leeftijd: 12 tot 18 jaar</td>\n",
       "      <td>Van en naar het werk</td>\n",
       "      <td>Waarde</td>\n",
       "      <td>2019</td>\n",
       "      <td>Nederland</td>\n",
       "      <td>0.19</td>\n",
       "      <td>.</td>\n",
       "      <td>3.31</td>\n",
       "    </tr>\n",
       "    <tr>\n",
       "      <th>22</th>\n",
       "      <td>Populatie: 6 jaar of ouder</td>\n",
       "      <td>Totaal mannen en vrouwen</td>\n",
       "      <td>Leeftijd: 12 tot 18 jaar</td>\n",
       "      <td>Van en naar het werk</td>\n",
       "      <td>Waarde</td>\n",
       "      <td>2020</td>\n",
       "      <td>Nederland</td>\n",
       "      <td>0.16</td>\n",
       "      <td>0.54</td>\n",
       "      <td>2.46</td>\n",
       "    </tr>\n",
       "    <tr>\n",
       "      <th>25</th>\n",
       "      <td>Populatie: 6 jaar of ouder</td>\n",
       "      <td>Totaal mannen en vrouwen</td>\n",
       "      <td>Leeftijd: 18 tot 25 jaar</td>\n",
       "      <td>Totaal</td>\n",
       "      <td>Waarde</td>\n",
       "      <td>2019</td>\n",
       "      <td>Nederland</td>\n",
       "      <td>2.63</td>\n",
       "      <td>41.57</td>\n",
       "      <td>81.05</td>\n",
       "    </tr>\n",
       "    <tr>\n",
       "      <th>26</th>\n",
       "      <td>Populatie: 6 jaar of ouder</td>\n",
       "      <td>Totaal mannen en vrouwen</td>\n",
       "      <td>Leeftijd: 18 tot 25 jaar</td>\n",
       "      <td>Totaal</td>\n",
       "      <td>Waarde</td>\n",
       "      <td>2020</td>\n",
       "      <td>Nederland</td>\n",
       "      <td>2.23</td>\n",
       "      <td>26.80</td>\n",
       "      <td>61.92</td>\n",
       "    </tr>\n",
       "    <tr>\n",
       "      <th>29</th>\n",
       "      <td>Populatie: 6 jaar of ouder</td>\n",
       "      <td>Totaal mannen en vrouwen</td>\n",
       "      <td>Leeftijd: 18 tot 25 jaar</td>\n",
       "      <td>Van en naar het werk</td>\n",
       "      <td>Waarde</td>\n",
       "      <td>2019</td>\n",
       "      <td>Nederland</td>\n",
       "      <td>0.57</td>\n",
       "      <td>9.36</td>\n",
       "      <td>16.53</td>\n",
       "    </tr>\n",
       "    <tr>\n",
       "      <th>30</th>\n",
       "      <td>Populatie: 6 jaar of ouder</td>\n",
       "      <td>Totaal mannen en vrouwen</td>\n",
       "      <td>Leeftijd: 18 tot 25 jaar</td>\n",
       "      <td>Van en naar het werk</td>\n",
       "      <td>Waarde</td>\n",
       "      <td>2020</td>\n",
       "      <td>Nederland</td>\n",
       "      <td>0.45</td>\n",
       "      <td>5.43</td>\n",
       "      <td>10.70</td>\n",
       "    </tr>\n",
       "    <tr>\n",
       "      <th>33</th>\n",
       "      <td>Populatie: 6 jaar of ouder</td>\n",
       "      <td>Totaal mannen en vrouwen</td>\n",
       "      <td>Leeftijd: 25 tot 35 jaar</td>\n",
       "      <td>Totaal</td>\n",
       "      <td>Waarde</td>\n",
       "      <td>2019</td>\n",
       "      <td>Nederland</td>\n",
       "      <td>2.84</td>\n",
       "      <td>45.45</td>\n",
       "      <td>82.41</td>\n",
       "    </tr>\n",
       "    <tr>\n",
       "      <th>34</th>\n",
       "      <td>Populatie: 6 jaar of ouder</td>\n",
       "      <td>Totaal mannen en vrouwen</td>\n",
       "      <td>Leeftijd: 25 tot 35 jaar</td>\n",
       "      <td>Totaal</td>\n",
       "      <td>Waarde</td>\n",
       "      <td>2020</td>\n",
       "      <td>Nederland</td>\n",
       "      <td>2.43</td>\n",
       "      <td>30.00</td>\n",
       "      <td>65.74</td>\n",
       "    </tr>\n",
       "    <tr>\n",
       "      <th>37</th>\n",
       "      <td>Populatie: 6 jaar of ouder</td>\n",
       "      <td>Totaal mannen en vrouwen</td>\n",
       "      <td>Leeftijd: 25 tot 35 jaar</td>\n",
       "      <td>Van en naar het werk</td>\n",
       "      <td>Waarde</td>\n",
       "      <td>2019</td>\n",
       "      <td>Nederland</td>\n",
       "      <td>0.78</td>\n",
       "      <td>16.99</td>\n",
       "      <td>25.78</td>\n",
       "    </tr>\n",
       "    <tr>\n",
       "      <th>38</th>\n",
       "      <td>Populatie: 6 jaar of ouder</td>\n",
       "      <td>Totaal mannen en vrouwen</td>\n",
       "      <td>Leeftijd: 25 tot 35 jaar</td>\n",
       "      <td>Van en naar het werk</td>\n",
       "      <td>Waarde</td>\n",
       "      <td>2020</td>\n",
       "      <td>Nederland</td>\n",
       "      <td>0.54</td>\n",
       "      <td>10.41</td>\n",
       "      <td>15.76</td>\n",
       "    </tr>\n",
       "    <tr>\n",
       "      <th>41</th>\n",
       "      <td>Populatie: 6 jaar of ouder</td>\n",
       "      <td>Totaal mannen en vrouwen</td>\n",
       "      <td>Leeftijd: 35 tot 50 jaar</td>\n",
       "      <td>Totaal</td>\n",
       "      <td>Waarde</td>\n",
       "      <td>2019</td>\n",
       "      <td>Nederland</td>\n",
       "      <td>3.15</td>\n",
       "      <td>44.10</td>\n",
       "      <td>80.70</td>\n",
       "    </tr>\n",
       "    <tr>\n",
       "      <th>42</th>\n",
       "      <td>Populatie: 6 jaar of ouder</td>\n",
       "      <td>Totaal mannen en vrouwen</td>\n",
       "      <td>Leeftijd: 35 tot 50 jaar</td>\n",
       "      <td>Totaal</td>\n",
       "      <td>Waarde</td>\n",
       "      <td>2020</td>\n",
       "      <td>Nederland</td>\n",
       "      <td>2.77</td>\n",
       "      <td>30.84</td>\n",
       "      <td>66.76</td>\n",
       "    </tr>\n",
       "    <tr>\n",
       "      <th>45</th>\n",
       "      <td>Populatie: 6 jaar of ouder</td>\n",
       "      <td>Totaal mannen en vrouwen</td>\n",
       "      <td>Leeftijd: 35 tot 50 jaar</td>\n",
       "      <td>Van en naar het werk</td>\n",
       "      <td>Waarde</td>\n",
       "      <td>2019</td>\n",
       "      <td>Nederland</td>\n",
       "      <td>0.76</td>\n",
       "      <td>16.07</td>\n",
       "      <td>23.77</td>\n",
       "    </tr>\n",
       "    <tr>\n",
       "      <th>46</th>\n",
       "      <td>Populatie: 6 jaar of ouder</td>\n",
       "      <td>Totaal mannen en vrouwen</td>\n",
       "      <td>Leeftijd: 35 tot 50 jaar</td>\n",
       "      <td>Van en naar het werk</td>\n",
       "      <td>Waarde</td>\n",
       "      <td>2020</td>\n",
       "      <td>Nederland</td>\n",
       "      <td>0.53</td>\n",
       "      <td>9.74</td>\n",
       "      <td>14.44</td>\n",
       "    </tr>\n",
       "    <tr>\n",
       "      <th>49</th>\n",
       "      <td>Populatie: 6 jaar of ouder</td>\n",
       "      <td>Totaal mannen en vrouwen</td>\n",
       "      <td>Leeftijd: 50 tot 65 jaar</td>\n",
       "      <td>Totaal</td>\n",
       "      <td>Waarde</td>\n",
       "      <td>2019</td>\n",
       "      <td>Nederland</td>\n",
       "      <td>2.76</td>\n",
       "      <td>40.47</td>\n",
       "      <td>78.06</td>\n",
       "    </tr>\n",
       "    <tr>\n",
       "      <th>50</th>\n",
       "      <td>Populatie: 6 jaar of ouder</td>\n",
       "      <td>Totaal mannen en vrouwen</td>\n",
       "      <td>Leeftijd: 50 tot 65 jaar</td>\n",
       "      <td>Totaal</td>\n",
       "      <td>Waarde</td>\n",
       "      <td>2020</td>\n",
       "      <td>Nederland</td>\n",
       "      <td>2.50</td>\n",
       "      <td>29.72</td>\n",
       "      <td>67.96</td>\n",
       "    </tr>\n",
       "    <tr>\n",
       "      <th>53</th>\n",
       "      <td>Populatie: 6 jaar of ouder</td>\n",
       "      <td>Totaal mannen en vrouwen</td>\n",
       "      <td>Leeftijd: 50 tot 65 jaar</td>\n",
       "      <td>Van en naar het werk</td>\n",
       "      <td>Waarde</td>\n",
       "      <td>2019</td>\n",
       "      <td>Nederland</td>\n",
       "      <td>0.66</td>\n",
       "      <td>12.67</td>\n",
       "      <td>19.48</td>\n",
       "    </tr>\n",
       "    <tr>\n",
       "      <th>54</th>\n",
       "      <td>Populatie: 6 jaar of ouder</td>\n",
       "      <td>Totaal mannen en vrouwen</td>\n",
       "      <td>Leeftijd: 50 tot 65 jaar</td>\n",
       "      <td>Van en naar het werk</td>\n",
       "      <td>Waarde</td>\n",
       "      <td>2020</td>\n",
       "      <td>Nederland</td>\n",
       "      <td>0.51</td>\n",
       "      <td>8.85</td>\n",
       "      <td>13.33</td>\n",
       "    </tr>\n",
       "    <tr>\n",
       "      <th>57</th>\n",
       "      <td>Populatie: 6 jaar of ouder</td>\n",
       "      <td>Totaal mannen en vrouwen</td>\n",
       "      <td>Leeftijd: 65 tot 75 jaar</td>\n",
       "      <td>Totaal</td>\n",
       "      <td>Waarde</td>\n",
       "      <td>2019</td>\n",
       "      <td>Nederland</td>\n",
       "      <td>2.31</td>\n",
       "      <td>29.66</td>\n",
       "      <td>72.79</td>\n",
       "    </tr>\n",
       "    <tr>\n",
       "      <th>58</th>\n",
       "      <td>Populatie: 6 jaar of ouder</td>\n",
       "      <td>Totaal mannen en vrouwen</td>\n",
       "      <td>Leeftijd: 65 tot 75 jaar</td>\n",
       "      <td>Totaal</td>\n",
       "      <td>Waarde</td>\n",
       "      <td>2020</td>\n",
       "      <td>Nederland</td>\n",
       "      <td>2.11</td>\n",
       "      <td>20.60</td>\n",
       "      <td>61.80</td>\n",
       "    </tr>\n",
       "    <tr>\n",
       "      <th>61</th>\n",
       "      <td>Populatie: 6 jaar of ouder</td>\n",
       "      <td>Totaal mannen en vrouwen</td>\n",
       "      <td>Leeftijd: 65 tot 75 jaar</td>\n",
       "      <td>Van en naar het werk</td>\n",
       "      <td>Waarde</td>\n",
       "      <td>2019</td>\n",
       "      <td>Nederland</td>\n",
       "      <td>0.19</td>\n",
       "      <td>2.59</td>\n",
       "      <td>4.39</td>\n",
       "    </tr>\n",
       "    <tr>\n",
       "      <th>62</th>\n",
       "      <td>Populatie: 6 jaar of ouder</td>\n",
       "      <td>Totaal mannen en vrouwen</td>\n",
       "      <td>Leeftijd: 65 tot 75 jaar</td>\n",
       "      <td>Van en naar het werk</td>\n",
       "      <td>Waarde</td>\n",
       "      <td>2020</td>\n",
       "      <td>Nederland</td>\n",
       "      <td>0.14</td>\n",
       "      <td>1.87</td>\n",
       "      <td>3.16</td>\n",
       "    </tr>\n",
       "    <tr>\n",
       "      <th>65</th>\n",
       "      <td>Populatie: 6 jaar of ouder</td>\n",
       "      <td>Totaal mannen en vrouwen</td>\n",
       "      <td>Leeftijd: 75 jaar of ouder</td>\n",
       "      <td>Totaal</td>\n",
       "      <td>Waarde</td>\n",
       "      <td>2019</td>\n",
       "      <td>Nederland</td>\n",
       "      <td>1.63</td>\n",
       "      <td>18.19</td>\n",
       "      <td>48.24</td>\n",
       "    </tr>\n",
       "    <tr>\n",
       "      <th>66</th>\n",
       "      <td>Populatie: 6 jaar of ouder</td>\n",
       "      <td>Totaal mannen en vrouwen</td>\n",
       "      <td>Leeftijd: 75 jaar of ouder</td>\n",
       "      <td>Totaal</td>\n",
       "      <td>Waarde</td>\n",
       "      <td>2020</td>\n",
       "      <td>Nederland</td>\n",
       "      <td>1.37</td>\n",
       "      <td>10.85</td>\n",
       "      <td>38.62</td>\n",
       "    </tr>\n",
       "    <tr>\n",
       "      <th>69</th>\n",
       "      <td>Populatie: 6 jaar of ouder</td>\n",
       "      <td>Totaal mannen en vrouwen</td>\n",
       "      <td>Leeftijd: 75 jaar of ouder</td>\n",
       "      <td>Van en naar het werk</td>\n",
       "      <td>Waarde</td>\n",
       "      <td>2019</td>\n",
       "      <td>Nederland</td>\n",
       "      <td>0.07</td>\n",
       "      <td>0.64</td>\n",
       "      <td>1.33</td>\n",
       "    </tr>\n",
       "    <tr>\n",
       "      <th>70</th>\n",
       "      <td>Populatie: 6 jaar of ouder</td>\n",
       "      <td>Totaal mannen en vrouwen</td>\n",
       "      <td>Leeftijd: 75 jaar of ouder</td>\n",
       "      <td>Van en naar het werk</td>\n",
       "      <td>Waarde</td>\n",
       "      <td>2020</td>\n",
       "      <td>Nederland</td>\n",
       "      <td>0.05</td>\n",
       "      <td>0.36</td>\n",
       "      <td>0.79</td>\n",
       "    </tr>\n",
       "  </tbody>\n",
       "</table>\n",
       "</div>"
      ],
      "text/plain": [
       "                     Populatie                  Geslacht  \\\n",
       "9   Populatie: 6 jaar of ouder  Totaal mannen en vrouwen   \n",
       "10  Populatie: 6 jaar of ouder  Totaal mannen en vrouwen   \n",
       "13  Populatie: 6 jaar of ouder  Totaal mannen en vrouwen   \n",
       "14  Populatie: 6 jaar of ouder  Totaal mannen en vrouwen   \n",
       "17  Populatie: 6 jaar of ouder  Totaal mannen en vrouwen   \n",
       "18  Populatie: 6 jaar of ouder  Totaal mannen en vrouwen   \n",
       "21  Populatie: 6 jaar of ouder  Totaal mannen en vrouwen   \n",
       "22  Populatie: 6 jaar of ouder  Totaal mannen en vrouwen   \n",
       "25  Populatie: 6 jaar of ouder  Totaal mannen en vrouwen   \n",
       "26  Populatie: 6 jaar of ouder  Totaal mannen en vrouwen   \n",
       "29  Populatie: 6 jaar of ouder  Totaal mannen en vrouwen   \n",
       "30  Populatie: 6 jaar of ouder  Totaal mannen en vrouwen   \n",
       "33  Populatie: 6 jaar of ouder  Totaal mannen en vrouwen   \n",
       "34  Populatie: 6 jaar of ouder  Totaal mannen en vrouwen   \n",
       "37  Populatie: 6 jaar of ouder  Totaal mannen en vrouwen   \n",
       "38  Populatie: 6 jaar of ouder  Totaal mannen en vrouwen   \n",
       "41  Populatie: 6 jaar of ouder  Totaal mannen en vrouwen   \n",
       "42  Populatie: 6 jaar of ouder  Totaal mannen en vrouwen   \n",
       "45  Populatie: 6 jaar of ouder  Totaal mannen en vrouwen   \n",
       "46  Populatie: 6 jaar of ouder  Totaal mannen en vrouwen   \n",
       "49  Populatie: 6 jaar of ouder  Totaal mannen en vrouwen   \n",
       "50  Populatie: 6 jaar of ouder  Totaal mannen en vrouwen   \n",
       "53  Populatie: 6 jaar of ouder  Totaal mannen en vrouwen   \n",
       "54  Populatie: 6 jaar of ouder  Totaal mannen en vrouwen   \n",
       "57  Populatie: 6 jaar of ouder  Totaal mannen en vrouwen   \n",
       "58  Populatie: 6 jaar of ouder  Totaal mannen en vrouwen   \n",
       "61  Populatie: 6 jaar of ouder  Totaal mannen en vrouwen   \n",
       "62  Populatie: 6 jaar of ouder  Totaal mannen en vrouwen   \n",
       "65  Populatie: 6 jaar of ouder  Totaal mannen en vrouwen   \n",
       "66  Populatie: 6 jaar of ouder  Totaal mannen en vrouwen   \n",
       "69  Populatie: 6 jaar of ouder  Totaal mannen en vrouwen   \n",
       "70  Populatie: 6 jaar of ouder  Totaal mannen en vrouwen   \n",
       "\n",
       "             Persoonskenmerken          Reismotieven  Marges  Perioden  \\\n",
       "9       Leeftijd:6 tot 12 jaar                Totaal  Waarde      2019   \n",
       "10      Leeftijd:6 tot 12 jaar                Totaal  Waarde      2020   \n",
       "13      Leeftijd:6 tot 12 jaar  Van en naar het werk  Waarde      2019   \n",
       "14      Leeftijd:6 tot 12 jaar  Van en naar het werk  Waarde      2020   \n",
       "17    Leeftijd: 12 tot 18 jaar                Totaal  Waarde      2019   \n",
       "18    Leeftijd: 12 tot 18 jaar                Totaal  Waarde      2020   \n",
       "21    Leeftijd: 12 tot 18 jaar  Van en naar het werk  Waarde      2019   \n",
       "22    Leeftijd: 12 tot 18 jaar  Van en naar het werk  Waarde      2020   \n",
       "25    Leeftijd: 18 tot 25 jaar                Totaal  Waarde      2019   \n",
       "26    Leeftijd: 18 tot 25 jaar                Totaal  Waarde      2020   \n",
       "29    Leeftijd: 18 tot 25 jaar  Van en naar het werk  Waarde      2019   \n",
       "30    Leeftijd: 18 tot 25 jaar  Van en naar het werk  Waarde      2020   \n",
       "33    Leeftijd: 25 tot 35 jaar                Totaal  Waarde      2019   \n",
       "34    Leeftijd: 25 tot 35 jaar                Totaal  Waarde      2020   \n",
       "37    Leeftijd: 25 tot 35 jaar  Van en naar het werk  Waarde      2019   \n",
       "38    Leeftijd: 25 tot 35 jaar  Van en naar het werk  Waarde      2020   \n",
       "41    Leeftijd: 35 tot 50 jaar                Totaal  Waarde      2019   \n",
       "42    Leeftijd: 35 tot 50 jaar                Totaal  Waarde      2020   \n",
       "45    Leeftijd: 35 tot 50 jaar  Van en naar het werk  Waarde      2019   \n",
       "46    Leeftijd: 35 tot 50 jaar  Van en naar het werk  Waarde      2020   \n",
       "49    Leeftijd: 50 tot 65 jaar                Totaal  Waarde      2019   \n",
       "50    Leeftijd: 50 tot 65 jaar                Totaal  Waarde      2020   \n",
       "53    Leeftijd: 50 tot 65 jaar  Van en naar het werk  Waarde      2019   \n",
       "54    Leeftijd: 50 tot 65 jaar  Van en naar het werk  Waarde      2020   \n",
       "57    Leeftijd: 65 tot 75 jaar                Totaal  Waarde      2019   \n",
       "58    Leeftijd: 65 tot 75 jaar                Totaal  Waarde      2020   \n",
       "61    Leeftijd: 65 tot 75 jaar  Van en naar het werk  Waarde      2019   \n",
       "62    Leeftijd: 65 tot 75 jaar  Van en naar het werk  Waarde      2020   \n",
       "65  Leeftijd: 75 jaar of ouder                Totaal  Waarde      2019   \n",
       "66  Leeftijd: 75 jaar of ouder                Totaal  Waarde      2020   \n",
       "69  Leeftijd: 75 jaar of ouder  Van en naar het werk  Waarde      2019   \n",
       "70  Leeftijd: 75 jaar of ouder  Van en naar het werk  Waarde      2020   \n",
       "\n",
       "      Regio's Gemiddeld per persoon per dag /Verplaatsingen  (aantal)  \\\n",
       "9   Nederland                                               3.12        \n",
       "10  Nederland                                               2.58        \n",
       "13  Nederland                                                  .        \n",
       "14  Nederland                                                  .        \n",
       "17  Nederland                                               2.64        \n",
       "18  Nederland                                               2.11        \n",
       "21  Nederland                                               0.19        \n",
       "22  Nederland                                               0.16        \n",
       "25  Nederland                                               2.63        \n",
       "26  Nederland                                               2.23        \n",
       "29  Nederland                                               0.57        \n",
       "30  Nederland                                               0.45        \n",
       "33  Nederland                                               2.84        \n",
       "34  Nederland                                               2.43        \n",
       "37  Nederland                                               0.78        \n",
       "38  Nederland                                               0.54        \n",
       "41  Nederland                                               3.15        \n",
       "42  Nederland                                               2.77        \n",
       "45  Nederland                                               0.76        \n",
       "46  Nederland                                               0.53        \n",
       "49  Nederland                                               2.76        \n",
       "50  Nederland                                               2.50        \n",
       "53  Nederland                                               0.66        \n",
       "54  Nederland                                               0.51        \n",
       "57  Nederland                                               2.31        \n",
       "58  Nederland                                               2.11        \n",
       "61  Nederland                                               0.19        \n",
       "62  Nederland                                               0.14        \n",
       "65  Nederland                                               1.63        \n",
       "66  Nederland                                               1.37        \n",
       "69  Nederland                                               0.07        \n",
       "70  Nederland                                               0.05        \n",
       "\n",
       "   Gemiddeld per persoon per dag /Afstand  (reizigerskilometers)  \\\n",
       "9                                               17.08              \n",
       "10                                              13.50              \n",
       "13                                                  .              \n",
       "14                                                  .              \n",
       "17                                              23.59              \n",
       "18                                              15.58              \n",
       "21                                                  .              \n",
       "22                                               0.54              \n",
       "25                                              41.57              \n",
       "26                                              26.80              \n",
       "29                                               9.36              \n",
       "30                                               5.43              \n",
       "33                                              45.45              \n",
       "34                                              30.00              \n",
       "37                                              16.99              \n",
       "38                                              10.41              \n",
       "41                                              44.10              \n",
       "42                                              30.84              \n",
       "45                                              16.07              \n",
       "46                                               9.74              \n",
       "49                                              40.47              \n",
       "50                                              29.72              \n",
       "53                                              12.67              \n",
       "54                                               8.85              \n",
       "57                                              29.66              \n",
       "58                                              20.60              \n",
       "61                                               2.59              \n",
       "62                                               1.87              \n",
       "65                                              18.19              \n",
       "66                                              10.85              \n",
       "69                                               0.64              \n",
       "70                                               0.36              \n",
       "\n",
       "   Gemiddeld per persoon per dag /Reisduur (minuten)  \n",
       "9                                              58.72  \n",
       "10                                             58.51  \n",
       "13                                                 .  \n",
       "14                                                 .  \n",
       "17                                             69.31  \n",
       "18                                             53.97  \n",
       "21                                              3.31  \n",
       "22                                              2.46  \n",
       "25                                             81.05  \n",
       "26                                             61.92  \n",
       "29                                             16.53  \n",
       "30                                             10.70  \n",
       "33                                             82.41  \n",
       "34                                             65.74  \n",
       "37                                             25.78  \n",
       "38                                             15.76  \n",
       "41                                             80.70  \n",
       "42                                             66.76  \n",
       "45                                             23.77  \n",
       "46                                             14.44  \n",
       "49                                             78.06  \n",
       "50                                             67.96  \n",
       "53                                             19.48  \n",
       "54                                             13.33  \n",
       "57                                             72.79  \n",
       "58                                             61.80  \n",
       "61                                              4.39  \n",
       "62                                              3.16  \n",
       "65                                             48.24  \n",
       "66                                             38.62  \n",
       "69                                              1.33  \n",
       "70                                              0.79  "
      ]
     },
     "execution_count": 2,
     "metadata": {},
     "output_type": "execute_result"
    }
   ],
   "source": [
    "#Only select data for different age groups on year 2019 and 2020, and the gender is for all gender\n",
    "df = df[\n",
    "      ((df['Persoonskenmerken'] == 'Leeftijd:6 tot 12 jaar') | (df['Persoonskenmerken'] == 'Leeftijd: 12 tot 18 jaar') |\n",
    "      (df['Persoonskenmerken'] == 'Leeftijd: 18 tot 25 jaar') | (df['Persoonskenmerken'] == 'Leeftijd: 25 tot 35 jaar') |\n",
    "      (df['Persoonskenmerken'] == 'Leeftijd: 35 tot 50 jaar') | (df['Persoonskenmerken'] == 'Leeftijd: 50 tot 65 jaar') |\n",
    "      (df['Persoonskenmerken'] == 'Leeftijd: 65 tot 75 jaar') | (df['Persoonskenmerken'] == 'Leeftijd: 75 jaar of ouder')) &\n",
    "      ((df.Perioden == 2019) | (df.Perioden == 2020)) & (df.Geslacht == 'Totaal mannen en vrouwen')\n",
    "   ]\n",
    "df"
   ]
  },
  {
   "cell_type": "code",
   "execution_count": 4,
   "metadata": {},
   "outputs": [],
   "source": [
    "#Using df.replace to translate the age groups description into English words\n",
    "pd.set_option('mode.chained_assignment', None)\n",
    "df['Persoonskenmerken'].replace('Leeftijd:6 tot 12 jaar', 'Age: 6 to 12', inplace=True)\n",
    "df['Persoonskenmerken'].replace('Leeftijd: 12 tot 18 jaar', 'Age: 12 to 18', inplace=True)\n",
    "df['Persoonskenmerken'].replace('Leeftijd: 18 tot 25 jaar', 'Age: 18 to 25', inplace=True)\n",
    "df['Persoonskenmerken'].replace('Leeftijd: 25 tot 35 jaar', 'Age: 25 to 35', inplace=True)\n",
    "df['Persoonskenmerken'].replace('Leeftijd: 35 tot 50 jaar', 'Age: 35 to 50', inplace=True)\n",
    "df['Persoonskenmerken'].replace('Leeftijd: 50 tot 65 jaar', 'Age: 50 to 65', inplace=True)\n",
    "df['Persoonskenmerken'].replace('Leeftijd: 65 tot 75 jaar', 'Age: 65 to 75', inplace=True)\n",
    "df['Persoonskenmerken'].replace('Leeftijd: 75 jaar of ouder', 'Age: 75 years or older', inplace=True)"
   ]
  },
  {
   "cell_type": "code",
   "execution_count": 5,
   "metadata": {},
   "outputs": [],
   "source": [
    "#Using pd.to_numeric to convert data into a numeric type\n",
    "df['Gemiddeld per persoon per dag /Verplaatsingen  (aantal)'] = pd.to_numeric(\n",
    "    df['Gemiddeld per persoon per dag /Verplaatsingen  (aantal)'], errors='coerce')\n",
    "df['Gemiddeld per persoon per dag /Afstand  (reizigerskilometers)'] = pd.to_numeric(\n",
    "    df['Gemiddeld per persoon per dag /Afstand  (reizigerskilometers)'], errors='coerce')\n",
    "df['Gemiddeld per persoon per dag /Reisduur (minuten)'] = pd.to_numeric(\n",
    "    df['Gemiddeld per persoon per dag /Reisduur (minuten)'], errors='coerce')"
   ]
  },
  {
   "cell_type": "code",
   "execution_count": 6,
   "metadata": {},
   "outputs": [
    {
     "data": {
      "application/vnd.plotly.v1+json": {
       "config": {
        "plotlyServerURL": "https://plot.ly"
       },
       "data": [
        {
         "hovertemplate": "Perioden=2019<br>Age Group=%{x}<br>Average per person per day/ Travels (number)=%{text}<extra></extra>",
         "legendgroup": "2019",
         "line": {
          "color": "#636efa",
          "dash": "solid"
         },
         "marker": {
          "symbol": "circle"
         },
         "mode": "lines+text+markers",
         "name": "2019",
         "orientation": "v",
         "showlegend": true,
         "text": [
          3.12,
          2.64,
          2.63,
          2.84,
          3.15,
          2.76,
          2.31,
          1.63
         ],
         "textposition": "top center",
         "type": "scatter",
         "x": [
          "Age: 6 to 12",
          "Age: 12 to 18",
          "Age: 18 to 25",
          "Age: 25 to 35",
          "Age: 35 to 50",
          "Age: 50 to 65",
          "Age: 65 to 75",
          "Age: 75 years or older"
         ],
         "xaxis": "x",
         "y": [
          3.12,
          2.64,
          2.63,
          2.84,
          3.15,
          2.76,
          2.31,
          1.63
         ],
         "yaxis": "y"
        },
        {
         "hovertemplate": "Perioden=2020<br>Age Group=%{x}<br>Average per person per day/ Travels (number)=%{text}<extra></extra>",
         "legendgroup": "2020",
         "line": {
          "color": "#EF553B",
          "dash": "solid"
         },
         "marker": {
          "symbol": "circle"
         },
         "mode": "lines+text+markers",
         "name": "2020",
         "orientation": "v",
         "showlegend": true,
         "text": [
          2.58,
          2.11,
          2.23,
          2.43,
          2.77,
          2.5,
          2.11,
          1.37
         ],
         "textposition": "top center",
         "type": "scatter",
         "x": [
          "Age: 6 to 12",
          "Age: 12 to 18",
          "Age: 18 to 25",
          "Age: 25 to 35",
          "Age: 35 to 50",
          "Age: 50 to 65",
          "Age: 65 to 75",
          "Age: 75 years or older"
         ],
         "xaxis": "x",
         "y": [
          2.58,
          2.11,
          2.23,
          2.43,
          2.77,
          2.5,
          2.11,
          1.37
         ],
         "yaxis": "y"
        }
       ],
       "layout": {
        "legend": {
         "title": {
          "text": "Perioden"
         },
         "tracegroupgap": 0
        },
        "margin": {
         "t": 60
        },
        "template": {
         "data": {
          "bar": [
           {
            "error_x": {
             "color": "#2a3f5f"
            },
            "error_y": {
             "color": "#2a3f5f"
            },
            "marker": {
             "line": {
              "color": "#E5ECF6",
              "width": 0.5
             },
             "pattern": {
              "fillmode": "overlay",
              "size": 10,
              "solidity": 0.2
             }
            },
            "type": "bar"
           }
          ],
          "barpolar": [
           {
            "marker": {
             "line": {
              "color": "#E5ECF6",
              "width": 0.5
             },
             "pattern": {
              "fillmode": "overlay",
              "size": 10,
              "solidity": 0.2
             }
            },
            "type": "barpolar"
           }
          ],
          "carpet": [
           {
            "aaxis": {
             "endlinecolor": "#2a3f5f",
             "gridcolor": "white",
             "linecolor": "white",
             "minorgridcolor": "white",
             "startlinecolor": "#2a3f5f"
            },
            "baxis": {
             "endlinecolor": "#2a3f5f",
             "gridcolor": "white",
             "linecolor": "white",
             "minorgridcolor": "white",
             "startlinecolor": "#2a3f5f"
            },
            "type": "carpet"
           }
          ],
          "choropleth": [
           {
            "colorbar": {
             "outlinewidth": 0,
             "ticks": ""
            },
            "type": "choropleth"
           }
          ],
          "contour": [
           {
            "colorbar": {
             "outlinewidth": 0,
             "ticks": ""
            },
            "colorscale": [
             [
              0,
              "#0d0887"
             ],
             [
              0.1111111111111111,
              "#46039f"
             ],
             [
              0.2222222222222222,
              "#7201a8"
             ],
             [
              0.3333333333333333,
              "#9c179e"
             ],
             [
              0.4444444444444444,
              "#bd3786"
             ],
             [
              0.5555555555555556,
              "#d8576b"
             ],
             [
              0.6666666666666666,
              "#ed7953"
             ],
             [
              0.7777777777777778,
              "#fb9f3a"
             ],
             [
              0.8888888888888888,
              "#fdca26"
             ],
             [
              1,
              "#f0f921"
             ]
            ],
            "type": "contour"
           }
          ],
          "contourcarpet": [
           {
            "colorbar": {
             "outlinewidth": 0,
             "ticks": ""
            },
            "type": "contourcarpet"
           }
          ],
          "heatmap": [
           {
            "colorbar": {
             "outlinewidth": 0,
             "ticks": ""
            },
            "colorscale": [
             [
              0,
              "#0d0887"
             ],
             [
              0.1111111111111111,
              "#46039f"
             ],
             [
              0.2222222222222222,
              "#7201a8"
             ],
             [
              0.3333333333333333,
              "#9c179e"
             ],
             [
              0.4444444444444444,
              "#bd3786"
             ],
             [
              0.5555555555555556,
              "#d8576b"
             ],
             [
              0.6666666666666666,
              "#ed7953"
             ],
             [
              0.7777777777777778,
              "#fb9f3a"
             ],
             [
              0.8888888888888888,
              "#fdca26"
             ],
             [
              1,
              "#f0f921"
             ]
            ],
            "type": "heatmap"
           }
          ],
          "heatmapgl": [
           {
            "colorbar": {
             "outlinewidth": 0,
             "ticks": ""
            },
            "colorscale": [
             [
              0,
              "#0d0887"
             ],
             [
              0.1111111111111111,
              "#46039f"
             ],
             [
              0.2222222222222222,
              "#7201a8"
             ],
             [
              0.3333333333333333,
              "#9c179e"
             ],
             [
              0.4444444444444444,
              "#bd3786"
             ],
             [
              0.5555555555555556,
              "#d8576b"
             ],
             [
              0.6666666666666666,
              "#ed7953"
             ],
             [
              0.7777777777777778,
              "#fb9f3a"
             ],
             [
              0.8888888888888888,
              "#fdca26"
             ],
             [
              1,
              "#f0f921"
             ]
            ],
            "type": "heatmapgl"
           }
          ],
          "histogram": [
           {
            "marker": {
             "pattern": {
              "fillmode": "overlay",
              "size": 10,
              "solidity": 0.2
             }
            },
            "type": "histogram"
           }
          ],
          "histogram2d": [
           {
            "colorbar": {
             "outlinewidth": 0,
             "ticks": ""
            },
            "colorscale": [
             [
              0,
              "#0d0887"
             ],
             [
              0.1111111111111111,
              "#46039f"
             ],
             [
              0.2222222222222222,
              "#7201a8"
             ],
             [
              0.3333333333333333,
              "#9c179e"
             ],
             [
              0.4444444444444444,
              "#bd3786"
             ],
             [
              0.5555555555555556,
              "#d8576b"
             ],
             [
              0.6666666666666666,
              "#ed7953"
             ],
             [
              0.7777777777777778,
              "#fb9f3a"
             ],
             [
              0.8888888888888888,
              "#fdca26"
             ],
             [
              1,
              "#f0f921"
             ]
            ],
            "type": "histogram2d"
           }
          ],
          "histogram2dcontour": [
           {
            "colorbar": {
             "outlinewidth": 0,
             "ticks": ""
            },
            "colorscale": [
             [
              0,
              "#0d0887"
             ],
             [
              0.1111111111111111,
              "#46039f"
             ],
             [
              0.2222222222222222,
              "#7201a8"
             ],
             [
              0.3333333333333333,
              "#9c179e"
             ],
             [
              0.4444444444444444,
              "#bd3786"
             ],
             [
              0.5555555555555556,
              "#d8576b"
             ],
             [
              0.6666666666666666,
              "#ed7953"
             ],
             [
              0.7777777777777778,
              "#fb9f3a"
             ],
             [
              0.8888888888888888,
              "#fdca26"
             ],
             [
              1,
              "#f0f921"
             ]
            ],
            "type": "histogram2dcontour"
           }
          ],
          "mesh3d": [
           {
            "colorbar": {
             "outlinewidth": 0,
             "ticks": ""
            },
            "type": "mesh3d"
           }
          ],
          "parcoords": [
           {
            "line": {
             "colorbar": {
              "outlinewidth": 0,
              "ticks": ""
             }
            },
            "type": "parcoords"
           }
          ],
          "pie": [
           {
            "automargin": true,
            "type": "pie"
           }
          ],
          "scatter": [
           {
            "fillpattern": {
             "fillmode": "overlay",
             "size": 10,
             "solidity": 0.2
            },
            "type": "scatter"
           }
          ],
          "scatter3d": [
           {
            "line": {
             "colorbar": {
              "outlinewidth": 0,
              "ticks": ""
             }
            },
            "marker": {
             "colorbar": {
              "outlinewidth": 0,
              "ticks": ""
             }
            },
            "type": "scatter3d"
           }
          ],
          "scattercarpet": [
           {
            "marker": {
             "colorbar": {
              "outlinewidth": 0,
              "ticks": ""
             }
            },
            "type": "scattercarpet"
           }
          ],
          "scattergeo": [
           {
            "marker": {
             "colorbar": {
              "outlinewidth": 0,
              "ticks": ""
             }
            },
            "type": "scattergeo"
           }
          ],
          "scattergl": [
           {
            "marker": {
             "colorbar": {
              "outlinewidth": 0,
              "ticks": ""
             }
            },
            "type": "scattergl"
           }
          ],
          "scattermapbox": [
           {
            "marker": {
             "colorbar": {
              "outlinewidth": 0,
              "ticks": ""
             }
            },
            "type": "scattermapbox"
           }
          ],
          "scatterpolar": [
           {
            "marker": {
             "colorbar": {
              "outlinewidth": 0,
              "ticks": ""
             }
            },
            "type": "scatterpolar"
           }
          ],
          "scatterpolargl": [
           {
            "marker": {
             "colorbar": {
              "outlinewidth": 0,
              "ticks": ""
             }
            },
            "type": "scatterpolargl"
           }
          ],
          "scatterternary": [
           {
            "marker": {
             "colorbar": {
              "outlinewidth": 0,
              "ticks": ""
             }
            },
            "type": "scatterternary"
           }
          ],
          "surface": [
           {
            "colorbar": {
             "outlinewidth": 0,
             "ticks": ""
            },
            "colorscale": [
             [
              0,
              "#0d0887"
             ],
             [
              0.1111111111111111,
              "#46039f"
             ],
             [
              0.2222222222222222,
              "#7201a8"
             ],
             [
              0.3333333333333333,
              "#9c179e"
             ],
             [
              0.4444444444444444,
              "#bd3786"
             ],
             [
              0.5555555555555556,
              "#d8576b"
             ],
             [
              0.6666666666666666,
              "#ed7953"
             ],
             [
              0.7777777777777778,
              "#fb9f3a"
             ],
             [
              0.8888888888888888,
              "#fdca26"
             ],
             [
              1,
              "#f0f921"
             ]
            ],
            "type": "surface"
           }
          ],
          "table": [
           {
            "cells": {
             "fill": {
              "color": "#EBF0F8"
             },
             "line": {
              "color": "white"
             }
            },
            "header": {
             "fill": {
              "color": "#C8D4E3"
             },
             "line": {
              "color": "white"
             }
            },
            "type": "table"
           }
          ]
         },
         "layout": {
          "annotationdefaults": {
           "arrowcolor": "#2a3f5f",
           "arrowhead": 0,
           "arrowwidth": 1
          },
          "autotypenumbers": "strict",
          "coloraxis": {
           "colorbar": {
            "outlinewidth": 0,
            "ticks": ""
           }
          },
          "colorscale": {
           "diverging": [
            [
             0,
             "#8e0152"
            ],
            [
             0.1,
             "#c51b7d"
            ],
            [
             0.2,
             "#de77ae"
            ],
            [
             0.3,
             "#f1b6da"
            ],
            [
             0.4,
             "#fde0ef"
            ],
            [
             0.5,
             "#f7f7f7"
            ],
            [
             0.6,
             "#e6f5d0"
            ],
            [
             0.7,
             "#b8e186"
            ],
            [
             0.8,
             "#7fbc41"
            ],
            [
             0.9,
             "#4d9221"
            ],
            [
             1,
             "#276419"
            ]
           ],
           "sequential": [
            [
             0,
             "#0d0887"
            ],
            [
             0.1111111111111111,
             "#46039f"
            ],
            [
             0.2222222222222222,
             "#7201a8"
            ],
            [
             0.3333333333333333,
             "#9c179e"
            ],
            [
             0.4444444444444444,
             "#bd3786"
            ],
            [
             0.5555555555555556,
             "#d8576b"
            ],
            [
             0.6666666666666666,
             "#ed7953"
            ],
            [
             0.7777777777777778,
             "#fb9f3a"
            ],
            [
             0.8888888888888888,
             "#fdca26"
            ],
            [
             1,
             "#f0f921"
            ]
           ],
           "sequentialminus": [
            [
             0,
             "#0d0887"
            ],
            [
             0.1111111111111111,
             "#46039f"
            ],
            [
             0.2222222222222222,
             "#7201a8"
            ],
            [
             0.3333333333333333,
             "#9c179e"
            ],
            [
             0.4444444444444444,
             "#bd3786"
            ],
            [
             0.5555555555555556,
             "#d8576b"
            ],
            [
             0.6666666666666666,
             "#ed7953"
            ],
            [
             0.7777777777777778,
             "#fb9f3a"
            ],
            [
             0.8888888888888888,
             "#fdca26"
            ],
            [
             1,
             "#f0f921"
            ]
           ]
          },
          "colorway": [
           "#636efa",
           "#EF553B",
           "#00cc96",
           "#ab63fa",
           "#FFA15A",
           "#19d3f3",
           "#FF6692",
           "#B6E880",
           "#FF97FF",
           "#FECB52"
          ],
          "font": {
           "color": "#2a3f5f"
          },
          "geo": {
           "bgcolor": "white",
           "lakecolor": "white",
           "landcolor": "#E5ECF6",
           "showlakes": true,
           "showland": true,
           "subunitcolor": "white"
          },
          "hoverlabel": {
           "align": "left"
          },
          "hovermode": "closest",
          "mapbox": {
           "style": "light"
          },
          "paper_bgcolor": "white",
          "plot_bgcolor": "#E5ECF6",
          "polar": {
           "angularaxis": {
            "gridcolor": "white",
            "linecolor": "white",
            "ticks": ""
           },
           "bgcolor": "#E5ECF6",
           "radialaxis": {
            "gridcolor": "white",
            "linecolor": "white",
            "ticks": ""
           }
          },
          "scene": {
           "xaxis": {
            "backgroundcolor": "#E5ECF6",
            "gridcolor": "white",
            "gridwidth": 2,
            "linecolor": "white",
            "showbackground": true,
            "ticks": "",
            "zerolinecolor": "white"
           },
           "yaxis": {
            "backgroundcolor": "#E5ECF6",
            "gridcolor": "white",
            "gridwidth": 2,
            "linecolor": "white",
            "showbackground": true,
            "ticks": "",
            "zerolinecolor": "white"
           },
           "zaxis": {
            "backgroundcolor": "#E5ECF6",
            "gridcolor": "white",
            "gridwidth": 2,
            "linecolor": "white",
            "showbackground": true,
            "ticks": "",
            "zerolinecolor": "white"
           }
          },
          "shapedefaults": {
           "line": {
            "color": "#2a3f5f"
           }
          },
          "ternary": {
           "aaxis": {
            "gridcolor": "white",
            "linecolor": "white",
            "ticks": ""
           },
           "baxis": {
            "gridcolor": "white",
            "linecolor": "white",
            "ticks": ""
           },
           "bgcolor": "#E5ECF6",
           "caxis": {
            "gridcolor": "white",
            "linecolor": "white",
            "ticks": ""
           }
          },
          "title": {
           "x": 0.05
          },
          "xaxis": {
           "automargin": true,
           "gridcolor": "white",
           "linecolor": "white",
           "ticks": "",
           "title": {
            "standoff": 15
           },
           "zerolinecolor": "white",
           "zerolinewidth": 2
          },
          "yaxis": {
           "automargin": true,
           "gridcolor": "white",
           "linecolor": "white",
           "ticks": "",
           "title": {
            "standoff": 15
           },
           "zerolinecolor": "white",
           "zerolinewidth": 2
          }
         }
        },
        "title": {
         "text": "Comparasion of average travel numbers for all purpose"
        },
        "xaxis": {
         "anchor": "y",
         "domain": [
          0,
          1
         ],
         "title": {
          "text": "Age Group"
         }
        },
        "yaxis": {
         "anchor": "x",
         "domain": [
          0,
          1
         ],
         "dtick": 0.25,
         "tick0": 0,
         "tickmode": "linear",
         "title": {
          "text": "Average per person per day/ Travels (number)"
         }
        }
       }
      }
     },
     "metadata": {},
     "output_type": "display_data"
    },
    {
     "data": {
      "application/vnd.plotly.v1+json": {
       "config": {
        "plotlyServerURL": "https://plot.ly"
       },
       "data": [
        {
         "hovertemplate": "Perioden=2019<br>Age Group=%{x}<br>Average per person per day/ Travels (number)=%{text}<extra></extra>",
         "legendgroup": "2019",
         "line": {
          "color": "#636efa",
          "dash": "solid"
         },
         "marker": {
          "symbol": "circle"
         },
         "mode": "lines+text+markers",
         "name": "2019",
         "orientation": "v",
         "showlegend": true,
         "text": [
          null,
          0.19,
          0.57,
          0.78,
          0.76,
          0.66,
          0.19,
          0.07
         ],
         "textposition": "top center",
         "type": "scatter",
         "x": [
          "Age: 6 to 12",
          "Age: 12 to 18",
          "Age: 18 to 25",
          "Age: 25 to 35",
          "Age: 35 to 50",
          "Age: 50 to 65",
          "Age: 65 to 75",
          "Age: 75 years or older"
         ],
         "xaxis": "x",
         "y": [
          null,
          0.19,
          0.57,
          0.78,
          0.76,
          0.66,
          0.19,
          0.07
         ],
         "yaxis": "y"
        },
        {
         "hovertemplate": "Perioden=2020<br>Age Group=%{x}<br>Average per person per day/ Travels (number)=%{text}<extra></extra>",
         "legendgroup": "2020",
         "line": {
          "color": "#EF553B",
          "dash": "solid"
         },
         "marker": {
          "symbol": "circle"
         },
         "mode": "lines+text+markers",
         "name": "2020",
         "orientation": "v",
         "showlegend": true,
         "text": [
          null,
          0.16,
          0.45,
          0.54,
          0.53,
          0.51,
          0.14,
          0.05
         ],
         "textposition": "top center",
         "type": "scatter",
         "x": [
          "Age: 6 to 12",
          "Age: 12 to 18",
          "Age: 18 to 25",
          "Age: 25 to 35",
          "Age: 35 to 50",
          "Age: 50 to 65",
          "Age: 65 to 75",
          "Age: 75 years or older"
         ],
         "xaxis": "x",
         "y": [
          null,
          0.16,
          0.45,
          0.54,
          0.53,
          0.51,
          0.14,
          0.05
         ],
         "yaxis": "y"
        }
       ],
       "layout": {
        "legend": {
         "title": {
          "text": "Perioden"
         },
         "tracegroupgap": 0
        },
        "margin": {
         "t": 60
        },
        "template": {
         "data": {
          "bar": [
           {
            "error_x": {
             "color": "#2a3f5f"
            },
            "error_y": {
             "color": "#2a3f5f"
            },
            "marker": {
             "line": {
              "color": "#E5ECF6",
              "width": 0.5
             },
             "pattern": {
              "fillmode": "overlay",
              "size": 10,
              "solidity": 0.2
             }
            },
            "type": "bar"
           }
          ],
          "barpolar": [
           {
            "marker": {
             "line": {
              "color": "#E5ECF6",
              "width": 0.5
             },
             "pattern": {
              "fillmode": "overlay",
              "size": 10,
              "solidity": 0.2
             }
            },
            "type": "barpolar"
           }
          ],
          "carpet": [
           {
            "aaxis": {
             "endlinecolor": "#2a3f5f",
             "gridcolor": "white",
             "linecolor": "white",
             "minorgridcolor": "white",
             "startlinecolor": "#2a3f5f"
            },
            "baxis": {
             "endlinecolor": "#2a3f5f",
             "gridcolor": "white",
             "linecolor": "white",
             "minorgridcolor": "white",
             "startlinecolor": "#2a3f5f"
            },
            "type": "carpet"
           }
          ],
          "choropleth": [
           {
            "colorbar": {
             "outlinewidth": 0,
             "ticks": ""
            },
            "type": "choropleth"
           }
          ],
          "contour": [
           {
            "colorbar": {
             "outlinewidth": 0,
             "ticks": ""
            },
            "colorscale": [
             [
              0,
              "#0d0887"
             ],
             [
              0.1111111111111111,
              "#46039f"
             ],
             [
              0.2222222222222222,
              "#7201a8"
             ],
             [
              0.3333333333333333,
              "#9c179e"
             ],
             [
              0.4444444444444444,
              "#bd3786"
             ],
             [
              0.5555555555555556,
              "#d8576b"
             ],
             [
              0.6666666666666666,
              "#ed7953"
             ],
             [
              0.7777777777777778,
              "#fb9f3a"
             ],
             [
              0.8888888888888888,
              "#fdca26"
             ],
             [
              1,
              "#f0f921"
             ]
            ],
            "type": "contour"
           }
          ],
          "contourcarpet": [
           {
            "colorbar": {
             "outlinewidth": 0,
             "ticks": ""
            },
            "type": "contourcarpet"
           }
          ],
          "heatmap": [
           {
            "colorbar": {
             "outlinewidth": 0,
             "ticks": ""
            },
            "colorscale": [
             [
              0,
              "#0d0887"
             ],
             [
              0.1111111111111111,
              "#46039f"
             ],
             [
              0.2222222222222222,
              "#7201a8"
             ],
             [
              0.3333333333333333,
              "#9c179e"
             ],
             [
              0.4444444444444444,
              "#bd3786"
             ],
             [
              0.5555555555555556,
              "#d8576b"
             ],
             [
              0.6666666666666666,
              "#ed7953"
             ],
             [
              0.7777777777777778,
              "#fb9f3a"
             ],
             [
              0.8888888888888888,
              "#fdca26"
             ],
             [
              1,
              "#f0f921"
             ]
            ],
            "type": "heatmap"
           }
          ],
          "heatmapgl": [
           {
            "colorbar": {
             "outlinewidth": 0,
             "ticks": ""
            },
            "colorscale": [
             [
              0,
              "#0d0887"
             ],
             [
              0.1111111111111111,
              "#46039f"
             ],
             [
              0.2222222222222222,
              "#7201a8"
             ],
             [
              0.3333333333333333,
              "#9c179e"
             ],
             [
              0.4444444444444444,
              "#bd3786"
             ],
             [
              0.5555555555555556,
              "#d8576b"
             ],
             [
              0.6666666666666666,
              "#ed7953"
             ],
             [
              0.7777777777777778,
              "#fb9f3a"
             ],
             [
              0.8888888888888888,
              "#fdca26"
             ],
             [
              1,
              "#f0f921"
             ]
            ],
            "type": "heatmapgl"
           }
          ],
          "histogram": [
           {
            "marker": {
             "pattern": {
              "fillmode": "overlay",
              "size": 10,
              "solidity": 0.2
             }
            },
            "type": "histogram"
           }
          ],
          "histogram2d": [
           {
            "colorbar": {
             "outlinewidth": 0,
             "ticks": ""
            },
            "colorscale": [
             [
              0,
              "#0d0887"
             ],
             [
              0.1111111111111111,
              "#46039f"
             ],
             [
              0.2222222222222222,
              "#7201a8"
             ],
             [
              0.3333333333333333,
              "#9c179e"
             ],
             [
              0.4444444444444444,
              "#bd3786"
             ],
             [
              0.5555555555555556,
              "#d8576b"
             ],
             [
              0.6666666666666666,
              "#ed7953"
             ],
             [
              0.7777777777777778,
              "#fb9f3a"
             ],
             [
              0.8888888888888888,
              "#fdca26"
             ],
             [
              1,
              "#f0f921"
             ]
            ],
            "type": "histogram2d"
           }
          ],
          "histogram2dcontour": [
           {
            "colorbar": {
             "outlinewidth": 0,
             "ticks": ""
            },
            "colorscale": [
             [
              0,
              "#0d0887"
             ],
             [
              0.1111111111111111,
              "#46039f"
             ],
             [
              0.2222222222222222,
              "#7201a8"
             ],
             [
              0.3333333333333333,
              "#9c179e"
             ],
             [
              0.4444444444444444,
              "#bd3786"
             ],
             [
              0.5555555555555556,
              "#d8576b"
             ],
             [
              0.6666666666666666,
              "#ed7953"
             ],
             [
              0.7777777777777778,
              "#fb9f3a"
             ],
             [
              0.8888888888888888,
              "#fdca26"
             ],
             [
              1,
              "#f0f921"
             ]
            ],
            "type": "histogram2dcontour"
           }
          ],
          "mesh3d": [
           {
            "colorbar": {
             "outlinewidth": 0,
             "ticks": ""
            },
            "type": "mesh3d"
           }
          ],
          "parcoords": [
           {
            "line": {
             "colorbar": {
              "outlinewidth": 0,
              "ticks": ""
             }
            },
            "type": "parcoords"
           }
          ],
          "pie": [
           {
            "automargin": true,
            "type": "pie"
           }
          ],
          "scatter": [
           {
            "fillpattern": {
             "fillmode": "overlay",
             "size": 10,
             "solidity": 0.2
            },
            "type": "scatter"
           }
          ],
          "scatter3d": [
           {
            "line": {
             "colorbar": {
              "outlinewidth": 0,
              "ticks": ""
             }
            },
            "marker": {
             "colorbar": {
              "outlinewidth": 0,
              "ticks": ""
             }
            },
            "type": "scatter3d"
           }
          ],
          "scattercarpet": [
           {
            "marker": {
             "colorbar": {
              "outlinewidth": 0,
              "ticks": ""
             }
            },
            "type": "scattercarpet"
           }
          ],
          "scattergeo": [
           {
            "marker": {
             "colorbar": {
              "outlinewidth": 0,
              "ticks": ""
             }
            },
            "type": "scattergeo"
           }
          ],
          "scattergl": [
           {
            "marker": {
             "colorbar": {
              "outlinewidth": 0,
              "ticks": ""
             }
            },
            "type": "scattergl"
           }
          ],
          "scattermapbox": [
           {
            "marker": {
             "colorbar": {
              "outlinewidth": 0,
              "ticks": ""
             }
            },
            "type": "scattermapbox"
           }
          ],
          "scatterpolar": [
           {
            "marker": {
             "colorbar": {
              "outlinewidth": 0,
              "ticks": ""
             }
            },
            "type": "scatterpolar"
           }
          ],
          "scatterpolargl": [
           {
            "marker": {
             "colorbar": {
              "outlinewidth": 0,
              "ticks": ""
             }
            },
            "type": "scatterpolargl"
           }
          ],
          "scatterternary": [
           {
            "marker": {
             "colorbar": {
              "outlinewidth": 0,
              "ticks": ""
             }
            },
            "type": "scatterternary"
           }
          ],
          "surface": [
           {
            "colorbar": {
             "outlinewidth": 0,
             "ticks": ""
            },
            "colorscale": [
             [
              0,
              "#0d0887"
             ],
             [
              0.1111111111111111,
              "#46039f"
             ],
             [
              0.2222222222222222,
              "#7201a8"
             ],
             [
              0.3333333333333333,
              "#9c179e"
             ],
             [
              0.4444444444444444,
              "#bd3786"
             ],
             [
              0.5555555555555556,
              "#d8576b"
             ],
             [
              0.6666666666666666,
              "#ed7953"
             ],
             [
              0.7777777777777778,
              "#fb9f3a"
             ],
             [
              0.8888888888888888,
              "#fdca26"
             ],
             [
              1,
              "#f0f921"
             ]
            ],
            "type": "surface"
           }
          ],
          "table": [
           {
            "cells": {
             "fill": {
              "color": "#EBF0F8"
             },
             "line": {
              "color": "white"
             }
            },
            "header": {
             "fill": {
              "color": "#C8D4E3"
             },
             "line": {
              "color": "white"
             }
            },
            "type": "table"
           }
          ]
         },
         "layout": {
          "annotationdefaults": {
           "arrowcolor": "#2a3f5f",
           "arrowhead": 0,
           "arrowwidth": 1
          },
          "autotypenumbers": "strict",
          "coloraxis": {
           "colorbar": {
            "outlinewidth": 0,
            "ticks": ""
           }
          },
          "colorscale": {
           "diverging": [
            [
             0,
             "#8e0152"
            ],
            [
             0.1,
             "#c51b7d"
            ],
            [
             0.2,
             "#de77ae"
            ],
            [
             0.3,
             "#f1b6da"
            ],
            [
             0.4,
             "#fde0ef"
            ],
            [
             0.5,
             "#f7f7f7"
            ],
            [
             0.6,
             "#e6f5d0"
            ],
            [
             0.7,
             "#b8e186"
            ],
            [
             0.8,
             "#7fbc41"
            ],
            [
             0.9,
             "#4d9221"
            ],
            [
             1,
             "#276419"
            ]
           ],
           "sequential": [
            [
             0,
             "#0d0887"
            ],
            [
             0.1111111111111111,
             "#46039f"
            ],
            [
             0.2222222222222222,
             "#7201a8"
            ],
            [
             0.3333333333333333,
             "#9c179e"
            ],
            [
             0.4444444444444444,
             "#bd3786"
            ],
            [
             0.5555555555555556,
             "#d8576b"
            ],
            [
             0.6666666666666666,
             "#ed7953"
            ],
            [
             0.7777777777777778,
             "#fb9f3a"
            ],
            [
             0.8888888888888888,
             "#fdca26"
            ],
            [
             1,
             "#f0f921"
            ]
           ],
           "sequentialminus": [
            [
             0,
             "#0d0887"
            ],
            [
             0.1111111111111111,
             "#46039f"
            ],
            [
             0.2222222222222222,
             "#7201a8"
            ],
            [
             0.3333333333333333,
             "#9c179e"
            ],
            [
             0.4444444444444444,
             "#bd3786"
            ],
            [
             0.5555555555555556,
             "#d8576b"
            ],
            [
             0.6666666666666666,
             "#ed7953"
            ],
            [
             0.7777777777777778,
             "#fb9f3a"
            ],
            [
             0.8888888888888888,
             "#fdca26"
            ],
            [
             1,
             "#f0f921"
            ]
           ]
          },
          "colorway": [
           "#636efa",
           "#EF553B",
           "#00cc96",
           "#ab63fa",
           "#FFA15A",
           "#19d3f3",
           "#FF6692",
           "#B6E880",
           "#FF97FF",
           "#FECB52"
          ],
          "font": {
           "color": "#2a3f5f"
          },
          "geo": {
           "bgcolor": "white",
           "lakecolor": "white",
           "landcolor": "#E5ECF6",
           "showlakes": true,
           "showland": true,
           "subunitcolor": "white"
          },
          "hoverlabel": {
           "align": "left"
          },
          "hovermode": "closest",
          "mapbox": {
           "style": "light"
          },
          "paper_bgcolor": "white",
          "plot_bgcolor": "#E5ECF6",
          "polar": {
           "angularaxis": {
            "gridcolor": "white",
            "linecolor": "white",
            "ticks": ""
           },
           "bgcolor": "#E5ECF6",
           "radialaxis": {
            "gridcolor": "white",
            "linecolor": "white",
            "ticks": ""
           }
          },
          "scene": {
           "xaxis": {
            "backgroundcolor": "#E5ECF6",
            "gridcolor": "white",
            "gridwidth": 2,
            "linecolor": "white",
            "showbackground": true,
            "ticks": "",
            "zerolinecolor": "white"
           },
           "yaxis": {
            "backgroundcolor": "#E5ECF6",
            "gridcolor": "white",
            "gridwidth": 2,
            "linecolor": "white",
            "showbackground": true,
            "ticks": "",
            "zerolinecolor": "white"
           },
           "zaxis": {
            "backgroundcolor": "#E5ECF6",
            "gridcolor": "white",
            "gridwidth": 2,
            "linecolor": "white",
            "showbackground": true,
            "ticks": "",
            "zerolinecolor": "white"
           }
          },
          "shapedefaults": {
           "line": {
            "color": "#2a3f5f"
           }
          },
          "ternary": {
           "aaxis": {
            "gridcolor": "white",
            "linecolor": "white",
            "ticks": ""
           },
           "baxis": {
            "gridcolor": "white",
            "linecolor": "white",
            "ticks": ""
           },
           "bgcolor": "#E5ECF6",
           "caxis": {
            "gridcolor": "white",
            "linecolor": "white",
            "ticks": ""
           }
          },
          "title": {
           "x": 0.05
          },
          "xaxis": {
           "automargin": true,
           "gridcolor": "white",
           "linecolor": "white",
           "ticks": "",
           "title": {
            "standoff": 15
           },
           "zerolinecolor": "white",
           "zerolinewidth": 2
          },
          "yaxis": {
           "automargin": true,
           "gridcolor": "white",
           "linecolor": "white",
           "ticks": "",
           "title": {
            "standoff": 15
           },
           "zerolinecolor": "white",
           "zerolinewidth": 2
          }
         }
        },
        "title": {
         "text": "Comparasion of average travel numbers for to and from work"
        },
        "xaxis": {
         "anchor": "y",
         "domain": [
          0,
          1
         ],
         "title": {
          "text": "Age Group"
         }
        },
        "yaxis": {
         "anchor": "x",
         "domain": [
          0,
          1
         ],
         "title": {
          "text": "Average per person per day/ Travels (number)"
         }
        }
       }
      }
     },
     "metadata": {},
     "output_type": "display_data"
    }
   ],
   "source": [
    "import plotly.express as px\n",
    "\n",
    "#Figure1.1 General comparasion of average travel numbers between 2019 and 2020 for all age groups \n",
    "#Person Characteristics is on X-axis, average travel numbers is on Y-axis, 2019 and 2020 are color legends, y-value is the text on the graph\n",
    "fig_trip_total = px.line(df[df.Reismotieven == 'Totaal'], x = 'Persoonskenmerken', \n",
    "    y = 'Gemiddeld per persoon per dag /Verplaatsingen  (aantal)',color= 'Perioden',\n",
    "    text ='Gemiddeld per persoon per dag /Verplaatsingen  (aantal)',\n",
    "    labels={'Persoonskenmerken':'Age Group','Gemiddeld per persoon per dag /Verplaatsingen  (aantal)':\n",
    "            'Average per person per day/ Travels (number)'})\n",
    "fig_trip_total.update_traces(textposition='top center')\n",
    "fig_trip_total.update_layout(title_text = 'Comparasion of average travel numbers for all purpose', \n",
    "                             yaxis=dict(tickmode = 'linear', tick0 = 0, dtick = 0.25))\n",
    "fig_trip_total.show()\n",
    "\n",
    "#Figure1.2 To and from work trips comparasion of average travel numbers between 2019 and 2020 for all age groups \n",
    "#Person Characteristics is on X-axis, average travel numbers is on Y-axis, 2019 and 2020 are color legends, y-value is the text on the graph\n",
    "fig_trip_work = px.line(df[df.Reismotieven == 'Van en naar het werk'], x = 'Persoonskenmerken', \n",
    "    y = 'Gemiddeld per persoon per dag /Verplaatsingen  (aantal)', color= 'Perioden',\n",
    "    text = 'Gemiddeld per persoon per dag /Verplaatsingen  (aantal)',\n",
    "    labels={'Persoonskenmerken':'Age Group','Gemiddeld per persoon per dag /Verplaatsingen  (aantal)':\n",
    "            'Average per person per day/ Travels (number)'})\n",
    "fig_trip_work.update_traces(textposition='top center')\n",
    "fig_trip_work.update_layout(title_text = 'Comparasion of average travel numbers for to and from work')\n",
    "fig_trip_work.show()"
   ]
  },
  {
   "cell_type": "code",
   "execution_count": 7,
   "metadata": {},
   "outputs": [
    {
     "data": {
      "application/vnd.plotly.v1+json": {
       "config": {
        "plotlyServerURL": "https://plot.ly"
       },
       "data": [
        {
         "hovertemplate": "Perioden=2019<br>Age Group=%{x}<br>Average per person per day/ Distance (travel kilometers)=%{text}<extra></extra>",
         "legendgroup": "2019",
         "line": {
          "color": "#636efa",
          "dash": "solid"
         },
         "marker": {
          "symbol": "circle"
         },
         "mode": "lines+text+markers",
         "name": "2019",
         "orientation": "v",
         "showlegend": true,
         "text": [
          17.08,
          23.59,
          41.57,
          45.45,
          44.1,
          40.47,
          29.66,
          18.19
         ],
         "textposition": "top center",
         "type": "scatter",
         "x": [
          "Age: 6 to 12",
          "Age: 12 to 18",
          "Age: 18 to 25",
          "Age: 25 to 35",
          "Age: 35 to 50",
          "Age: 50 to 65",
          "Age: 65 to 75",
          "Age: 75 years or older"
         ],
         "xaxis": "x",
         "y": [
          17.08,
          23.59,
          41.57,
          45.45,
          44.1,
          40.47,
          29.66,
          18.19
         ],
         "yaxis": "y"
        },
        {
         "hovertemplate": "Perioden=2020<br>Age Group=%{x}<br>Average per person per day/ Distance (travel kilometers)=%{text}<extra></extra>",
         "legendgroup": "2020",
         "line": {
          "color": "#EF553B",
          "dash": "solid"
         },
         "marker": {
          "symbol": "circle"
         },
         "mode": "lines+text+markers",
         "name": "2020",
         "orientation": "v",
         "showlegend": true,
         "text": [
          13.5,
          15.58,
          26.8,
          30,
          30.84,
          29.72,
          20.6,
          10.85
         ],
         "textposition": "top center",
         "type": "scatter",
         "x": [
          "Age: 6 to 12",
          "Age: 12 to 18",
          "Age: 18 to 25",
          "Age: 25 to 35",
          "Age: 35 to 50",
          "Age: 50 to 65",
          "Age: 65 to 75",
          "Age: 75 years or older"
         ],
         "xaxis": "x",
         "y": [
          13.5,
          15.58,
          26.8,
          30,
          30.84,
          29.72,
          20.6,
          10.85
         ],
         "yaxis": "y"
        }
       ],
       "layout": {
        "legend": {
         "title": {
          "text": "Perioden"
         },
         "tracegroupgap": 0
        },
        "margin": {
         "t": 60
        },
        "template": {
         "data": {
          "bar": [
           {
            "error_x": {
             "color": "#2a3f5f"
            },
            "error_y": {
             "color": "#2a3f5f"
            },
            "marker": {
             "line": {
              "color": "#E5ECF6",
              "width": 0.5
             },
             "pattern": {
              "fillmode": "overlay",
              "size": 10,
              "solidity": 0.2
             }
            },
            "type": "bar"
           }
          ],
          "barpolar": [
           {
            "marker": {
             "line": {
              "color": "#E5ECF6",
              "width": 0.5
             },
             "pattern": {
              "fillmode": "overlay",
              "size": 10,
              "solidity": 0.2
             }
            },
            "type": "barpolar"
           }
          ],
          "carpet": [
           {
            "aaxis": {
             "endlinecolor": "#2a3f5f",
             "gridcolor": "white",
             "linecolor": "white",
             "minorgridcolor": "white",
             "startlinecolor": "#2a3f5f"
            },
            "baxis": {
             "endlinecolor": "#2a3f5f",
             "gridcolor": "white",
             "linecolor": "white",
             "minorgridcolor": "white",
             "startlinecolor": "#2a3f5f"
            },
            "type": "carpet"
           }
          ],
          "choropleth": [
           {
            "colorbar": {
             "outlinewidth": 0,
             "ticks": ""
            },
            "type": "choropleth"
           }
          ],
          "contour": [
           {
            "colorbar": {
             "outlinewidth": 0,
             "ticks": ""
            },
            "colorscale": [
             [
              0,
              "#0d0887"
             ],
             [
              0.1111111111111111,
              "#46039f"
             ],
             [
              0.2222222222222222,
              "#7201a8"
             ],
             [
              0.3333333333333333,
              "#9c179e"
             ],
             [
              0.4444444444444444,
              "#bd3786"
             ],
             [
              0.5555555555555556,
              "#d8576b"
             ],
             [
              0.6666666666666666,
              "#ed7953"
             ],
             [
              0.7777777777777778,
              "#fb9f3a"
             ],
             [
              0.8888888888888888,
              "#fdca26"
             ],
             [
              1,
              "#f0f921"
             ]
            ],
            "type": "contour"
           }
          ],
          "contourcarpet": [
           {
            "colorbar": {
             "outlinewidth": 0,
             "ticks": ""
            },
            "type": "contourcarpet"
           }
          ],
          "heatmap": [
           {
            "colorbar": {
             "outlinewidth": 0,
             "ticks": ""
            },
            "colorscale": [
             [
              0,
              "#0d0887"
             ],
             [
              0.1111111111111111,
              "#46039f"
             ],
             [
              0.2222222222222222,
              "#7201a8"
             ],
             [
              0.3333333333333333,
              "#9c179e"
             ],
             [
              0.4444444444444444,
              "#bd3786"
             ],
             [
              0.5555555555555556,
              "#d8576b"
             ],
             [
              0.6666666666666666,
              "#ed7953"
             ],
             [
              0.7777777777777778,
              "#fb9f3a"
             ],
             [
              0.8888888888888888,
              "#fdca26"
             ],
             [
              1,
              "#f0f921"
             ]
            ],
            "type": "heatmap"
           }
          ],
          "heatmapgl": [
           {
            "colorbar": {
             "outlinewidth": 0,
             "ticks": ""
            },
            "colorscale": [
             [
              0,
              "#0d0887"
             ],
             [
              0.1111111111111111,
              "#46039f"
             ],
             [
              0.2222222222222222,
              "#7201a8"
             ],
             [
              0.3333333333333333,
              "#9c179e"
             ],
             [
              0.4444444444444444,
              "#bd3786"
             ],
             [
              0.5555555555555556,
              "#d8576b"
             ],
             [
              0.6666666666666666,
              "#ed7953"
             ],
             [
              0.7777777777777778,
              "#fb9f3a"
             ],
             [
              0.8888888888888888,
              "#fdca26"
             ],
             [
              1,
              "#f0f921"
             ]
            ],
            "type": "heatmapgl"
           }
          ],
          "histogram": [
           {
            "marker": {
             "pattern": {
              "fillmode": "overlay",
              "size": 10,
              "solidity": 0.2
             }
            },
            "type": "histogram"
           }
          ],
          "histogram2d": [
           {
            "colorbar": {
             "outlinewidth": 0,
             "ticks": ""
            },
            "colorscale": [
             [
              0,
              "#0d0887"
             ],
             [
              0.1111111111111111,
              "#46039f"
             ],
             [
              0.2222222222222222,
              "#7201a8"
             ],
             [
              0.3333333333333333,
              "#9c179e"
             ],
             [
              0.4444444444444444,
              "#bd3786"
             ],
             [
              0.5555555555555556,
              "#d8576b"
             ],
             [
              0.6666666666666666,
              "#ed7953"
             ],
             [
              0.7777777777777778,
              "#fb9f3a"
             ],
             [
              0.8888888888888888,
              "#fdca26"
             ],
             [
              1,
              "#f0f921"
             ]
            ],
            "type": "histogram2d"
           }
          ],
          "histogram2dcontour": [
           {
            "colorbar": {
             "outlinewidth": 0,
             "ticks": ""
            },
            "colorscale": [
             [
              0,
              "#0d0887"
             ],
             [
              0.1111111111111111,
              "#46039f"
             ],
             [
              0.2222222222222222,
              "#7201a8"
             ],
             [
              0.3333333333333333,
              "#9c179e"
             ],
             [
              0.4444444444444444,
              "#bd3786"
             ],
             [
              0.5555555555555556,
              "#d8576b"
             ],
             [
              0.6666666666666666,
              "#ed7953"
             ],
             [
              0.7777777777777778,
              "#fb9f3a"
             ],
             [
              0.8888888888888888,
              "#fdca26"
             ],
             [
              1,
              "#f0f921"
             ]
            ],
            "type": "histogram2dcontour"
           }
          ],
          "mesh3d": [
           {
            "colorbar": {
             "outlinewidth": 0,
             "ticks": ""
            },
            "type": "mesh3d"
           }
          ],
          "parcoords": [
           {
            "line": {
             "colorbar": {
              "outlinewidth": 0,
              "ticks": ""
             }
            },
            "type": "parcoords"
           }
          ],
          "pie": [
           {
            "automargin": true,
            "type": "pie"
           }
          ],
          "scatter": [
           {
            "fillpattern": {
             "fillmode": "overlay",
             "size": 10,
             "solidity": 0.2
            },
            "type": "scatter"
           }
          ],
          "scatter3d": [
           {
            "line": {
             "colorbar": {
              "outlinewidth": 0,
              "ticks": ""
             }
            },
            "marker": {
             "colorbar": {
              "outlinewidth": 0,
              "ticks": ""
             }
            },
            "type": "scatter3d"
           }
          ],
          "scattercarpet": [
           {
            "marker": {
             "colorbar": {
              "outlinewidth": 0,
              "ticks": ""
             }
            },
            "type": "scattercarpet"
           }
          ],
          "scattergeo": [
           {
            "marker": {
             "colorbar": {
              "outlinewidth": 0,
              "ticks": ""
             }
            },
            "type": "scattergeo"
           }
          ],
          "scattergl": [
           {
            "marker": {
             "colorbar": {
              "outlinewidth": 0,
              "ticks": ""
             }
            },
            "type": "scattergl"
           }
          ],
          "scattermapbox": [
           {
            "marker": {
             "colorbar": {
              "outlinewidth": 0,
              "ticks": ""
             }
            },
            "type": "scattermapbox"
           }
          ],
          "scatterpolar": [
           {
            "marker": {
             "colorbar": {
              "outlinewidth": 0,
              "ticks": ""
             }
            },
            "type": "scatterpolar"
           }
          ],
          "scatterpolargl": [
           {
            "marker": {
             "colorbar": {
              "outlinewidth": 0,
              "ticks": ""
             }
            },
            "type": "scatterpolargl"
           }
          ],
          "scatterternary": [
           {
            "marker": {
             "colorbar": {
              "outlinewidth": 0,
              "ticks": ""
             }
            },
            "type": "scatterternary"
           }
          ],
          "surface": [
           {
            "colorbar": {
             "outlinewidth": 0,
             "ticks": ""
            },
            "colorscale": [
             [
              0,
              "#0d0887"
             ],
             [
              0.1111111111111111,
              "#46039f"
             ],
             [
              0.2222222222222222,
              "#7201a8"
             ],
             [
              0.3333333333333333,
              "#9c179e"
             ],
             [
              0.4444444444444444,
              "#bd3786"
             ],
             [
              0.5555555555555556,
              "#d8576b"
             ],
             [
              0.6666666666666666,
              "#ed7953"
             ],
             [
              0.7777777777777778,
              "#fb9f3a"
             ],
             [
              0.8888888888888888,
              "#fdca26"
             ],
             [
              1,
              "#f0f921"
             ]
            ],
            "type": "surface"
           }
          ],
          "table": [
           {
            "cells": {
             "fill": {
              "color": "#EBF0F8"
             },
             "line": {
              "color": "white"
             }
            },
            "header": {
             "fill": {
              "color": "#C8D4E3"
             },
             "line": {
              "color": "white"
             }
            },
            "type": "table"
           }
          ]
         },
         "layout": {
          "annotationdefaults": {
           "arrowcolor": "#2a3f5f",
           "arrowhead": 0,
           "arrowwidth": 1
          },
          "autotypenumbers": "strict",
          "coloraxis": {
           "colorbar": {
            "outlinewidth": 0,
            "ticks": ""
           }
          },
          "colorscale": {
           "diverging": [
            [
             0,
             "#8e0152"
            ],
            [
             0.1,
             "#c51b7d"
            ],
            [
             0.2,
             "#de77ae"
            ],
            [
             0.3,
             "#f1b6da"
            ],
            [
             0.4,
             "#fde0ef"
            ],
            [
             0.5,
             "#f7f7f7"
            ],
            [
             0.6,
             "#e6f5d0"
            ],
            [
             0.7,
             "#b8e186"
            ],
            [
             0.8,
             "#7fbc41"
            ],
            [
             0.9,
             "#4d9221"
            ],
            [
             1,
             "#276419"
            ]
           ],
           "sequential": [
            [
             0,
             "#0d0887"
            ],
            [
             0.1111111111111111,
             "#46039f"
            ],
            [
             0.2222222222222222,
             "#7201a8"
            ],
            [
             0.3333333333333333,
             "#9c179e"
            ],
            [
             0.4444444444444444,
             "#bd3786"
            ],
            [
             0.5555555555555556,
             "#d8576b"
            ],
            [
             0.6666666666666666,
             "#ed7953"
            ],
            [
             0.7777777777777778,
             "#fb9f3a"
            ],
            [
             0.8888888888888888,
             "#fdca26"
            ],
            [
             1,
             "#f0f921"
            ]
           ],
           "sequentialminus": [
            [
             0,
             "#0d0887"
            ],
            [
             0.1111111111111111,
             "#46039f"
            ],
            [
             0.2222222222222222,
             "#7201a8"
            ],
            [
             0.3333333333333333,
             "#9c179e"
            ],
            [
             0.4444444444444444,
             "#bd3786"
            ],
            [
             0.5555555555555556,
             "#d8576b"
            ],
            [
             0.6666666666666666,
             "#ed7953"
            ],
            [
             0.7777777777777778,
             "#fb9f3a"
            ],
            [
             0.8888888888888888,
             "#fdca26"
            ],
            [
             1,
             "#f0f921"
            ]
           ]
          },
          "colorway": [
           "#636efa",
           "#EF553B",
           "#00cc96",
           "#ab63fa",
           "#FFA15A",
           "#19d3f3",
           "#FF6692",
           "#B6E880",
           "#FF97FF",
           "#FECB52"
          ],
          "font": {
           "color": "#2a3f5f"
          },
          "geo": {
           "bgcolor": "white",
           "lakecolor": "white",
           "landcolor": "#E5ECF6",
           "showlakes": true,
           "showland": true,
           "subunitcolor": "white"
          },
          "hoverlabel": {
           "align": "left"
          },
          "hovermode": "closest",
          "mapbox": {
           "style": "light"
          },
          "paper_bgcolor": "white",
          "plot_bgcolor": "#E5ECF6",
          "polar": {
           "angularaxis": {
            "gridcolor": "white",
            "linecolor": "white",
            "ticks": ""
           },
           "bgcolor": "#E5ECF6",
           "radialaxis": {
            "gridcolor": "white",
            "linecolor": "white",
            "ticks": ""
           }
          },
          "scene": {
           "xaxis": {
            "backgroundcolor": "#E5ECF6",
            "gridcolor": "white",
            "gridwidth": 2,
            "linecolor": "white",
            "showbackground": true,
            "ticks": "",
            "zerolinecolor": "white"
           },
           "yaxis": {
            "backgroundcolor": "#E5ECF6",
            "gridcolor": "white",
            "gridwidth": 2,
            "linecolor": "white",
            "showbackground": true,
            "ticks": "",
            "zerolinecolor": "white"
           },
           "zaxis": {
            "backgroundcolor": "#E5ECF6",
            "gridcolor": "white",
            "gridwidth": 2,
            "linecolor": "white",
            "showbackground": true,
            "ticks": "",
            "zerolinecolor": "white"
           }
          },
          "shapedefaults": {
           "line": {
            "color": "#2a3f5f"
           }
          },
          "ternary": {
           "aaxis": {
            "gridcolor": "white",
            "linecolor": "white",
            "ticks": ""
           },
           "baxis": {
            "gridcolor": "white",
            "linecolor": "white",
            "ticks": ""
           },
           "bgcolor": "#E5ECF6",
           "caxis": {
            "gridcolor": "white",
            "linecolor": "white",
            "ticks": ""
           }
          },
          "title": {
           "x": 0.05
          },
          "xaxis": {
           "automargin": true,
           "gridcolor": "white",
           "linecolor": "white",
           "ticks": "",
           "title": {
            "standoff": 15
           },
           "zerolinecolor": "white",
           "zerolinewidth": 2
          },
          "yaxis": {
           "automargin": true,
           "gridcolor": "white",
           "linecolor": "white",
           "ticks": "",
           "title": {
            "standoff": 15
           },
           "zerolinecolor": "white",
           "zerolinewidth": 2
          }
         }
        },
        "title": {
         "text": "Comparasion of travel distance for all purpose"
        },
        "xaxis": {
         "anchor": "y",
         "domain": [
          0,
          1
         ],
         "title": {
          "text": "Age Group"
         }
        },
        "yaxis": {
         "anchor": "x",
         "domain": [
          0,
          1
         ],
         "title": {
          "text": "Average per person per day/ Distance (travel kilometers)"
         }
        }
       }
      }
     },
     "metadata": {},
     "output_type": "display_data"
    },
    {
     "data": {
      "application/vnd.plotly.v1+json": {
       "config": {
        "plotlyServerURL": "https://plot.ly"
       },
       "data": [
        {
         "hovertemplate": "Perioden=2019<br>Age Group=%{x}<br>Average per person per day/ Distance (travel kilometers)=%{text}<extra></extra>",
         "legendgroup": "2019",
         "line": {
          "color": "#636efa",
          "dash": "solid"
         },
         "marker": {
          "symbol": "circle"
         },
         "mode": "lines+text+markers",
         "name": "2019",
         "orientation": "v",
         "showlegend": true,
         "text": [
          null,
          null,
          9.36,
          16.99,
          16.07,
          12.67,
          2.59,
          0.64
         ],
         "textposition": "top center",
         "type": "scatter",
         "x": [
          "Age: 6 to 12",
          "Age: 12 to 18",
          "Age: 18 to 25",
          "Age: 25 to 35",
          "Age: 35 to 50",
          "Age: 50 to 65",
          "Age: 65 to 75",
          "Age: 75 years or older"
         ],
         "xaxis": "x",
         "y": [
          null,
          null,
          9.36,
          16.99,
          16.07,
          12.67,
          2.59,
          0.64
         ],
         "yaxis": "y"
        },
        {
         "hovertemplate": "Perioden=2020<br>Age Group=%{x}<br>Average per person per day/ Distance (travel kilometers)=%{text}<extra></extra>",
         "legendgroup": "2020",
         "line": {
          "color": "#EF553B",
          "dash": "solid"
         },
         "marker": {
          "symbol": "circle"
         },
         "mode": "lines+text+markers",
         "name": "2020",
         "orientation": "v",
         "showlegend": true,
         "text": [
          null,
          0.54,
          5.43,
          10.41,
          9.74,
          8.85,
          1.87,
          0.36
         ],
         "textposition": "top center",
         "type": "scatter",
         "x": [
          "Age: 6 to 12",
          "Age: 12 to 18",
          "Age: 18 to 25",
          "Age: 25 to 35",
          "Age: 35 to 50",
          "Age: 50 to 65",
          "Age: 65 to 75",
          "Age: 75 years or older"
         ],
         "xaxis": "x",
         "y": [
          null,
          0.54,
          5.43,
          10.41,
          9.74,
          8.85,
          1.87,
          0.36
         ],
         "yaxis": "y"
        }
       ],
       "layout": {
        "legend": {
         "title": {
          "text": "Perioden"
         },
         "tracegroupgap": 0
        },
        "margin": {
         "t": 60
        },
        "template": {
         "data": {
          "bar": [
           {
            "error_x": {
             "color": "#2a3f5f"
            },
            "error_y": {
             "color": "#2a3f5f"
            },
            "marker": {
             "line": {
              "color": "#E5ECF6",
              "width": 0.5
             },
             "pattern": {
              "fillmode": "overlay",
              "size": 10,
              "solidity": 0.2
             }
            },
            "type": "bar"
           }
          ],
          "barpolar": [
           {
            "marker": {
             "line": {
              "color": "#E5ECF6",
              "width": 0.5
             },
             "pattern": {
              "fillmode": "overlay",
              "size": 10,
              "solidity": 0.2
             }
            },
            "type": "barpolar"
           }
          ],
          "carpet": [
           {
            "aaxis": {
             "endlinecolor": "#2a3f5f",
             "gridcolor": "white",
             "linecolor": "white",
             "minorgridcolor": "white",
             "startlinecolor": "#2a3f5f"
            },
            "baxis": {
             "endlinecolor": "#2a3f5f",
             "gridcolor": "white",
             "linecolor": "white",
             "minorgridcolor": "white",
             "startlinecolor": "#2a3f5f"
            },
            "type": "carpet"
           }
          ],
          "choropleth": [
           {
            "colorbar": {
             "outlinewidth": 0,
             "ticks": ""
            },
            "type": "choropleth"
           }
          ],
          "contour": [
           {
            "colorbar": {
             "outlinewidth": 0,
             "ticks": ""
            },
            "colorscale": [
             [
              0,
              "#0d0887"
             ],
             [
              0.1111111111111111,
              "#46039f"
             ],
             [
              0.2222222222222222,
              "#7201a8"
             ],
             [
              0.3333333333333333,
              "#9c179e"
             ],
             [
              0.4444444444444444,
              "#bd3786"
             ],
             [
              0.5555555555555556,
              "#d8576b"
             ],
             [
              0.6666666666666666,
              "#ed7953"
             ],
             [
              0.7777777777777778,
              "#fb9f3a"
             ],
             [
              0.8888888888888888,
              "#fdca26"
             ],
             [
              1,
              "#f0f921"
             ]
            ],
            "type": "contour"
           }
          ],
          "contourcarpet": [
           {
            "colorbar": {
             "outlinewidth": 0,
             "ticks": ""
            },
            "type": "contourcarpet"
           }
          ],
          "heatmap": [
           {
            "colorbar": {
             "outlinewidth": 0,
             "ticks": ""
            },
            "colorscale": [
             [
              0,
              "#0d0887"
             ],
             [
              0.1111111111111111,
              "#46039f"
             ],
             [
              0.2222222222222222,
              "#7201a8"
             ],
             [
              0.3333333333333333,
              "#9c179e"
             ],
             [
              0.4444444444444444,
              "#bd3786"
             ],
             [
              0.5555555555555556,
              "#d8576b"
             ],
             [
              0.6666666666666666,
              "#ed7953"
             ],
             [
              0.7777777777777778,
              "#fb9f3a"
             ],
             [
              0.8888888888888888,
              "#fdca26"
             ],
             [
              1,
              "#f0f921"
             ]
            ],
            "type": "heatmap"
           }
          ],
          "heatmapgl": [
           {
            "colorbar": {
             "outlinewidth": 0,
             "ticks": ""
            },
            "colorscale": [
             [
              0,
              "#0d0887"
             ],
             [
              0.1111111111111111,
              "#46039f"
             ],
             [
              0.2222222222222222,
              "#7201a8"
             ],
             [
              0.3333333333333333,
              "#9c179e"
             ],
             [
              0.4444444444444444,
              "#bd3786"
             ],
             [
              0.5555555555555556,
              "#d8576b"
             ],
             [
              0.6666666666666666,
              "#ed7953"
             ],
             [
              0.7777777777777778,
              "#fb9f3a"
             ],
             [
              0.8888888888888888,
              "#fdca26"
             ],
             [
              1,
              "#f0f921"
             ]
            ],
            "type": "heatmapgl"
           }
          ],
          "histogram": [
           {
            "marker": {
             "pattern": {
              "fillmode": "overlay",
              "size": 10,
              "solidity": 0.2
             }
            },
            "type": "histogram"
           }
          ],
          "histogram2d": [
           {
            "colorbar": {
             "outlinewidth": 0,
             "ticks": ""
            },
            "colorscale": [
             [
              0,
              "#0d0887"
             ],
             [
              0.1111111111111111,
              "#46039f"
             ],
             [
              0.2222222222222222,
              "#7201a8"
             ],
             [
              0.3333333333333333,
              "#9c179e"
             ],
             [
              0.4444444444444444,
              "#bd3786"
             ],
             [
              0.5555555555555556,
              "#d8576b"
             ],
             [
              0.6666666666666666,
              "#ed7953"
             ],
             [
              0.7777777777777778,
              "#fb9f3a"
             ],
             [
              0.8888888888888888,
              "#fdca26"
             ],
             [
              1,
              "#f0f921"
             ]
            ],
            "type": "histogram2d"
           }
          ],
          "histogram2dcontour": [
           {
            "colorbar": {
             "outlinewidth": 0,
             "ticks": ""
            },
            "colorscale": [
             [
              0,
              "#0d0887"
             ],
             [
              0.1111111111111111,
              "#46039f"
             ],
             [
              0.2222222222222222,
              "#7201a8"
             ],
             [
              0.3333333333333333,
              "#9c179e"
             ],
             [
              0.4444444444444444,
              "#bd3786"
             ],
             [
              0.5555555555555556,
              "#d8576b"
             ],
             [
              0.6666666666666666,
              "#ed7953"
             ],
             [
              0.7777777777777778,
              "#fb9f3a"
             ],
             [
              0.8888888888888888,
              "#fdca26"
             ],
             [
              1,
              "#f0f921"
             ]
            ],
            "type": "histogram2dcontour"
           }
          ],
          "mesh3d": [
           {
            "colorbar": {
             "outlinewidth": 0,
             "ticks": ""
            },
            "type": "mesh3d"
           }
          ],
          "parcoords": [
           {
            "line": {
             "colorbar": {
              "outlinewidth": 0,
              "ticks": ""
             }
            },
            "type": "parcoords"
           }
          ],
          "pie": [
           {
            "automargin": true,
            "type": "pie"
           }
          ],
          "scatter": [
           {
            "fillpattern": {
             "fillmode": "overlay",
             "size": 10,
             "solidity": 0.2
            },
            "type": "scatter"
           }
          ],
          "scatter3d": [
           {
            "line": {
             "colorbar": {
              "outlinewidth": 0,
              "ticks": ""
             }
            },
            "marker": {
             "colorbar": {
              "outlinewidth": 0,
              "ticks": ""
             }
            },
            "type": "scatter3d"
           }
          ],
          "scattercarpet": [
           {
            "marker": {
             "colorbar": {
              "outlinewidth": 0,
              "ticks": ""
             }
            },
            "type": "scattercarpet"
           }
          ],
          "scattergeo": [
           {
            "marker": {
             "colorbar": {
              "outlinewidth": 0,
              "ticks": ""
             }
            },
            "type": "scattergeo"
           }
          ],
          "scattergl": [
           {
            "marker": {
             "colorbar": {
              "outlinewidth": 0,
              "ticks": ""
             }
            },
            "type": "scattergl"
           }
          ],
          "scattermapbox": [
           {
            "marker": {
             "colorbar": {
              "outlinewidth": 0,
              "ticks": ""
             }
            },
            "type": "scattermapbox"
           }
          ],
          "scatterpolar": [
           {
            "marker": {
             "colorbar": {
              "outlinewidth": 0,
              "ticks": ""
             }
            },
            "type": "scatterpolar"
           }
          ],
          "scatterpolargl": [
           {
            "marker": {
             "colorbar": {
              "outlinewidth": 0,
              "ticks": ""
             }
            },
            "type": "scatterpolargl"
           }
          ],
          "scatterternary": [
           {
            "marker": {
             "colorbar": {
              "outlinewidth": 0,
              "ticks": ""
             }
            },
            "type": "scatterternary"
           }
          ],
          "surface": [
           {
            "colorbar": {
             "outlinewidth": 0,
             "ticks": ""
            },
            "colorscale": [
             [
              0,
              "#0d0887"
             ],
             [
              0.1111111111111111,
              "#46039f"
             ],
             [
              0.2222222222222222,
              "#7201a8"
             ],
             [
              0.3333333333333333,
              "#9c179e"
             ],
             [
              0.4444444444444444,
              "#bd3786"
             ],
             [
              0.5555555555555556,
              "#d8576b"
             ],
             [
              0.6666666666666666,
              "#ed7953"
             ],
             [
              0.7777777777777778,
              "#fb9f3a"
             ],
             [
              0.8888888888888888,
              "#fdca26"
             ],
             [
              1,
              "#f0f921"
             ]
            ],
            "type": "surface"
           }
          ],
          "table": [
           {
            "cells": {
             "fill": {
              "color": "#EBF0F8"
             },
             "line": {
              "color": "white"
             }
            },
            "header": {
             "fill": {
              "color": "#C8D4E3"
             },
             "line": {
              "color": "white"
             }
            },
            "type": "table"
           }
          ]
         },
         "layout": {
          "annotationdefaults": {
           "arrowcolor": "#2a3f5f",
           "arrowhead": 0,
           "arrowwidth": 1
          },
          "autotypenumbers": "strict",
          "coloraxis": {
           "colorbar": {
            "outlinewidth": 0,
            "ticks": ""
           }
          },
          "colorscale": {
           "diverging": [
            [
             0,
             "#8e0152"
            ],
            [
             0.1,
             "#c51b7d"
            ],
            [
             0.2,
             "#de77ae"
            ],
            [
             0.3,
             "#f1b6da"
            ],
            [
             0.4,
             "#fde0ef"
            ],
            [
             0.5,
             "#f7f7f7"
            ],
            [
             0.6,
             "#e6f5d0"
            ],
            [
             0.7,
             "#b8e186"
            ],
            [
             0.8,
             "#7fbc41"
            ],
            [
             0.9,
             "#4d9221"
            ],
            [
             1,
             "#276419"
            ]
           ],
           "sequential": [
            [
             0,
             "#0d0887"
            ],
            [
             0.1111111111111111,
             "#46039f"
            ],
            [
             0.2222222222222222,
             "#7201a8"
            ],
            [
             0.3333333333333333,
             "#9c179e"
            ],
            [
             0.4444444444444444,
             "#bd3786"
            ],
            [
             0.5555555555555556,
             "#d8576b"
            ],
            [
             0.6666666666666666,
             "#ed7953"
            ],
            [
             0.7777777777777778,
             "#fb9f3a"
            ],
            [
             0.8888888888888888,
             "#fdca26"
            ],
            [
             1,
             "#f0f921"
            ]
           ],
           "sequentialminus": [
            [
             0,
             "#0d0887"
            ],
            [
             0.1111111111111111,
             "#46039f"
            ],
            [
             0.2222222222222222,
             "#7201a8"
            ],
            [
             0.3333333333333333,
             "#9c179e"
            ],
            [
             0.4444444444444444,
             "#bd3786"
            ],
            [
             0.5555555555555556,
             "#d8576b"
            ],
            [
             0.6666666666666666,
             "#ed7953"
            ],
            [
             0.7777777777777778,
             "#fb9f3a"
            ],
            [
             0.8888888888888888,
             "#fdca26"
            ],
            [
             1,
             "#f0f921"
            ]
           ]
          },
          "colorway": [
           "#636efa",
           "#EF553B",
           "#00cc96",
           "#ab63fa",
           "#FFA15A",
           "#19d3f3",
           "#FF6692",
           "#B6E880",
           "#FF97FF",
           "#FECB52"
          ],
          "font": {
           "color": "#2a3f5f"
          },
          "geo": {
           "bgcolor": "white",
           "lakecolor": "white",
           "landcolor": "#E5ECF6",
           "showlakes": true,
           "showland": true,
           "subunitcolor": "white"
          },
          "hoverlabel": {
           "align": "left"
          },
          "hovermode": "closest",
          "mapbox": {
           "style": "light"
          },
          "paper_bgcolor": "white",
          "plot_bgcolor": "#E5ECF6",
          "polar": {
           "angularaxis": {
            "gridcolor": "white",
            "linecolor": "white",
            "ticks": ""
           },
           "bgcolor": "#E5ECF6",
           "radialaxis": {
            "gridcolor": "white",
            "linecolor": "white",
            "ticks": ""
           }
          },
          "scene": {
           "xaxis": {
            "backgroundcolor": "#E5ECF6",
            "gridcolor": "white",
            "gridwidth": 2,
            "linecolor": "white",
            "showbackground": true,
            "ticks": "",
            "zerolinecolor": "white"
           },
           "yaxis": {
            "backgroundcolor": "#E5ECF6",
            "gridcolor": "white",
            "gridwidth": 2,
            "linecolor": "white",
            "showbackground": true,
            "ticks": "",
            "zerolinecolor": "white"
           },
           "zaxis": {
            "backgroundcolor": "#E5ECF6",
            "gridcolor": "white",
            "gridwidth": 2,
            "linecolor": "white",
            "showbackground": true,
            "ticks": "",
            "zerolinecolor": "white"
           }
          },
          "shapedefaults": {
           "line": {
            "color": "#2a3f5f"
           }
          },
          "ternary": {
           "aaxis": {
            "gridcolor": "white",
            "linecolor": "white",
            "ticks": ""
           },
           "baxis": {
            "gridcolor": "white",
            "linecolor": "white",
            "ticks": ""
           },
           "bgcolor": "#E5ECF6",
           "caxis": {
            "gridcolor": "white",
            "linecolor": "white",
            "ticks": ""
           }
          },
          "title": {
           "x": 0.05
          },
          "xaxis": {
           "automargin": true,
           "gridcolor": "white",
           "linecolor": "white",
           "ticks": "",
           "title": {
            "standoff": 15
           },
           "zerolinecolor": "white",
           "zerolinewidth": 2
          },
          "yaxis": {
           "automargin": true,
           "gridcolor": "white",
           "linecolor": "white",
           "ticks": "",
           "title": {
            "standoff": 15
           },
           "zerolinecolor": "white",
           "zerolinewidth": 2
          }
         }
        },
        "title": {
         "text": "Comparasion of travel distance for to and from work"
        },
        "xaxis": {
         "anchor": "y",
         "domain": [
          0,
          1
         ],
         "title": {
          "text": "Age Group"
         }
        },
        "yaxis": {
         "anchor": "x",
         "domain": [
          0,
          1
         ],
         "title": {
          "text": "Average per person per day/ Distance (travel kilometers)"
         }
        }
       }
      }
     },
     "metadata": {},
     "output_type": "display_data"
    }
   ],
   "source": [
    "#Figure1.3 General comparasion of travel distance between 2019 and 2020 for all age groups \n",
    "#Person Characteristics is on X-axis, average travel distance is on Y-axis, 2019 and 2020 are color legends, y-value is text on the graph\n",
    "fig_distance_total = px.line(df[df.Reismotieven == 'Totaal'], x = 'Persoonskenmerken',\n",
    "    y = 'Gemiddeld per persoon per dag /Afstand  (reizigerskilometers)', color= 'Perioden',\n",
    "    text = 'Gemiddeld per persoon per dag /Afstand  (reizigerskilometers)', \n",
    "    labels={'Persoonskenmerken':'Age Group','Gemiddeld per persoon per dag /Afstand  (reizigerskilometers)':\n",
    "            'Average per person per day/ Distance (travel kilometers)'})\n",
    "fig_distance_total.update_traces(textposition='top center')\n",
    "fig_distance_total.update_layout(title_text = 'Comparasion of travel distance for all purpose')\n",
    "fig_distance_total.show()\n",
    "\n",
    "#Figure1.4 To and from work comparasion of travel distance between 2019 and 2020 for all age groups \n",
    "#Person Characteristics is on X-axis, average travel distance is on Y-axis, 2019 and 2020 are color legends, y-value is text on the graph\n",
    "fig_distance_work = px.line(df[df.Reismotieven == 'Van en naar het werk'], x = 'Persoonskenmerken', \n",
    "    y = 'Gemiddeld per persoon per dag /Afstand  (reizigerskilometers)', color= 'Perioden',\n",
    "    text = 'Gemiddeld per persoon per dag /Afstand  (reizigerskilometers)',\n",
    "    labels={'Persoonskenmerken':'Age Group','Gemiddeld per persoon per dag /Afstand  (reizigerskilometers)':\n",
    "            'Average per person per day/ Distance (travel kilometers)'})\n",
    "fig_distance_work.update_traces(textposition='top center')\n",
    "fig_distance_work.update_layout(title_text = 'Comparasion of travel distance for to and from work')\n",
    "fig_distance_work.show()"
   ]
  },
  {
   "cell_type": "code",
   "execution_count": 8,
   "metadata": {},
   "outputs": [
    {
     "data": {
      "application/vnd.plotly.v1+json": {
       "config": {
        "plotlyServerURL": "https://plot.ly"
       },
       "data": [
        {
         "hovertemplate": "Perioden=2019<br>Age Group=%{x}<br>Average per person per day/ Travel time (minutes)=%{text}<extra></extra>",
         "legendgroup": "2019",
         "line": {
          "color": "#636efa",
          "dash": "solid"
         },
         "marker": {
          "symbol": "circle"
         },
         "mode": "lines+text+markers",
         "name": "2019",
         "orientation": "v",
         "showlegend": true,
         "text": [
          58.72,
          69.31,
          81.05,
          82.41,
          80.7,
          78.06,
          72.79,
          48.24
         ],
         "textposition": "top center",
         "type": "scatter",
         "x": [
          "Age: 6 to 12",
          "Age: 12 to 18",
          "Age: 18 to 25",
          "Age: 25 to 35",
          "Age: 35 to 50",
          "Age: 50 to 65",
          "Age: 65 to 75",
          "Age: 75 years or older"
         ],
         "xaxis": "x",
         "y": [
          58.72,
          69.31,
          81.05,
          82.41,
          80.7,
          78.06,
          72.79,
          48.24
         ],
         "yaxis": "y"
        },
        {
         "hovertemplate": "Perioden=2020<br>Age Group=%{x}<br>Average per person per day/ Travel time (minutes)=%{text}<extra></extra>",
         "legendgroup": "2020",
         "line": {
          "color": "#EF553B",
          "dash": "solid"
         },
         "marker": {
          "symbol": "circle"
         },
         "mode": "lines+text+markers",
         "name": "2020",
         "orientation": "v",
         "showlegend": true,
         "text": [
          58.51,
          53.97,
          61.92,
          65.74,
          66.76,
          67.96,
          61.8,
          38.62
         ],
         "textposition": "top center",
         "type": "scatter",
         "x": [
          "Age: 6 to 12",
          "Age: 12 to 18",
          "Age: 18 to 25",
          "Age: 25 to 35",
          "Age: 35 to 50",
          "Age: 50 to 65",
          "Age: 65 to 75",
          "Age: 75 years or older"
         ],
         "xaxis": "x",
         "y": [
          58.51,
          53.97,
          61.92,
          65.74,
          66.76,
          67.96,
          61.8,
          38.62
         ],
         "yaxis": "y"
        }
       ],
       "layout": {
        "legend": {
         "title": {
          "text": "Perioden"
         },
         "tracegroupgap": 0
        },
        "margin": {
         "t": 60
        },
        "template": {
         "data": {
          "bar": [
           {
            "error_x": {
             "color": "#2a3f5f"
            },
            "error_y": {
             "color": "#2a3f5f"
            },
            "marker": {
             "line": {
              "color": "#E5ECF6",
              "width": 0.5
             },
             "pattern": {
              "fillmode": "overlay",
              "size": 10,
              "solidity": 0.2
             }
            },
            "type": "bar"
           }
          ],
          "barpolar": [
           {
            "marker": {
             "line": {
              "color": "#E5ECF6",
              "width": 0.5
             },
             "pattern": {
              "fillmode": "overlay",
              "size": 10,
              "solidity": 0.2
             }
            },
            "type": "barpolar"
           }
          ],
          "carpet": [
           {
            "aaxis": {
             "endlinecolor": "#2a3f5f",
             "gridcolor": "white",
             "linecolor": "white",
             "minorgridcolor": "white",
             "startlinecolor": "#2a3f5f"
            },
            "baxis": {
             "endlinecolor": "#2a3f5f",
             "gridcolor": "white",
             "linecolor": "white",
             "minorgridcolor": "white",
             "startlinecolor": "#2a3f5f"
            },
            "type": "carpet"
           }
          ],
          "choropleth": [
           {
            "colorbar": {
             "outlinewidth": 0,
             "ticks": ""
            },
            "type": "choropleth"
           }
          ],
          "contour": [
           {
            "colorbar": {
             "outlinewidth": 0,
             "ticks": ""
            },
            "colorscale": [
             [
              0,
              "#0d0887"
             ],
             [
              0.1111111111111111,
              "#46039f"
             ],
             [
              0.2222222222222222,
              "#7201a8"
             ],
             [
              0.3333333333333333,
              "#9c179e"
             ],
             [
              0.4444444444444444,
              "#bd3786"
             ],
             [
              0.5555555555555556,
              "#d8576b"
             ],
             [
              0.6666666666666666,
              "#ed7953"
             ],
             [
              0.7777777777777778,
              "#fb9f3a"
             ],
             [
              0.8888888888888888,
              "#fdca26"
             ],
             [
              1,
              "#f0f921"
             ]
            ],
            "type": "contour"
           }
          ],
          "contourcarpet": [
           {
            "colorbar": {
             "outlinewidth": 0,
             "ticks": ""
            },
            "type": "contourcarpet"
           }
          ],
          "heatmap": [
           {
            "colorbar": {
             "outlinewidth": 0,
             "ticks": ""
            },
            "colorscale": [
             [
              0,
              "#0d0887"
             ],
             [
              0.1111111111111111,
              "#46039f"
             ],
             [
              0.2222222222222222,
              "#7201a8"
             ],
             [
              0.3333333333333333,
              "#9c179e"
             ],
             [
              0.4444444444444444,
              "#bd3786"
             ],
             [
              0.5555555555555556,
              "#d8576b"
             ],
             [
              0.6666666666666666,
              "#ed7953"
             ],
             [
              0.7777777777777778,
              "#fb9f3a"
             ],
             [
              0.8888888888888888,
              "#fdca26"
             ],
             [
              1,
              "#f0f921"
             ]
            ],
            "type": "heatmap"
           }
          ],
          "heatmapgl": [
           {
            "colorbar": {
             "outlinewidth": 0,
             "ticks": ""
            },
            "colorscale": [
             [
              0,
              "#0d0887"
             ],
             [
              0.1111111111111111,
              "#46039f"
             ],
             [
              0.2222222222222222,
              "#7201a8"
             ],
             [
              0.3333333333333333,
              "#9c179e"
             ],
             [
              0.4444444444444444,
              "#bd3786"
             ],
             [
              0.5555555555555556,
              "#d8576b"
             ],
             [
              0.6666666666666666,
              "#ed7953"
             ],
             [
              0.7777777777777778,
              "#fb9f3a"
             ],
             [
              0.8888888888888888,
              "#fdca26"
             ],
             [
              1,
              "#f0f921"
             ]
            ],
            "type": "heatmapgl"
           }
          ],
          "histogram": [
           {
            "marker": {
             "pattern": {
              "fillmode": "overlay",
              "size": 10,
              "solidity": 0.2
             }
            },
            "type": "histogram"
           }
          ],
          "histogram2d": [
           {
            "colorbar": {
             "outlinewidth": 0,
             "ticks": ""
            },
            "colorscale": [
             [
              0,
              "#0d0887"
             ],
             [
              0.1111111111111111,
              "#46039f"
             ],
             [
              0.2222222222222222,
              "#7201a8"
             ],
             [
              0.3333333333333333,
              "#9c179e"
             ],
             [
              0.4444444444444444,
              "#bd3786"
             ],
             [
              0.5555555555555556,
              "#d8576b"
             ],
             [
              0.6666666666666666,
              "#ed7953"
             ],
             [
              0.7777777777777778,
              "#fb9f3a"
             ],
             [
              0.8888888888888888,
              "#fdca26"
             ],
             [
              1,
              "#f0f921"
             ]
            ],
            "type": "histogram2d"
           }
          ],
          "histogram2dcontour": [
           {
            "colorbar": {
             "outlinewidth": 0,
             "ticks": ""
            },
            "colorscale": [
             [
              0,
              "#0d0887"
             ],
             [
              0.1111111111111111,
              "#46039f"
             ],
             [
              0.2222222222222222,
              "#7201a8"
             ],
             [
              0.3333333333333333,
              "#9c179e"
             ],
             [
              0.4444444444444444,
              "#bd3786"
             ],
             [
              0.5555555555555556,
              "#d8576b"
             ],
             [
              0.6666666666666666,
              "#ed7953"
             ],
             [
              0.7777777777777778,
              "#fb9f3a"
             ],
             [
              0.8888888888888888,
              "#fdca26"
             ],
             [
              1,
              "#f0f921"
             ]
            ],
            "type": "histogram2dcontour"
           }
          ],
          "mesh3d": [
           {
            "colorbar": {
             "outlinewidth": 0,
             "ticks": ""
            },
            "type": "mesh3d"
           }
          ],
          "parcoords": [
           {
            "line": {
             "colorbar": {
              "outlinewidth": 0,
              "ticks": ""
             }
            },
            "type": "parcoords"
           }
          ],
          "pie": [
           {
            "automargin": true,
            "type": "pie"
           }
          ],
          "scatter": [
           {
            "fillpattern": {
             "fillmode": "overlay",
             "size": 10,
             "solidity": 0.2
            },
            "type": "scatter"
           }
          ],
          "scatter3d": [
           {
            "line": {
             "colorbar": {
              "outlinewidth": 0,
              "ticks": ""
             }
            },
            "marker": {
             "colorbar": {
              "outlinewidth": 0,
              "ticks": ""
             }
            },
            "type": "scatter3d"
           }
          ],
          "scattercarpet": [
           {
            "marker": {
             "colorbar": {
              "outlinewidth": 0,
              "ticks": ""
             }
            },
            "type": "scattercarpet"
           }
          ],
          "scattergeo": [
           {
            "marker": {
             "colorbar": {
              "outlinewidth": 0,
              "ticks": ""
             }
            },
            "type": "scattergeo"
           }
          ],
          "scattergl": [
           {
            "marker": {
             "colorbar": {
              "outlinewidth": 0,
              "ticks": ""
             }
            },
            "type": "scattergl"
           }
          ],
          "scattermapbox": [
           {
            "marker": {
             "colorbar": {
              "outlinewidth": 0,
              "ticks": ""
             }
            },
            "type": "scattermapbox"
           }
          ],
          "scatterpolar": [
           {
            "marker": {
             "colorbar": {
              "outlinewidth": 0,
              "ticks": ""
             }
            },
            "type": "scatterpolar"
           }
          ],
          "scatterpolargl": [
           {
            "marker": {
             "colorbar": {
              "outlinewidth": 0,
              "ticks": ""
             }
            },
            "type": "scatterpolargl"
           }
          ],
          "scatterternary": [
           {
            "marker": {
             "colorbar": {
              "outlinewidth": 0,
              "ticks": ""
             }
            },
            "type": "scatterternary"
           }
          ],
          "surface": [
           {
            "colorbar": {
             "outlinewidth": 0,
             "ticks": ""
            },
            "colorscale": [
             [
              0,
              "#0d0887"
             ],
             [
              0.1111111111111111,
              "#46039f"
             ],
             [
              0.2222222222222222,
              "#7201a8"
             ],
             [
              0.3333333333333333,
              "#9c179e"
             ],
             [
              0.4444444444444444,
              "#bd3786"
             ],
             [
              0.5555555555555556,
              "#d8576b"
             ],
             [
              0.6666666666666666,
              "#ed7953"
             ],
             [
              0.7777777777777778,
              "#fb9f3a"
             ],
             [
              0.8888888888888888,
              "#fdca26"
             ],
             [
              1,
              "#f0f921"
             ]
            ],
            "type": "surface"
           }
          ],
          "table": [
           {
            "cells": {
             "fill": {
              "color": "#EBF0F8"
             },
             "line": {
              "color": "white"
             }
            },
            "header": {
             "fill": {
              "color": "#C8D4E3"
             },
             "line": {
              "color": "white"
             }
            },
            "type": "table"
           }
          ]
         },
         "layout": {
          "annotationdefaults": {
           "arrowcolor": "#2a3f5f",
           "arrowhead": 0,
           "arrowwidth": 1
          },
          "autotypenumbers": "strict",
          "coloraxis": {
           "colorbar": {
            "outlinewidth": 0,
            "ticks": ""
           }
          },
          "colorscale": {
           "diverging": [
            [
             0,
             "#8e0152"
            ],
            [
             0.1,
             "#c51b7d"
            ],
            [
             0.2,
             "#de77ae"
            ],
            [
             0.3,
             "#f1b6da"
            ],
            [
             0.4,
             "#fde0ef"
            ],
            [
             0.5,
             "#f7f7f7"
            ],
            [
             0.6,
             "#e6f5d0"
            ],
            [
             0.7,
             "#b8e186"
            ],
            [
             0.8,
             "#7fbc41"
            ],
            [
             0.9,
             "#4d9221"
            ],
            [
             1,
             "#276419"
            ]
           ],
           "sequential": [
            [
             0,
             "#0d0887"
            ],
            [
             0.1111111111111111,
             "#46039f"
            ],
            [
             0.2222222222222222,
             "#7201a8"
            ],
            [
             0.3333333333333333,
             "#9c179e"
            ],
            [
             0.4444444444444444,
             "#bd3786"
            ],
            [
             0.5555555555555556,
             "#d8576b"
            ],
            [
             0.6666666666666666,
             "#ed7953"
            ],
            [
             0.7777777777777778,
             "#fb9f3a"
            ],
            [
             0.8888888888888888,
             "#fdca26"
            ],
            [
             1,
             "#f0f921"
            ]
           ],
           "sequentialminus": [
            [
             0,
             "#0d0887"
            ],
            [
             0.1111111111111111,
             "#46039f"
            ],
            [
             0.2222222222222222,
             "#7201a8"
            ],
            [
             0.3333333333333333,
             "#9c179e"
            ],
            [
             0.4444444444444444,
             "#bd3786"
            ],
            [
             0.5555555555555556,
             "#d8576b"
            ],
            [
             0.6666666666666666,
             "#ed7953"
            ],
            [
             0.7777777777777778,
             "#fb9f3a"
            ],
            [
             0.8888888888888888,
             "#fdca26"
            ],
            [
             1,
             "#f0f921"
            ]
           ]
          },
          "colorway": [
           "#636efa",
           "#EF553B",
           "#00cc96",
           "#ab63fa",
           "#FFA15A",
           "#19d3f3",
           "#FF6692",
           "#B6E880",
           "#FF97FF",
           "#FECB52"
          ],
          "font": {
           "color": "#2a3f5f"
          },
          "geo": {
           "bgcolor": "white",
           "lakecolor": "white",
           "landcolor": "#E5ECF6",
           "showlakes": true,
           "showland": true,
           "subunitcolor": "white"
          },
          "hoverlabel": {
           "align": "left"
          },
          "hovermode": "closest",
          "mapbox": {
           "style": "light"
          },
          "paper_bgcolor": "white",
          "plot_bgcolor": "#E5ECF6",
          "polar": {
           "angularaxis": {
            "gridcolor": "white",
            "linecolor": "white",
            "ticks": ""
           },
           "bgcolor": "#E5ECF6",
           "radialaxis": {
            "gridcolor": "white",
            "linecolor": "white",
            "ticks": ""
           }
          },
          "scene": {
           "xaxis": {
            "backgroundcolor": "#E5ECF6",
            "gridcolor": "white",
            "gridwidth": 2,
            "linecolor": "white",
            "showbackground": true,
            "ticks": "",
            "zerolinecolor": "white"
           },
           "yaxis": {
            "backgroundcolor": "#E5ECF6",
            "gridcolor": "white",
            "gridwidth": 2,
            "linecolor": "white",
            "showbackground": true,
            "ticks": "",
            "zerolinecolor": "white"
           },
           "zaxis": {
            "backgroundcolor": "#E5ECF6",
            "gridcolor": "white",
            "gridwidth": 2,
            "linecolor": "white",
            "showbackground": true,
            "ticks": "",
            "zerolinecolor": "white"
           }
          },
          "shapedefaults": {
           "line": {
            "color": "#2a3f5f"
           }
          },
          "ternary": {
           "aaxis": {
            "gridcolor": "white",
            "linecolor": "white",
            "ticks": ""
           },
           "baxis": {
            "gridcolor": "white",
            "linecolor": "white",
            "ticks": ""
           },
           "bgcolor": "#E5ECF6",
           "caxis": {
            "gridcolor": "white",
            "linecolor": "white",
            "ticks": ""
           }
          },
          "title": {
           "x": 0.05
          },
          "xaxis": {
           "automargin": true,
           "gridcolor": "white",
           "linecolor": "white",
           "ticks": "",
           "title": {
            "standoff": 15
           },
           "zerolinecolor": "white",
           "zerolinewidth": 2
          },
          "yaxis": {
           "automargin": true,
           "gridcolor": "white",
           "linecolor": "white",
           "ticks": "",
           "title": {
            "standoff": 15
           },
           "zerolinecolor": "white",
           "zerolinewidth": 2
          }
         }
        },
        "title": {
         "text": "Comparasion of travel time for all purpose"
        },
        "xaxis": {
         "anchor": "y",
         "domain": [
          0,
          1
         ],
         "title": {
          "text": "Age Group"
         }
        },
        "yaxis": {
         "anchor": "x",
         "domain": [
          0,
          1
         ],
         "title": {
          "text": "Average per person per day/ Travel time (minutes)"
         }
        }
       }
      }
     },
     "metadata": {},
     "output_type": "display_data"
    },
    {
     "data": {
      "application/vnd.plotly.v1+json": {
       "config": {
        "plotlyServerURL": "https://plot.ly"
       },
       "data": [
        {
         "hovertemplate": "Perioden=2019<br>Age Group=%{x}<br>Average per person per day/ Travel time (minutes)=%{text}<extra></extra>",
         "legendgroup": "2019",
         "line": {
          "color": "#636efa",
          "dash": "solid"
         },
         "marker": {
          "symbol": "circle"
         },
         "mode": "lines+text+markers",
         "name": "2019",
         "orientation": "v",
         "showlegend": true,
         "text": [
          null,
          3.31,
          16.53,
          25.78,
          23.77,
          19.48,
          4.39,
          1.33
         ],
         "textposition": "top center",
         "type": "scatter",
         "x": [
          "Age: 6 to 12",
          "Age: 12 to 18",
          "Age: 18 to 25",
          "Age: 25 to 35",
          "Age: 35 to 50",
          "Age: 50 to 65",
          "Age: 65 to 75",
          "Age: 75 years or older"
         ],
         "xaxis": "x",
         "y": [
          null,
          3.31,
          16.53,
          25.78,
          23.77,
          19.48,
          4.39,
          1.33
         ],
         "yaxis": "y"
        },
        {
         "hovertemplate": "Perioden=2020<br>Age Group=%{x}<br>Average per person per day/ Travel time (minutes)=%{text}<extra></extra>",
         "legendgroup": "2020",
         "line": {
          "color": "#EF553B",
          "dash": "solid"
         },
         "marker": {
          "symbol": "circle"
         },
         "mode": "lines+text+markers",
         "name": "2020",
         "orientation": "v",
         "showlegend": true,
         "text": [
          null,
          2.46,
          10.7,
          15.76,
          14.44,
          13.33,
          3.16,
          0.79
         ],
         "textposition": "top center",
         "type": "scatter",
         "x": [
          "Age: 6 to 12",
          "Age: 12 to 18",
          "Age: 18 to 25",
          "Age: 25 to 35",
          "Age: 35 to 50",
          "Age: 50 to 65",
          "Age: 65 to 75",
          "Age: 75 years or older"
         ],
         "xaxis": "x",
         "y": [
          null,
          2.46,
          10.7,
          15.76,
          14.44,
          13.33,
          3.16,
          0.79
         ],
         "yaxis": "y"
        }
       ],
       "layout": {
        "legend": {
         "title": {
          "text": "Perioden"
         },
         "tracegroupgap": 0
        },
        "margin": {
         "t": 60
        },
        "template": {
         "data": {
          "bar": [
           {
            "error_x": {
             "color": "#2a3f5f"
            },
            "error_y": {
             "color": "#2a3f5f"
            },
            "marker": {
             "line": {
              "color": "#E5ECF6",
              "width": 0.5
             },
             "pattern": {
              "fillmode": "overlay",
              "size": 10,
              "solidity": 0.2
             }
            },
            "type": "bar"
           }
          ],
          "barpolar": [
           {
            "marker": {
             "line": {
              "color": "#E5ECF6",
              "width": 0.5
             },
             "pattern": {
              "fillmode": "overlay",
              "size": 10,
              "solidity": 0.2
             }
            },
            "type": "barpolar"
           }
          ],
          "carpet": [
           {
            "aaxis": {
             "endlinecolor": "#2a3f5f",
             "gridcolor": "white",
             "linecolor": "white",
             "minorgridcolor": "white",
             "startlinecolor": "#2a3f5f"
            },
            "baxis": {
             "endlinecolor": "#2a3f5f",
             "gridcolor": "white",
             "linecolor": "white",
             "minorgridcolor": "white",
             "startlinecolor": "#2a3f5f"
            },
            "type": "carpet"
           }
          ],
          "choropleth": [
           {
            "colorbar": {
             "outlinewidth": 0,
             "ticks": ""
            },
            "type": "choropleth"
           }
          ],
          "contour": [
           {
            "colorbar": {
             "outlinewidth": 0,
             "ticks": ""
            },
            "colorscale": [
             [
              0,
              "#0d0887"
             ],
             [
              0.1111111111111111,
              "#46039f"
             ],
             [
              0.2222222222222222,
              "#7201a8"
             ],
             [
              0.3333333333333333,
              "#9c179e"
             ],
             [
              0.4444444444444444,
              "#bd3786"
             ],
             [
              0.5555555555555556,
              "#d8576b"
             ],
             [
              0.6666666666666666,
              "#ed7953"
             ],
             [
              0.7777777777777778,
              "#fb9f3a"
             ],
             [
              0.8888888888888888,
              "#fdca26"
             ],
             [
              1,
              "#f0f921"
             ]
            ],
            "type": "contour"
           }
          ],
          "contourcarpet": [
           {
            "colorbar": {
             "outlinewidth": 0,
             "ticks": ""
            },
            "type": "contourcarpet"
           }
          ],
          "heatmap": [
           {
            "colorbar": {
             "outlinewidth": 0,
             "ticks": ""
            },
            "colorscale": [
             [
              0,
              "#0d0887"
             ],
             [
              0.1111111111111111,
              "#46039f"
             ],
             [
              0.2222222222222222,
              "#7201a8"
             ],
             [
              0.3333333333333333,
              "#9c179e"
             ],
             [
              0.4444444444444444,
              "#bd3786"
             ],
             [
              0.5555555555555556,
              "#d8576b"
             ],
             [
              0.6666666666666666,
              "#ed7953"
             ],
             [
              0.7777777777777778,
              "#fb9f3a"
             ],
             [
              0.8888888888888888,
              "#fdca26"
             ],
             [
              1,
              "#f0f921"
             ]
            ],
            "type": "heatmap"
           }
          ],
          "heatmapgl": [
           {
            "colorbar": {
             "outlinewidth": 0,
             "ticks": ""
            },
            "colorscale": [
             [
              0,
              "#0d0887"
             ],
             [
              0.1111111111111111,
              "#46039f"
             ],
             [
              0.2222222222222222,
              "#7201a8"
             ],
             [
              0.3333333333333333,
              "#9c179e"
             ],
             [
              0.4444444444444444,
              "#bd3786"
             ],
             [
              0.5555555555555556,
              "#d8576b"
             ],
             [
              0.6666666666666666,
              "#ed7953"
             ],
             [
              0.7777777777777778,
              "#fb9f3a"
             ],
             [
              0.8888888888888888,
              "#fdca26"
             ],
             [
              1,
              "#f0f921"
             ]
            ],
            "type": "heatmapgl"
           }
          ],
          "histogram": [
           {
            "marker": {
             "pattern": {
              "fillmode": "overlay",
              "size": 10,
              "solidity": 0.2
             }
            },
            "type": "histogram"
           }
          ],
          "histogram2d": [
           {
            "colorbar": {
             "outlinewidth": 0,
             "ticks": ""
            },
            "colorscale": [
             [
              0,
              "#0d0887"
             ],
             [
              0.1111111111111111,
              "#46039f"
             ],
             [
              0.2222222222222222,
              "#7201a8"
             ],
             [
              0.3333333333333333,
              "#9c179e"
             ],
             [
              0.4444444444444444,
              "#bd3786"
             ],
             [
              0.5555555555555556,
              "#d8576b"
             ],
             [
              0.6666666666666666,
              "#ed7953"
             ],
             [
              0.7777777777777778,
              "#fb9f3a"
             ],
             [
              0.8888888888888888,
              "#fdca26"
             ],
             [
              1,
              "#f0f921"
             ]
            ],
            "type": "histogram2d"
           }
          ],
          "histogram2dcontour": [
           {
            "colorbar": {
             "outlinewidth": 0,
             "ticks": ""
            },
            "colorscale": [
             [
              0,
              "#0d0887"
             ],
             [
              0.1111111111111111,
              "#46039f"
             ],
             [
              0.2222222222222222,
              "#7201a8"
             ],
             [
              0.3333333333333333,
              "#9c179e"
             ],
             [
              0.4444444444444444,
              "#bd3786"
             ],
             [
              0.5555555555555556,
              "#d8576b"
             ],
             [
              0.6666666666666666,
              "#ed7953"
             ],
             [
              0.7777777777777778,
              "#fb9f3a"
             ],
             [
              0.8888888888888888,
              "#fdca26"
             ],
             [
              1,
              "#f0f921"
             ]
            ],
            "type": "histogram2dcontour"
           }
          ],
          "mesh3d": [
           {
            "colorbar": {
             "outlinewidth": 0,
             "ticks": ""
            },
            "type": "mesh3d"
           }
          ],
          "parcoords": [
           {
            "line": {
             "colorbar": {
              "outlinewidth": 0,
              "ticks": ""
             }
            },
            "type": "parcoords"
           }
          ],
          "pie": [
           {
            "automargin": true,
            "type": "pie"
           }
          ],
          "scatter": [
           {
            "fillpattern": {
             "fillmode": "overlay",
             "size": 10,
             "solidity": 0.2
            },
            "type": "scatter"
           }
          ],
          "scatter3d": [
           {
            "line": {
             "colorbar": {
              "outlinewidth": 0,
              "ticks": ""
             }
            },
            "marker": {
             "colorbar": {
              "outlinewidth": 0,
              "ticks": ""
             }
            },
            "type": "scatter3d"
           }
          ],
          "scattercarpet": [
           {
            "marker": {
             "colorbar": {
              "outlinewidth": 0,
              "ticks": ""
             }
            },
            "type": "scattercarpet"
           }
          ],
          "scattergeo": [
           {
            "marker": {
             "colorbar": {
              "outlinewidth": 0,
              "ticks": ""
             }
            },
            "type": "scattergeo"
           }
          ],
          "scattergl": [
           {
            "marker": {
             "colorbar": {
              "outlinewidth": 0,
              "ticks": ""
             }
            },
            "type": "scattergl"
           }
          ],
          "scattermapbox": [
           {
            "marker": {
             "colorbar": {
              "outlinewidth": 0,
              "ticks": ""
             }
            },
            "type": "scattermapbox"
           }
          ],
          "scatterpolar": [
           {
            "marker": {
             "colorbar": {
              "outlinewidth": 0,
              "ticks": ""
             }
            },
            "type": "scatterpolar"
           }
          ],
          "scatterpolargl": [
           {
            "marker": {
             "colorbar": {
              "outlinewidth": 0,
              "ticks": ""
             }
            },
            "type": "scatterpolargl"
           }
          ],
          "scatterternary": [
           {
            "marker": {
             "colorbar": {
              "outlinewidth": 0,
              "ticks": ""
             }
            },
            "type": "scatterternary"
           }
          ],
          "surface": [
           {
            "colorbar": {
             "outlinewidth": 0,
             "ticks": ""
            },
            "colorscale": [
             [
              0,
              "#0d0887"
             ],
             [
              0.1111111111111111,
              "#46039f"
             ],
             [
              0.2222222222222222,
              "#7201a8"
             ],
             [
              0.3333333333333333,
              "#9c179e"
             ],
             [
              0.4444444444444444,
              "#bd3786"
             ],
             [
              0.5555555555555556,
              "#d8576b"
             ],
             [
              0.6666666666666666,
              "#ed7953"
             ],
             [
              0.7777777777777778,
              "#fb9f3a"
             ],
             [
              0.8888888888888888,
              "#fdca26"
             ],
             [
              1,
              "#f0f921"
             ]
            ],
            "type": "surface"
           }
          ],
          "table": [
           {
            "cells": {
             "fill": {
              "color": "#EBF0F8"
             },
             "line": {
              "color": "white"
             }
            },
            "header": {
             "fill": {
              "color": "#C8D4E3"
             },
             "line": {
              "color": "white"
             }
            },
            "type": "table"
           }
          ]
         },
         "layout": {
          "annotationdefaults": {
           "arrowcolor": "#2a3f5f",
           "arrowhead": 0,
           "arrowwidth": 1
          },
          "autotypenumbers": "strict",
          "coloraxis": {
           "colorbar": {
            "outlinewidth": 0,
            "ticks": ""
           }
          },
          "colorscale": {
           "diverging": [
            [
             0,
             "#8e0152"
            ],
            [
             0.1,
             "#c51b7d"
            ],
            [
             0.2,
             "#de77ae"
            ],
            [
             0.3,
             "#f1b6da"
            ],
            [
             0.4,
             "#fde0ef"
            ],
            [
             0.5,
             "#f7f7f7"
            ],
            [
             0.6,
             "#e6f5d0"
            ],
            [
             0.7,
             "#b8e186"
            ],
            [
             0.8,
             "#7fbc41"
            ],
            [
             0.9,
             "#4d9221"
            ],
            [
             1,
             "#276419"
            ]
           ],
           "sequential": [
            [
             0,
             "#0d0887"
            ],
            [
             0.1111111111111111,
             "#46039f"
            ],
            [
             0.2222222222222222,
             "#7201a8"
            ],
            [
             0.3333333333333333,
             "#9c179e"
            ],
            [
             0.4444444444444444,
             "#bd3786"
            ],
            [
             0.5555555555555556,
             "#d8576b"
            ],
            [
             0.6666666666666666,
             "#ed7953"
            ],
            [
             0.7777777777777778,
             "#fb9f3a"
            ],
            [
             0.8888888888888888,
             "#fdca26"
            ],
            [
             1,
             "#f0f921"
            ]
           ],
           "sequentialminus": [
            [
             0,
             "#0d0887"
            ],
            [
             0.1111111111111111,
             "#46039f"
            ],
            [
             0.2222222222222222,
             "#7201a8"
            ],
            [
             0.3333333333333333,
             "#9c179e"
            ],
            [
             0.4444444444444444,
             "#bd3786"
            ],
            [
             0.5555555555555556,
             "#d8576b"
            ],
            [
             0.6666666666666666,
             "#ed7953"
            ],
            [
             0.7777777777777778,
             "#fb9f3a"
            ],
            [
             0.8888888888888888,
             "#fdca26"
            ],
            [
             1,
             "#f0f921"
            ]
           ]
          },
          "colorway": [
           "#636efa",
           "#EF553B",
           "#00cc96",
           "#ab63fa",
           "#FFA15A",
           "#19d3f3",
           "#FF6692",
           "#B6E880",
           "#FF97FF",
           "#FECB52"
          ],
          "font": {
           "color": "#2a3f5f"
          },
          "geo": {
           "bgcolor": "white",
           "lakecolor": "white",
           "landcolor": "#E5ECF6",
           "showlakes": true,
           "showland": true,
           "subunitcolor": "white"
          },
          "hoverlabel": {
           "align": "left"
          },
          "hovermode": "closest",
          "mapbox": {
           "style": "light"
          },
          "paper_bgcolor": "white",
          "plot_bgcolor": "#E5ECF6",
          "polar": {
           "angularaxis": {
            "gridcolor": "white",
            "linecolor": "white",
            "ticks": ""
           },
           "bgcolor": "#E5ECF6",
           "radialaxis": {
            "gridcolor": "white",
            "linecolor": "white",
            "ticks": ""
           }
          },
          "scene": {
           "xaxis": {
            "backgroundcolor": "#E5ECF6",
            "gridcolor": "white",
            "gridwidth": 2,
            "linecolor": "white",
            "showbackground": true,
            "ticks": "",
            "zerolinecolor": "white"
           },
           "yaxis": {
            "backgroundcolor": "#E5ECF6",
            "gridcolor": "white",
            "gridwidth": 2,
            "linecolor": "white",
            "showbackground": true,
            "ticks": "",
            "zerolinecolor": "white"
           },
           "zaxis": {
            "backgroundcolor": "#E5ECF6",
            "gridcolor": "white",
            "gridwidth": 2,
            "linecolor": "white",
            "showbackground": true,
            "ticks": "",
            "zerolinecolor": "white"
           }
          },
          "shapedefaults": {
           "line": {
            "color": "#2a3f5f"
           }
          },
          "ternary": {
           "aaxis": {
            "gridcolor": "white",
            "linecolor": "white",
            "ticks": ""
           },
           "baxis": {
            "gridcolor": "white",
            "linecolor": "white",
            "ticks": ""
           },
           "bgcolor": "#E5ECF6",
           "caxis": {
            "gridcolor": "white",
            "linecolor": "white",
            "ticks": ""
           }
          },
          "title": {
           "x": 0.05
          },
          "xaxis": {
           "automargin": true,
           "gridcolor": "white",
           "linecolor": "white",
           "ticks": "",
           "title": {
            "standoff": 15
           },
           "zerolinecolor": "white",
           "zerolinewidth": 2
          },
          "yaxis": {
           "automargin": true,
           "gridcolor": "white",
           "linecolor": "white",
           "ticks": "",
           "title": {
            "standoff": 15
           },
           "zerolinecolor": "white",
           "zerolinewidth": 2
          }
         }
        },
        "title": {
         "text": "Comparasion of travel time for to and from work"
        },
        "xaxis": {
         "anchor": "y",
         "domain": [
          0,
          1
         ],
         "title": {
          "text": "Age Group"
         }
        },
        "yaxis": {
         "anchor": "x",
         "domain": [
          0,
          1
         ],
         "title": {
          "text": "Average per person per day/ Travel time (minutes)"
         }
        }
       }
      }
     },
     "metadata": {},
     "output_type": "display_data"
    }
   ],
   "source": [
    "#Figure1.5 General comparasion of travel time between 2019 and 2020 for all age groups \n",
    "#Person Characteristics is on X-axis, average travel time is on Y-axis, 2019 and 2020 are color legends, y-value is text on the graph\n",
    "fig_time_total = px.line(df[df.Reismotieven == 'Totaal'], x = 'Persoonskenmerken',\n",
    "    y = 'Gemiddeld per persoon per dag /Reisduur (minuten)', color= 'Perioden',\n",
    "    text='Gemiddeld per persoon per dag /Reisduur (minuten)',\n",
    "    labels={'Persoonskenmerken':'Age Group','Gemiddeld per persoon per dag /Reisduur (minuten)':\n",
    "            'Average per person per day/ Travel time (minutes)'})\n",
    "fig_time_total.update_traces(textposition='top center')\n",
    "fig_time_total.update_layout(title_text = 'Comparasion of travel time for all purpose')\n",
    "fig_time_total.show()\n",
    "\n",
    "#Figure1.6 To and from work comparasion of travel time between 2019 and 2020 for all age groups \n",
    "#Person Characteristics is on X-axis, average travel time is on Y-axis, 2019 and 2020 are color legends, y-value is text on the graph\n",
    "fig_time_work = px.line(df[df.Reismotieven == 'Van en naar het werk'], x = 'Persoonskenmerken', \n",
    "    y = 'Gemiddeld per persoon per dag /Reisduur (minuten)', color= 'Perioden',\n",
    "    text='Gemiddeld per persoon per dag /Reisduur (minuten)',\n",
    "    labels={'Persoonskenmerken':'Age Group','Gemiddeld per persoon per dag /Reisduur (minuten)':\n",
    "            'Average per person per day/ Travel time (minutes)'})\n",
    "fig_time_work.update_traces(textposition='top center')\n",
    "fig_time_work.update_layout(title_text = 'Comparasion of travel time for to and from work')\n",
    "fig_time_work.show()"
   ]
  }
 ],
 "metadata": {
  "kernelspec": {
   "display_name": "Python 3.10.6 ('geo_env')",
   "language": "python",
   "name": "python3"
  },
  "language_info": {
   "codemirror_mode": {
    "name": "ipython",
    "version": 3
   },
   "file_extension": ".py",
   "mimetype": "text/x-python",
   "name": "python",
   "nbconvert_exporter": "python",
   "pygments_lexer": "ipython3",
   "version": "3.10.6"
  },
  "orig_nbformat": 4,
  "vscode": {
   "interpreter": {
    "hash": "b6656aa92867de04c70119335fc3c3a4596933397f2003359bd019dd745cffca"
   }
  }
 },
 "nbformat": 4,
 "nbformat_minor": 2
}
