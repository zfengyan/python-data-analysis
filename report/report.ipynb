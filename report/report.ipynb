{
 "cells": [
  {
   "cell_type": "markdown",
   "metadata": {},
   "source": [
    "### Group project \n",
    "\n",
    "**Group 14**\n",
    "\n",
    "**members**:\n",
    "\n",
    "Kairui Cui(5512158)\n",
    "\n",
    "Ying Wu(5491363)\n",
    "\n",
    "Lu Han(5446635)\n",
    "\n",
    "Fengyan Zhang(5462150)"
   ]
  },
  {
   "cell_type": "markdown",
   "metadata": {},
   "source": [
    "All the source code for this project are hosted at GitHub:\n",
    "\n",
    "https://github.com/zfengyan/python-data-analysis\n",
    "\n",
    "As for other lab assignments, you can also refer to:\n",
    "\n",
    "https://github.com/kairuicui/TIL6010-LabAssignments/tree/main/project"
   ]
  },
  {
   "cell_type": "markdown",
   "metadata": {},
   "source": [
    "### Research Objective\n",
    "Main objective: To what extent does COVID affect the mobility of different groups in Nertherlands?\n",
    "\n",
    "Sub objectives : \n",
    "\n",
    "* What is the impact of Covid on travel in terms of different age groups?\n",
    "\n",
    "* What is the impact of Covid on travel in terms of different income groups?\n",
    "\n",
    "* To what extent could Covid influence travel in terms of transport modes and travel purpose?"
   ]
  },
  {
   "cell_type": "markdown",
   "metadata": {},
   "source": [
    "### 1.Introduction\n",
    "At the end of 2019, the COVID swept the world and had a significant impact on all aspects of people's daily lives. To control the spread of the virus, various measures were taken to limit social interactions and ensure sufficient social distance. Daily travelling patterns have changed dramatically as a result. To further understand how and why travel patterns changed during such a global crisis, we divided people into different groups according to different classification criteria, analyzed and compared the changes in travelling of different groups before and after the Covid. Based on these analysis, we aim to derive the overview of the impacts of Covid on people's travelling.\n"
   ]
  },
  {
   "cell_type": "markdown",
   "metadata": {},
   "source": [
    "### 2.Analysis about Covid impact on different age groups\n",
    "Based on ages above 6 years old, people are divided into 8 groups, which are 6-12 years old, 12-18 years old, 18-25 years old, 25-35 years old, 35-50 years old, 50-65 years old, 65-75 years old and 75 years old and older. Then focused on these 8 age groups, several graphs are drawn to show the changes on travels numbers, travel distance and travel time respectively according to the year before and after Covid (2019 and 2020). Moreover, the trips relative to to and from work are especially analysed and compared with the overall trips."
   ]
  },
  {
   "cell_type": "markdown",
   "metadata": {},
   "source": [
    "* Changes on travel number:\n",
    "\n",
    "    The first two graphs shown below had depicted the changes on travel number between year 2019 and 2020. The first line chart shown that for all travel purpose, a decreased trend had been found on all age groups, while the groups between 6-12 years old had the most significant drop on travel number, from 3.12 in 2019 drop to 2.58 in 2020, and people aged 75 years or older had the least drop.\n",
    "\n",
    "    When focusing on travel purpose only relative to work, the situation reversed. Two age groups, which are people between 25 and 35 years old and people between 35 and 50 years old had a similar drop on travel number, which is around 0.24 less trips in 2020 compared to it in 2019."
   ]
  },
  {
   "cell_type": "markdown",
   "metadata": {},
   "source": [
    "![image](../figure/data_analysis_1/Figure1.1.png \"figure1.1\")\n",
    "![image](../figure/data_analysis_1/Figure1.2.png \"figure1.2\")"
   ]
  },
  {
   "cell_type": "markdown",
   "metadata": {},
   "source": [
    "* Changes on travel distance:\n",
    "\n",
    "    For all travel purpose, people aged between 25 to 35 years old had the longest average travel distance before covid, and had the most severe drop from 45.45km to 30km. However, people between age 6 and 12 years old had the least impact, only from 17.08km dropping to 13.5km\n",
    "\n",
    "    The trend is similar when it comes to To-and-from work travels. Still, 25-35 years old group had the longest average travel distance and the largest drop in 2020, while for people older than 35 years, the older they are, the less drop on travel distance were observed."
   ]
  },
  {
   "cell_type": "markdown",
   "metadata": {},
   "source": [
    "![image](../figure/data_analysis_1/Figure1.3.png \"figure1.3\")\n",
    "![image](../figure/data_analysis_1/Figure1.4.png \"figure1.4\")"
   ]
  },
  {
   "cell_type": "markdown",
   "metadata": {},
   "source": [
    "* Changes on travel time:\n",
    "\n",
    "    For all travel purpose, except for 6-12 age group, all the other groups had gone through obvious drops on average travel time, and people between 18 and 25 years old are influenced the most, as the average travel time decreased from 81min to 62min (almost a 25% decrease)\n",
    "\n",
    "    However, when it comes to travel relative to work, the situation is a bit different. People from 25 to 35 years old had the greatest impact: dropping from 26min to 16min. And people younger than 18 years or older than 65 years are merely influenced."
   ]
  },
  {
   "cell_type": "markdown",
   "metadata": {},
   "source": [
    "![image](../figure/data_analysis_1/Figure1.5.png \"figure1.5\")\n",
    "![image](../figure/data_analysis_1/Figure1.6.png \"figure1.6\")"
   ]
  },
  {
   "cell_type": "markdown",
   "metadata": {},
   "source": [
    "###  3.Analysis about Covid impact on different income groups\n",
    "Based on different incomes, we divide people into five categories and analyse their travel patterns. Specifically, we look at how often people travel, how far they travel and how long they travel. In addition, different transport modes are included to draw a more comprehensive conclusion.\n",
    "\n",
    "First, we compared the frequency of travel before and after Covid. It shows a significant decrease in frequency, regardless of income group. However, the extent of the reduction in the number of trips (y axis) was different for different groups, with the first income tier group ('1e'in x axis) experiencing the greatest reduction in the number of trips.\n",
    "\n",
    "![image](../figure/data_analysis_2/output1.png \"figure 2.1\")\n",
    "\n",
    "Next, we analyse the changes in travel patterns of different income groups according to travel frequency, travel distance and travel frequency.The figures are listed orderly in the following.\n",
    "\n",
    "![image](../figure/data_analysis_2/output2.png \"figure 2.2\")\n",
    "\n",
    "![image](../figure/data_analysis_2/output3.png \"figure 2.3\")\n",
    "\n",
    "![image](../figure/data_analysis_2/output4.png \"figure 2.4\")\n",
    "\n",
    "Also, the group in the first income bracket shows a more pronounced decline. The rest of the groups show similar decreases.\n",
    "\n",
    "Then, a more comprehensive category method which combines travel variables and different income groups is shown here to provide insight into the impact on travel patterns of COVID. For travelling by private cars('Personenauto'), the data of both travelling as passengers and drivers are listed together.\n",
    "\n",
    "![image](../figure/data_analysis_2/output5.png \"figure 2.5\")\n",
    "\n",
    "Finally, the animation of changes in travelling patters is present for different income groups to get a straightforward analysis. \n",
    "\n",
    "Based on the above, it can be concluded that people travel less after COVID, with the most significant reduction in travel for the higher income groups and similarly for other groups.\n"
   ]
  },
  {
   "cell_type": "markdown",
   "metadata": {},
   "source": [
    "### 4.Analysis about Covid impact on transport modes and travel purpose\n",
    "In addition to the parts stated above, COVID-19 also has a significant impact on transport modes and motives. For such analysis, the linear trending chart is one of the most significant and useful tools, which allows us to intuitively see the change of people's travel trend under different travel modes and motives as the year changes. Code has been developed to generate intuitive charts to show the changes, which will be demonstrated separately as below.\n",
    "\n",
    "- **Different modes**\n",
    "    ![image](../figure/data_analysis_3/different_modes.png \"Different modes\")\n",
    "    The selected data starts in 1999 and ends in 2020. The abscissa represents for the year and the ordinate stands for the average value of daily trips per person and distance travelled per trip respectively, ranging from the minimum value of 0.0  to the maximum value of 1.0 (first figure) and 50(second figure). Generally speaking, the overall trend of the two trend lines is stable with small fluctuations, until 2019 there is a very obvious decline point, which coincides with the time of the outbreak of the COVID-19 epidemic. As for different travel modes, the travel frequency of cars(both for driver side and passenger side), trains, buses/trams/metros and bikes has decreased significantly - this may be related to government control measures or suggestions in different periods, or it may be caused by people's concern about the external environment - for example, the fear of infection risk at public space has led to a decline in people's travel intention, and most companies have also started to adopt the online and offline hybrid office to reduce the epidemic risk.\n",
    "\n",
    "    What is significantly different from other transportation modes is that walking does not seem to be much influenced, and the number before and after 2019 has not decreased. At the first glance, it may seem strange, however this is reasonable - on the premise of the risk of infection in public places, people's suppressed travel needs need to be released. In this case, walking allows people to choose to go to the places where people are not dense, such as fields, to increase the safety factor. At the same time, people also need to supplement groceries, which may be one of the reasons why walking is not affected too much - you must go to the supermarket.\n",
    "\n",
    "    For the average distance of each trip, there are recognizable differences between public and non public transport. The private travel mode dominated mostly by cars(both for driver and passenger side) has a rather evident decline in the distance of each trip, which may be due to the reduction of people's travel desire caused by the COVID-19. The travel distance of trains has also been shortened, which shows that long-distance travel across cities and countries has been seriously affected - for example, during the period of severe epidemic, some trains may be restricted or cancelled. On the other hand, the trend line of buses/trams/metros based conventional public transport is relatively stable, because their routes are fixed, therefore the travel distance changes of each trip is comparably small. It is worth noting that the distance of the two modes of transportation, bikes and walking, has not decreased significantly, or even increased. A possible guess is that during the epidemic, people tend to choose bikes and walking because of the high risk of infection in public crowded places.\n",
    "\n",
    "- **Different motives**\n",
    "    ![image](../figure/data_analysis_3/different_motivations.png \"Different motivations\")\n",
    "    In addition to travel mode, travel motivation is also an important and valuable analysis factor. Similarly, the data from 1999 to 2020 are selected as samples, and the chart is also divided into two parts - the first figure reveals the trend of number of trips per person per day under different travel motives, the second figure shows the average distance corresponding to each trip. The motivation of travel can be mainly divided into four categories: work, shopping, education/child care and others. These four motivations are greatly affected by the COVID-19, and both the number of trips, frequency and distance decrease significantly in year 2019. Compared with other travel motivations, shopping is slightly affected by the number of trips, but the travel distance is also greatly reduced. This may be because the epidemic has reduced people's travel for unnecessary shopping (such as purchasing non necessities), but necessary shopping (purchasing necessities) is still just needed to a large extent.\n",
    "\n",
    "- **Share based on different transport modes**\n",
    "\n",
    "    ![image](../figure/data_analysis_3/share_mode.png \"share - different modes\")         \n",
    "    In order to explore the impact of the COVID-19 epidemic on different age groups, pie charts of different years and age groups were developed for analysis. There are mainly two age groups: (1) 18-25 years old, representing young people in society; (2) 60 to 65 years old, representing the elderly in society. By comparing the figures of 18-25 year olds in 2019 and 2022, the following conclusion can be drawn: the proportion of car travel has increased, as well as walking. On the contrary, the proportion of train and bus/tram/metro has decreased. This is also consistent with the trend line of different modes of transportation - people tend to choose the mode of travel that can avoid public places under the influence of the COVID-19 - although this change is not very significant. For the 60-65 age group, the proportion of people who choose to travel by foot has increased after the COVID-19, and other ways have changed little. It is worth noting that the proportion of both drivers and passengers in car mode has declined, which is contrary to that of young people aged 18-25. For the two age groups, the main modes of travel are cars, walk and bikes. These three travel modes can avoid crowding to some extent, therefore after the COVID-19 epidemic, these three modes are still the most popular travel modes.\n",
    "\n",
    "- **Share based on different transport motives**\n",
    "\n",
    "    ![image](../figure/data_analysis_3/share_motivation.png \"share - different motives\")        \n",
    "    For the pie chart of different travel motives, the proportion of education/child care travel of 18-25 year olds after the epidemic increased, the proportion of shopping travel decreased, and the proportion of work travel decreased slightly (but not significantly). The proportion of other travel modes has increased. On the other hand, there is no obvious difference in the proportion of 60 to 65 year olds in all aspects of travel before and after the epidemic. Strictly speaking it is more obvious that the proportion of travel in work and education/child care has decreased. It is worth noting that education/child care travel accounts for a large proportion of young people, while less for older people. In terms of other travel motives, the two groups are almost affected by COVID-19 to the same extent.\n",
    "\n",
    "- **Additional - forcast on travel mode**\n",
    "\n",
    "    ![image](../figure/data_analysis_3/trend_forcast.png \"trend - forcast\")\n",
    "    In addition, a linear prediction of various travel modes in 2020 on the previous data has been made, which shows that the actual data is much less than the predicted data. Specifically, the number of cars (driver) decreased by 2.95%, cars (passenger) by 7.00%, trains by 15.68%, buses/trams/metros by 17.03%, bikes by 2.55%, walk by 2.39%, and other travel modes by 2.55%. It can be concluded that COVID-19 has a great impact on the number of trips under different travel modes.\n"
   ]
  },
  {
   "cell_type": "markdown",
   "metadata": {},
   "source": [
    "### 5.Conclusion\n",
    "\n",
    "All of the above analyses show a reduction in travelling after COVID, although there is some variation in the extent for different groups, transport modes or travel purposes. Both the frequency of travel, the travelled distance and the travel time have decreased.\n",
    "\n",
    "For all travel purpose, people aged between 6-12 years had the largest drop on average travel numbers, people aged between 25-35 years had the largest drop on average travel distance, and people aged between 18-25 years had the largest drop on average travel time. However, when it comes to To-and-From work travels, people aged between 25-35 years had the largest drop on all these three characters: travel numbers, travel distance and travel time.\n",
    "The travelling has decreased for all transport modes, most notably by public transport.\n",
    "\n",
    "For different travel modes, non-public transport trips dominated by cars (both for driver and passenger), walk and bikes have increased. Correspondingly, public transport modes dominated by trains and buses/trams/metros have decreased. To sum up, COVID-19 has an obvious impact on the way people travel."
   ]
  },
  {
   "cell_type": "markdown",
   "metadata": {},
   "source": [
    "### 6.Contribution Statement"
   ]
  },
  {
   "cell_type": "markdown",
   "metadata": {},
   "source": [
    "**Kairui Cui**: \n",
    "\n",
    "**Ying Wu**: \n",
    "\n",
    "**Lu Han**: \n",
    "\n",
    "**Fengyan Zhang**: "
   ]
  },
  {
   "cell_type": "markdown",
   "metadata": {},
   "source": [
    "### 7.Data Used"
   ]
  },
  {
   "cell_type": "markdown",
   "metadata": {},
   "source": [
    "* CBS Data/Traffic and transport/mobility of persons data - https://opendata.cbs.nl/statline/#/CBS/nl/navigatieScherm/thema?themaNr=24100\n",
    "\n",
    "* CBS Data/Traffic and transport/means of Transport - https://opendata.cbs.nl/statline/#/CBS/nl/navigatieScherm/thema?themaNr=9440\n",
    "\n",
    "* EuroStatistics/Passenger road transport on national territory, by type of vehicles registered in the reporting country - https://ec.europa.eu/eurostat/databrowser/view/road_pa_mov/default/table?lang=en\n",
    "\n",
    "* Covid Data https://ourworldindata.org/coronavirus"
   ]
  }
 ],
 "metadata": {
  "kernelspec": {
   "display_name": "Python 3.10.6 ('geo_env')",
   "language": "python",
   "name": "python3"
  },
  "language_info": {
   "codemirror_mode": {
    "name": "ipython",
    "version": 3
   },
   "file_extension": ".py",
   "mimetype": "text/x-python",
   "name": "python",
   "nbconvert_exporter": "python",
   "pygments_lexer": "ipython3",
   "version": "3.10.6"
  },
  "orig_nbformat": 4,
  "vscode": {
   "interpreter": {
    "hash": "b6656aa92867de04c70119335fc3c3a4596933397f2003359bd019dd745cffca"
   }
  }
 },
 "nbformat": 4,
 "nbformat_minor": 2
}
