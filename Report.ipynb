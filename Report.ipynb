{
 "cells": [
  {
   "cell_type": "markdown",
   "metadata": {},
   "source": [
    "# Project Group - \n",
    "\n",
    "Members: Group 14\n",
    "\n",
    "Student numbers: Kairui Cui(5512158); Ying Wu(5491363); Lu Han(5446635); Fengyan Zhang(5462150)"
   ]
  },
  {
   "cell_type": "markdown",
   "metadata": {},
   "source": [
    "Our GitHub link:\n",
    "https://github.com/kairuicui/TIL6010-LabAssignments/tree/main/project"
   ]
  },
  {
   "cell_type": "markdown",
   "metadata": {},
   "source": [
    "# Research Objective\n",
    "Main objective: To what extent does COVID affect the mobility of different groups in Nertherlands?\n",
    "\n",
    "Sub objectives : \n",
    "\n",
    "* What is the impact of Covid on travel in terms of different age groups?\n",
    "\n",
    "* What is the impact of Covid on travel in terms of different income groups?\n",
    "\n",
    "* To what extent could Covid influence travel in terms of transport modes and travel purpose?\n",
    "\n",
    "\n",
    "\n",
    "\n",
    "\n"
   ]
  },
  {
   "cell_type": "markdown",
   "metadata": {},
   "source": []
  },
  {
   "cell_type": "markdown",
   "metadata": {},
   "source": [
    "# 1.Introduction\n",
    "At the end of 2019, the COVID swept the world and had a significant impact on all aspects of people's daily lives. To control the spread of the virus, various measures were taken to limit social interactions and ensure sufficient social distance. Daily travelling patterns have changed dramatically as a result. To further understand how and why travel patterns changed during such a global crisis, we divided people into different groups according to different classification criteria, analyzed and compared the changes in travelling of different groups before and after the Covid. Based on these analysis, we aim to derive the overview of the impacts of Covid on people's travelling.\n"
   ]
  },
  {
   "cell_type": "markdown",
   "metadata": {},
   "source": [
    "# 2.Analysis about Covid impact on different age groups\n",
    "Based on ages above 6 years old, people are divided into 8 groups, which are 6-12 years old, 12-18 years old, 18-25 years old, 25-35 years old, 35-50 years old, 50-65 years old, 65-75 years old and 75 years old and older. Then focused on these 8 age groups, several graphs are drawn to show the changes on travels numbers, travel distance and travel time respectively according to the year before and after Covid (2019 and 2020). Moreover, the trips relative to to and from work are especially analysed and compared with the overall trips."
   ]
  },
  {
   "cell_type": "markdown",
   "metadata": {},
   "source": [
    "* Changes on travel number:\n",
    "\n",
    "The first two graphs shown below had depicted the changes on travel number between year 2019 and 2020. The first line chart shown that for all travel purpose, a decreased trend had been found on all age groups, while the groups between 6-12 years old had the most significant drop on travel number, from 3.12 in 2019 drop to 2.58 in 2020, and people aged 75 years or older had the least drop.\n",
    "\n",
    "When focusing on travel purpose only relative to work, the situation reversed. Two age groups, which are people between 25 and 35 years old and people between 35 and 50 years old had a similar drop on travel number, which is around 0.24 less trips in 2020 compared to it in 2019."
   ]
  },
  {
   "cell_type": "markdown",
   "metadata": {},
   "source": [
    "![image](./figure/data_analysis_1/Figure1.1.png \"figure1.1\")\n",
    "![image](./figure/data_analysis_1/Figure1.2.png \"figure1.2\")"
   ]
  },
  {
   "cell_type": "markdown",
   "metadata": {},
   "source": [
    "* Changes on travel distance:\n",
    "\n",
    "For all travel purpose, people aged between 25 to 35 years old had the longest average travel distance before covid, and had the most severe drop from 45.45km to 30km. However, people between age 6 and 12 years old had the least impact, only from 17.08km dropping to 13.5km\n",
    "\n",
    "The trend is similar when it comes to To-and-from work travels. Still, 25-35 years old group had the longest average travel distance and the largest drop in 2020, while for people older than 35 years, the older they are, the less drop on travel distance were observed."
   ]
  },
  {
   "cell_type": "markdown",
   "metadata": {},
   "source": [
    "![image](./figure/data_analysis_1/Figure1.3.png \"figure1.3\")\n",
    "![image](./figure/data_analysis_1/Figure1.4.png \"figure1.4\")"
   ]
  },
  {
   "cell_type": "markdown",
   "metadata": {},
   "source": [
    "* Changes on travel time:\n",
    "\n",
    "For all travel purpose, except for 6-12 age group, all the other groups had gone through obvious drops on average travel time, and people between 18 and 25 years old are influenced the most, as the average travel time decreased from 81min to 62min (almost a 25% decrease)\n",
    "\n",
    "However, when it comes to travel relative to work, the situation is a bit different. People from 25 to 35 years old had the greatest impact: dropping from 26min to 16min. And people younger than 18 years or older than 65 years are merely influenced."
   ]
  },
  {
   "cell_type": "markdown",
   "metadata": {},
   "source": [
    "![image](./figure/data_analysis_1/Figure1.5.png \"figure1.5\")\n",
    "![image](./figure/data_analysis_1/Figure1.6.png \"figure1.6\")"
   ]
  },
  {
   "cell_type": "markdown",
   "metadata": {},
   "source": [
    "#  3.Analysis about Covid impact on different income groups\n",
    "Based on different incomes, we divide people into five categories and analyse their travel patterns. Specifically, we look at how often people travel, how far they travel and how long they travel. In addition, different transport modes are included to draw a more comprehensive conclusion.\n",
    "\n",
    "First, we compared the frequency of travel before and after Covid. It shows a significant decrease in frequency, regardless of income group. However, the extent of the reduction in the number of trips (y axis) was different for different groups, with the first income tier group ('1e'in x axis) experiencing the greatest reduction in the number of trips.\n",
    "\n",
    "![image](./figure/data_analysis_2/output1.png \"figure 2.1\")\n",
    "\n",
    "Next, we analyse the changes in travel patterns of different income groups according to travel frequency, travel distance and travel frequency.The figures are listed orderly in the following.\n",
    "\n",
    "![image](./figure/data_analysis_2/output2.png \"figure 2.2\")\n",
    "\n",
    "![image](./figure/data_analysis_2/output3.png \"figure 2.3\")\n",
    "\n",
    "![image](./figure/data_analysis_2/output4.png \"figure 2.4\")\n",
    "\n",
    "Also, the group in the first income bracket shows a more pronounced decline. The rest of the groups show similar decreases.\n",
    "\n",
    "Then, a more comprehensive category method which combines travel variables and different income groups is shown here to provide insight into the impact on travel patterns of COVID. For travelling by private cars('Personenauto'), the data of both travelling as passengers and drivers are listed together.\n",
    "\n",
    "![image](./figure/data_analysis_2/output5.png \"figure 2.5\")\n",
    "\n",
    "Finally, the animation of changes in travelling patters is present for different income groups to get a straightforward analysis. \n",
    "\n",
    "Based on the above, it can be concluded that people travel less after COVID, with the most significant reduction in travel for the higher income groups and similarly for other groups.\n"
   ]
  },
  {
   "cell_type": "markdown",
   "metadata": {},
   "source": [
    "# 4.Analysis about Covid impact on transport modes and travel purpose"
   ]
  },
  {
   "cell_type": "markdown",
   "metadata": {},
   "source": []
  },
  {
   "cell_type": "markdown",
   "metadata": {},
   "source": [
    "# 5.Conclusion\n",
    "\n",
    "All of the above analyses show a reduction in travelling after COVID, although there is some variation in the extent for different groups, transport modes or travel purposes. Both the frequency of travel, the travelled distance and the travel time have decreased.\n",
    "\n",
    "For all travel purpose, people aged between 6-12 years had the largest drop on average travel numbers, people aged between 25-35 years had the largest drop on average travel distance, and people aged between 18-25 years had the largest drop on average travel time. However, when it comes to To-and-From work travels, people aged between 25-35 years had the largest drop on all these three characters: travel numbers, travel distance and travel time.\n",
    "The travelling has decreased for all transport modes, most notably by public transport."
   ]
  },
  {
   "cell_type": "markdown",
   "metadata": {},
   "source": [
    "# 6.Contribution Statement\n",
    "\n",
    "*Be specific. Some of the tasks can be coding (expect everyone to do this), background research, conceptualisation, visualisation, data analysis, data modelling*"
   ]
  },
  {
   "cell_type": "markdown",
   "metadata": {},
   "source": [
    "**Kairui Cui**: \n",
    "\n",
    "**Ying Wu**: \n",
    "\n",
    "**Lu Han**: \n",
    "\n",
    "**Fengyan Zhang**: "
   ]
  },
  {
   "cell_type": "markdown",
   "metadata": {},
   "source": [
    "# 7.Data Used"
   ]
  },
  {
   "cell_type": "markdown",
   "metadata": {},
   "source": [
    "* CBS Data/Traffic and transport/mobility of persons data - https://opendata.cbs.nl/statline/#/CBS/nl/navigatieScherm/thema?themaNr=24100\n",
    "\n",
    "* CBS Data/Traffic and transport/means of Transport - https://opendata.cbs.nl/statline/#/CBS/nl/navigatieScherm/thema?themaNr=9440\n",
    "\n",
    "* EuroStatistics/Passenger road transport on national territory, by type of vehicles registered in the reporting country - https://ec.europa.eu/eurostat/databrowser/view/road_pa_mov/default/table?lang=en\n",
    "\n",
    "* Covid Data https://ourworldindata.org/coronavirus"
   ]
  }
 ],
 "metadata": {
  "kernelspec": {
   "display_name": "Python 3.10.6 ('geo_env')",
   "language": "python",
   "name": "python3"
  },
  "language_info": {
   "codemirror_mode": {
    "name": "ipython",
    "version": 3
   },
   "file_extension": ".py",
   "mimetype": "text/x-python",
   "name": "python",
   "nbconvert_exporter": "python",
   "pygments_lexer": "ipython3",
   "version": "3.10.6"
  },
  "orig_nbformat": 4,
  "vscode": {
   "interpreter": {
    "hash": "b6656aa92867de04c70119335fc3c3a4596933397f2003359bd019dd745cffca"
   }
  }
 },
 "nbformat": 4,
 "nbformat_minor": 2
}
