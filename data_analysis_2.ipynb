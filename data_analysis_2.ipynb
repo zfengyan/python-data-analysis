{
 "cells": [
  {
   "cell_type": "code",
   "execution_count": 1,
   "metadata": {},
   "outputs": [],
   "source": [
    "# library imports\n",
    "from urllib.request import urlopen\n",
    "from plotly.offline import init_notebook_mode\n",
    "import plotly.express as px\n",
    "import plotly.graph_objects as go\n",
    "import json\n",
    "import pandas as pd\n",
    "import numpy as np\n",
    "import itertools\n",
    "import matplotlib.pyplot as plt\n",
    "import matplotlib.animation as animation\n",
    "import plotly.io as pio\n",
    "import geopandas as gpd\n",
    "import seaborn as sns\n",
    "from Preprocessing import Preprocessing"
   ]
  },
  {
   "cell_type": "code",
   "execution_count": 2,
   "metadata": {},
   "outputs": [
    {
     "name": "stdout",
     "output_type": "stream",
     "text": [
      "-- loading dataset ...\n",
      "-- found file \n",
      "-- done\n"
     ]
    },
    {
     "data": {
      "text/html": [
       "<div>\n",
       "<style scoped>\n",
       "    .dataframe tbody tr th:only-of-type {\n",
       "        vertical-align: middle;\n",
       "    }\n",
       "\n",
       "    .dataframe tbody tr th {\n",
       "        vertical-align: top;\n",
       "    }\n",
       "\n",
       "    .dataframe thead th {\n",
       "        text-align: right;\n",
       "    }\n",
       "</style>\n",
       "<table border=\"1\" class=\"dataframe\">\n",
       "  <thead>\n",
       "    <tr style=\"text-align: right;\">\n",
       "      <th></th>\n",
       "      <th>Populatie</th>\n",
       "      <th>Geslacht</th>\n",
       "      <th>Per</th>\n",
       "      <th>Vervoerwijzen</th>\n",
       "      <th>Marges</th>\n",
       "      <th>Perioden</th>\n",
       "      <th>Regio's</th>\n",
       "      <th>Verplaatsingen</th>\n",
       "      <th>Afstand</th>\n",
       "      <th>Reisduur</th>\n",
       "    </tr>\n",
       "  </thead>\n",
       "  <tbody>\n",
       "    <tr>\n",
       "      <th>0</th>\n",
       "      <td>Populatie: 6 jaar of ouder</td>\n",
       "      <td>Totaal mannen en vrouwen</td>\n",
       "      <td>1e</td>\n",
       "      <td>Totaal</td>\n",
       "      <td>Waarde</td>\n",
       "      <td>2018</td>\n",
       "      <td>Nederland</td>\n",
       "      <td>2.45</td>\n",
       "      <td>26.40</td>\n",
       "      <td>67.79</td>\n",
       "    </tr>\n",
       "    <tr>\n",
       "      <th>1</th>\n",
       "      <td>Populatie: 6 jaar of ouder</td>\n",
       "      <td>Totaal mannen en vrouwen</td>\n",
       "      <td>1e</td>\n",
       "      <td>Totaal</td>\n",
       "      <td>Waarde</td>\n",
       "      <td>2019</td>\n",
       "      <td>Nederland</td>\n",
       "      <td>2.30</td>\n",
       "      <td>25.09</td>\n",
       "      <td>67.00</td>\n",
       "    </tr>\n",
       "    <tr>\n",
       "      <th>2</th>\n",
       "      <td>Populatie: 6 jaar of ouder</td>\n",
       "      <td>Totaal mannen en vrouwen</td>\n",
       "      <td>1e</td>\n",
       "      <td>Totaal</td>\n",
       "      <td>Waarde</td>\n",
       "      <td>2020</td>\n",
       "      <td>Nederland</td>\n",
       "      <td>1.88</td>\n",
       "      <td>16.47</td>\n",
       "      <td>51.82</td>\n",
       "    </tr>\n",
       "    <tr>\n",
       "      <th>3</th>\n",
       "      <td>Populatie: 6 jaar of ouder</td>\n",
       "      <td>Totaal mannen en vrouwen</td>\n",
       "      <td>1e</td>\n",
       "      <td>Totaal</td>\n",
       "      <td>Waarde</td>\n",
       "      <td>2021</td>\n",
       "      <td>Nederland</td>\n",
       "      <td>2.07</td>\n",
       "      <td>18.80</td>\n",
       "      <td>61.56</td>\n",
       "    </tr>\n",
       "    <tr>\n",
       "      <th>4</th>\n",
       "      <td>Populatie: 6 jaar of ouder</td>\n",
       "      <td>Totaal mannen en vrouwen</td>\n",
       "      <td>1e</td>\n",
       "      <td>Personenauto</td>\n",
       "      <td>Waarde</td>\n",
       "      <td>2018</td>\n",
       "      <td>Nederland</td>\n",
       "      <td>0.55</td>\n",
       "      <td>9.24</td>\n",
       "      <td>13.70</td>\n",
       "    </tr>\n",
       "    <tr>\n",
       "      <th>5</th>\n",
       "      <td>Populatie: 6 jaar of ouder</td>\n",
       "      <td>Totaal mannen en vrouwen</td>\n",
       "      <td>1e</td>\n",
       "      <td>Personenauto</td>\n",
       "      <td>Waarde</td>\n",
       "      <td>2019</td>\n",
       "      <td>Nederland</td>\n",
       "      <td>0.47</td>\n",
       "      <td>7.96</td>\n",
       "      <td>12.15</td>\n",
       "    </tr>\n",
       "    <tr>\n",
       "      <th>6</th>\n",
       "      <td>Populatie: 6 jaar of ouder</td>\n",
       "      <td>Totaal mannen en vrouwen</td>\n",
       "      <td>1e</td>\n",
       "      <td>Personenauto</td>\n",
       "      <td>Waarde</td>\n",
       "      <td>2020</td>\n",
       "      <td>Nederland</td>\n",
       "      <td>0.40</td>\n",
       "      <td>6.17</td>\n",
       "      <td>9.63</td>\n",
       "    </tr>\n",
       "    <tr>\n",
       "      <th>7</th>\n",
       "      <td>Populatie: 6 jaar of ouder</td>\n",
       "      <td>Totaal mannen en vrouwen</td>\n",
       "      <td>1e</td>\n",
       "      <td>Personenauto</td>\n",
       "      <td>Waarde</td>\n",
       "      <td>2021</td>\n",
       "      <td>Nederland</td>\n",
       "      <td>0.42</td>\n",
       "      <td>6.28</td>\n",
       "      <td>9.77</td>\n",
       "    </tr>\n",
       "    <tr>\n",
       "      <th>8</th>\n",
       "      <td>Populatie: 6 jaar of ouder</td>\n",
       "      <td>Totaal mannen en vrouwen</td>\n",
       "      <td>1e</td>\n",
       "      <td>Personenauto</td>\n",
       "      <td>Waarde</td>\n",
       "      <td>2018</td>\n",
       "      <td>Nederland</td>\n",
       "      <td>0.24</td>\n",
       "      <td>5.04</td>\n",
       "      <td>7.42</td>\n",
       "    </tr>\n",
       "    <tr>\n",
       "      <th>9</th>\n",
       "      <td>Populatie: 6 jaar of ouder</td>\n",
       "      <td>Totaal mannen en vrouwen</td>\n",
       "      <td>1e</td>\n",
       "      <td>Personenauto</td>\n",
       "      <td>Waarde</td>\n",
       "      <td>2019</td>\n",
       "      <td>Nederland</td>\n",
       "      <td>0.25</td>\n",
       "      <td>5.18</td>\n",
       "      <td>8.07</td>\n",
       "    </tr>\n",
       "    <tr>\n",
       "      <th>10</th>\n",
       "      <td>Populatie: 6 jaar of ouder</td>\n",
       "      <td>Totaal mannen en vrouwen</td>\n",
       "      <td>1e</td>\n",
       "      <td>Personenauto</td>\n",
       "      <td>Waarde</td>\n",
       "      <td>2020</td>\n",
       "      <td>Nederland</td>\n",
       "      <td>0.18</td>\n",
       "      <td>3.12</td>\n",
       "      <td>5.21</td>\n",
       "    </tr>\n",
       "    <tr>\n",
       "      <th>11</th>\n",
       "      <td>Populatie: 6 jaar of ouder</td>\n",
       "      <td>Totaal mannen en vrouwen</td>\n",
       "      <td>1e</td>\n",
       "      <td>Personenauto</td>\n",
       "      <td>Waarde</td>\n",
       "      <td>2021</td>\n",
       "      <td>Nederland</td>\n",
       "      <td>0.20</td>\n",
       "      <td>3.80</td>\n",
       "      <td>6.36</td>\n",
       "    </tr>\n",
       "    <tr>\n",
       "      <th>12</th>\n",
       "      <td>Populatie: 6 jaar of ouder</td>\n",
       "      <td>Totaal mannen en vrouwen</td>\n",
       "      <td>1e</td>\n",
       "      <td>Trein</td>\n",
       "      <td>Waarde</td>\n",
       "      <td>2018</td>\n",
       "      <td>Nederland</td>\n",
       "      <td>0.09</td>\n",
       "      <td>5.02</td>\n",
       "      <td>7.64</td>\n",
       "    </tr>\n",
       "    <tr>\n",
       "      <th>13</th>\n",
       "      <td>Populatie: 6 jaar of ouder</td>\n",
       "      <td>Totaal mannen en vrouwen</td>\n",
       "      <td>1e</td>\n",
       "      <td>Trein</td>\n",
       "      <td>Waarde</td>\n",
       "      <td>2019</td>\n",
       "      <td>Nederland</td>\n",
       "      <td>0.10</td>\n",
       "      <td>4.95</td>\n",
       "      <td>7.77</td>\n",
       "    </tr>\n",
       "    <tr>\n",
       "      <th>14</th>\n",
       "      <td>Populatie: 6 jaar of ouder</td>\n",
       "      <td>Totaal mannen en vrouwen</td>\n",
       "      <td>1e</td>\n",
       "      <td>Trein</td>\n",
       "      <td>Waarde</td>\n",
       "      <td>2020</td>\n",
       "      <td>Nederland</td>\n",
       "      <td>0.04</td>\n",
       "      <td>2.19</td>\n",
       "      <td>3.36</td>\n",
       "    </tr>\n",
       "    <tr>\n",
       "      <th>15</th>\n",
       "      <td>Populatie: 6 jaar of ouder</td>\n",
       "      <td>Totaal mannen en vrouwen</td>\n",
       "      <td>1e</td>\n",
       "      <td>Trein</td>\n",
       "      <td>Waarde</td>\n",
       "      <td>2021</td>\n",
       "      <td>Nederland</td>\n",
       "      <td>0.05</td>\n",
       "      <td>2.69</td>\n",
       "      <td>4.23</td>\n",
       "    </tr>\n",
       "    <tr>\n",
       "      <th>16</th>\n",
       "      <td>Populatie: 6 jaar of ouder</td>\n",
       "      <td>Totaal mannen en vrouwen</td>\n",
       "      <td>1e</td>\n",
       "      <td>Fiets</td>\n",
       "      <td>Waarde</td>\n",
       "      <td>2018</td>\n",
       "      <td>Nederland</td>\n",
       "      <td>0.78</td>\n",
       "      <td>2.87</td>\n",
       "      <td>16.75</td>\n",
       "    </tr>\n",
       "    <tr>\n",
       "      <th>17</th>\n",
       "      <td>Populatie: 6 jaar of ouder</td>\n",
       "      <td>Totaal mannen en vrouwen</td>\n",
       "      <td>1e</td>\n",
       "      <td>Fiets</td>\n",
       "      <td>Waarde</td>\n",
       "      <td>2019</td>\n",
       "      <td>Nederland</td>\n",
       "      <td>0.75</td>\n",
       "      <td>2.76</td>\n",
       "      <td>17.69</td>\n",
       "    </tr>\n",
       "    <tr>\n",
       "      <th>18</th>\n",
       "      <td>Populatie: 6 jaar of ouder</td>\n",
       "      <td>Totaal mannen en vrouwen</td>\n",
       "      <td>1e</td>\n",
       "      <td>Fiets</td>\n",
       "      <td>Waarde</td>\n",
       "      <td>2020</td>\n",
       "      <td>Nederland</td>\n",
       "      <td>0.57</td>\n",
       "      <td>2.14</td>\n",
       "      <td>13.66</td>\n",
       "    </tr>\n",
       "    <tr>\n",
       "      <th>19</th>\n",
       "      <td>Populatie: 6 jaar of ouder</td>\n",
       "      <td>Totaal mannen en vrouwen</td>\n",
       "      <td>1e</td>\n",
       "      <td>Fiets</td>\n",
       "      <td>Waarde</td>\n",
       "      <td>2021</td>\n",
       "      <td>Nederland</td>\n",
       "      <td>0.60</td>\n",
       "      <td>2.36</td>\n",
       "      <td>15.51</td>\n",
       "    </tr>\n",
       "  </tbody>\n",
       "</table>\n",
       "</div>"
      ],
      "text/plain": [
       "                     Populatie                  Geslacht   Per Vervoerwijzen  \\\n",
       "0   Populatie: 6 jaar of ouder  Totaal mannen en vrouwen   1e         Totaal   \n",
       "1   Populatie: 6 jaar of ouder  Totaal mannen en vrouwen   1e         Totaal   \n",
       "2   Populatie: 6 jaar of ouder  Totaal mannen en vrouwen   1e         Totaal   \n",
       "3   Populatie: 6 jaar of ouder  Totaal mannen en vrouwen   1e         Totaal   \n",
       "4   Populatie: 6 jaar of ouder  Totaal mannen en vrouwen   1e   Personenauto   \n",
       "5   Populatie: 6 jaar of ouder  Totaal mannen en vrouwen   1e   Personenauto   \n",
       "6   Populatie: 6 jaar of ouder  Totaal mannen en vrouwen   1e   Personenauto   \n",
       "7   Populatie: 6 jaar of ouder  Totaal mannen en vrouwen   1e   Personenauto   \n",
       "8   Populatie: 6 jaar of ouder  Totaal mannen en vrouwen   1e   Personenauto   \n",
       "9   Populatie: 6 jaar of ouder  Totaal mannen en vrouwen   1e   Personenauto   \n",
       "10  Populatie: 6 jaar of ouder  Totaal mannen en vrouwen   1e   Personenauto   \n",
       "11  Populatie: 6 jaar of ouder  Totaal mannen en vrouwen   1e   Personenauto   \n",
       "12  Populatie: 6 jaar of ouder  Totaal mannen en vrouwen   1e          Trein   \n",
       "13  Populatie: 6 jaar of ouder  Totaal mannen en vrouwen   1e          Trein   \n",
       "14  Populatie: 6 jaar of ouder  Totaal mannen en vrouwen   1e          Trein   \n",
       "15  Populatie: 6 jaar of ouder  Totaal mannen en vrouwen   1e          Trein   \n",
       "16  Populatie: 6 jaar of ouder  Totaal mannen en vrouwen   1e          Fiets   \n",
       "17  Populatie: 6 jaar of ouder  Totaal mannen en vrouwen   1e          Fiets   \n",
       "18  Populatie: 6 jaar of ouder  Totaal mannen en vrouwen   1e          Fiets   \n",
       "19  Populatie: 6 jaar of ouder  Totaal mannen en vrouwen   1e          Fiets   \n",
       "\n",
       "    Marges  Perioden    Regio's  Verplaatsingen  Afstand  Reisduur  \n",
       "0   Waarde      2018  Nederland            2.45    26.40     67.79  \n",
       "1   Waarde      2019  Nederland            2.30    25.09     67.00  \n",
       "2   Waarde      2020  Nederland            1.88    16.47     51.82  \n",
       "3   Waarde      2021  Nederland            2.07    18.80     61.56  \n",
       "4   Waarde      2018  Nederland            0.55     9.24     13.70  \n",
       "5   Waarde      2019  Nederland            0.47     7.96     12.15  \n",
       "6   Waarde      2020  Nederland            0.40     6.17      9.63  \n",
       "7   Waarde      2021  Nederland            0.42     6.28      9.77  \n",
       "8   Waarde      2018  Nederland            0.24     5.04      7.42  \n",
       "9   Waarde      2019  Nederland            0.25     5.18      8.07  \n",
       "10  Waarde      2020  Nederland            0.18     3.12      5.21  \n",
       "11  Waarde      2021  Nederland            0.20     3.80      6.36  \n",
       "12  Waarde      2018  Nederland            0.09     5.02      7.64  \n",
       "13  Waarde      2019  Nederland            0.10     4.95      7.77  \n",
       "14  Waarde      2020  Nederland            0.04     2.19      3.36  \n",
       "15  Waarde      2021  Nederland            0.05     2.69      4.23  \n",
       "16  Waarde      2018  Nederland            0.78     2.87     16.75  \n",
       "17  Waarde      2019  Nederland            0.75     2.76     17.69  \n",
       "18  Waarde      2020  Nederland            0.57     2.14     13.66  \n",
       "19  Waarde      2021  Nederland            0.60     2.36     15.51  "
      ]
     },
     "execution_count": 2,
     "metadata": {},
     "output_type": "execute_result"
    }
   ],
   "source": [
    "#df_movement = pd.read_csv('C:\\\\Users\\\\panzhang\\\\Downloads\\\\Mobiliteit__persoonskenmerken_20102022_134103.csv',delimiter='\\t')\n",
    "\n",
    "filename = 'Mobiliteit__persoonskenmerken_20102022_134103.csv'\n",
    "delimiter = '\\t'\n",
    "df_movement = Preprocessing.load_data_csv(filename, delimiter)\n",
    "\n",
    "df_movement['Per']=df_movement['Per'].str.replace('Gestandaardiseerd inkomen:','')\n",
    "df_movement['Per']=df_movement['Per'].str.replace('20%-groep','')\n",
    "df_movement['Verplaatsingen']=df_movement['Verplaatsingen'].str.replace(',','.').astype(float)\n",
    "df_movement['Afstand']=df_movement['Afstand'].str.replace(',','.').astype(float)\n",
    "df_movement['Reisduur']=df_movement['Reisduur'].str.replace(',','.').astype(float)\n",
    "df_movement.head(20)\n"
   ]
  },
  {
   "cell_type": "code",
   "execution_count": 3,
   "metadata": {},
   "outputs": [
    {
     "data": {
      "image/png": "[encoded data removed]",
      "text/plain": [
       "<Figure size 640x480 with 1 Axes>"
      ]
     },
     "metadata": {},
     "output_type": "display_data"
    }
   ],
   "source": [
    "# Visiualization total movement before and after Covid\n",
    "df_2019=df_movement[df_movement['Perioden']==2019]\n",
    "df_2019_total=df_2019[df_2019['Vervoerwijzen']=='Totaal']\n",
    "df_2020=df_movement[df_movement['Perioden']==2020]\n",
    "df_2020_total=df_2020[df_2020['Vervoerwijzen']=='Totaal']\n",
    "\n",
    "\n",
    "plt.plot(df_2019_total['Per'], df_2019_total['Verplaatsingen'],label = \"Before Covid\")\n",
    "plt.plot(df_2020_total['Per'], df_2020_total['Verplaatsingen'],label = \"After Covid\")\n",
    "plt.title('Changes of travel frequencies before and after COVID')\n",
    "plt.legend()\n",
    "plt.show()\n",
    "\n"
   ]
  },
  {
   "cell_type": "code",
   "execution_count": 4,
   "metadata": {},
   "outputs": [
    {
     "data": {
      "image/png": "[encoded data removed]",
      "text/plain": [
       "<Figure size 640x480 with 1 Axes>"
      ]
     },
     "metadata": {},
     "output_type": "display_data"
    },
    {
     "data": {
      "image/png": "[encoded data removed]",
      "text/plain": [
       "<Figure size 640x480 with 1 Axes>"
      ]
     },
     "metadata": {},
     "output_type": "display_data"
    },
    {
     "data": {
      "image/png": "[encoded data removed]",
      "text/plain": [
       "<Figure size 640x480 with 1 Axes>"
      ]
     },
     "metadata": {},
     "output_type": "display_data"
    }
   ],
   "source": [
    "# Visiualization of total movement for differnet income groups\n",
    "\n",
    "from matplotlib.pyplot import title\n",
    "\n",
    "\n",
    "df_total=df_movement[df_movement['Vervoerwijzen']=='Totaal']\n",
    "\n",
    "sns.lineplot(x='Perioden', y='Verplaatsingen', data=df_total, hue='Per').set(title='Changes of travel frequencies for different income groups')\n",
    "plt.legend(bbox_to_anchor=(1.02, 1), loc='upper left', borderaxespad=0)\n",
    "plt.xlabel('Period')\n",
    "plt.ylabel('Travel frequency')\n",
    "plt.show()\n",
    "\n",
    "sns.lineplot(x='Perioden', y='Afstand', data=df_total, hue='Per').set(title='Changes of travel distance for different income groups')\n",
    "plt.legend(bbox_to_anchor=(1.02, 1), loc='upper left', borderaxespad=0)\n",
    "plt.xlabel('Period')\n",
    "plt.ylabel('Travel Distance')\n",
    "plt.show()\n",
    "\n",
    "sns.lineplot(x='Perioden', y='Reisduur', data=df_total, hue='Per').set(title='Changes of travel time for different income groups')\n",
    "plt.legend(bbox_to_anchor=(1.02, 1), loc='upper left', borderaxespad=0)\n",
    "plt.xlabel('Period')\n",
    "plt.ylabel('Travel time')\n",
    "plt.show()"
   ]
  },
  {
   "cell_type": "code",
   "execution_count": 5,
   "metadata": {},
   "outputs": [
    {
     "data": {
      "image/png": "[encoded data removed]",
      "text/plain": [
       "<Figure size 985.5x1500 with 15 Axes>"
      ]
     },
     "metadata": {},
     "output_type": "display_data"
    }
   ],
   "source": [
    "\n",
    "data_Verplaatsingen= df_movement[['Per', 'Vervoerwijzen','Perioden','Verplaatsingen']]\n",
    "data_Verplaatsingen=data_Verplaatsingen[data_Verplaatsingen['Vervoerwijzen']!='Totaal']\n",
    "g = sns.FacetGrid(data_Verplaatsingen, col='Vervoerwijzen',row='Per', hue='Perioden')\n",
    "g.map(sns.scatterplot,'Perioden','Verplaatsingen')\n",
    "g.add_legend()\n",
    "plt.show()"
   ]
  },
  {
   "cell_type": "code",
   "execution_count": 6,
   "metadata": {},
   "outputs": [
    {
     "data": {
      "application/vnd.plotly.v1+json": {
       "config": {
        "plotlyServerURL": "https://plot.ly"
       },
       "data": [
        {
         "hovertemplate": "<b>%{hovertext}</b><br><br>Per=%{x}<br>Vervoerwijzen=Totaal<br>Perioden=2018<br>Verplaatsingen=%{marker.size}<extra></extra>",
         "hovertext": [
          " 1e "
         ],
         "ids": [
          "Totaal"
         ],
         "legendgroup": " 1e , Totaal",
         "marker": {
          "color": "#636efa",
          "size": [
           2.45
          ],
          "sizemode": "area",
          "sizeref": 0.007525,
          "symbol": "circle"
         },
         "mode": "markers",
         "name": " 1e , Totaal",
         "orientation": "v",
         "showlegend": true,
         "type": "scatter",
         "x": [
          " 1e "
         ],
         "xaxis": "x",
         "y": [
          2.45
         ],
         "yaxis": "y"
        },
        {
         "hovertemplate": "<b>%{hovertext}</b><br><br>Per=%{x}<br>Vervoerwijzen=Personenauto<br>Perioden=2018<br>Verplaatsingen=%{marker.size}<extra></extra>",
         "hovertext": [
          " 1e ",
          " 1e "
         ],
         "ids": [
          "Personenauto",
          "Personenauto"
         ],
         "legendgroup": " 1e , Personenauto",
         "marker": {
          "color": "#636efa",
          "size": [
           0.55,
           0.24
          ],
          "sizemode": "area",
          "sizeref": 0.007525,
          "symbol": "diamond"
         },
         "mode": "markers",
         "name": " 1e , Personenauto",
         "orientation": "v",
         "showlegend": true,
         "type": "scatter",
         "x": [
          " 1e ",
          " 1e "
         ],
         "xaxis": "x",
         "y": [
          0.55,
          0.24
         ],
         "yaxis": "y"
        },
        {
         "hovertemplate": "<b>%{hovertext}</b><br><br>Per=%{x}<br>Vervoerwijzen=Trein<br>Perioden=2018<br>Verplaatsingen=%{marker.size}<extra></extra>",
         "hovertext": [
          " 1e "
         ],
         "ids": [
          "Trein"
         ],
         "legendgroup": " 1e , Trein",
         "marker": {
          "color": "#636efa",
          "size": [
           0.09
          ],
          "sizemode": "area",
          "sizeref": 0.007525,
          "symbol": "square"
         },
         "mode": "markers",
         "name": " 1e , Trein",
         "orientation": "v",
         "showlegend": true,
         "type": "scatter",
         "x": [
          " 1e "
         ],
         "xaxis": "x",
         "y": [
          0.09
         ],
         "yaxis": "y"
        },
        {
         "hovertemplate": "<b>%{hovertext}</b><br><br>Per=%{x}<br>Vervoerwijzen=Fiets<br>Perioden=2018<br>Verplaatsingen=%{marker.size}<extra></extra>",
         "hovertext": [
          " 1e "
         ],
         "ids": [
          "Fiets"
         ],
         "legendgroup": " 1e , Fiets",
         "marker": {
          "color": "#636efa",
          "size": [
           0.78
          ],
          "sizemode": "area",
          "sizeref": 0.007525,
          "symbol": "x"
         },
         "mode": "markers",
         "name": " 1e , Fiets",
         "orientation": "v",
         "showlegend": true,
         "type": "scatter",
         "x": [
          " 1e "
         ],
         "xaxis": "x",
         "y": [
          0.78
         ],
         "yaxis": "y"
        },
        {
         "hovertemplate": "<b>%{hovertext}</b><br><br>Per=%{x}<br>Vervoerwijzen=Totaal<br>Perioden=2018<br>Verplaatsingen=%{marker.size}<extra></extra>",
         "hovertext": [
          " 2e "
         ],
         "ids": [
          "Totaal"
         ],
         "legendgroup": " 2e , Totaal",
         "marker": {
          "color": "#EF553B",
          "size": [
           2.46
          ],
          "sizemode": "area",
          "sizeref": 0.007525,
          "symbol": "circle"
         },
         "mode": "markers",
         "name": " 2e , Totaal",
         "orientation": "v",
         "showlegend": true,
         "type": "scatter",
         "x": [
          " 2e "
         ],
         "xaxis": "x",
         "y": [
          2.46
         ],
         "yaxis": "y"
        },
        {
         "hovertemplate": "<b>%{hovertext}</b><br><br>Per=%{x}<br>Vervoerwijzen=Personenauto<br>Perioden=2018<br>Verplaatsingen=%{marker.size}<extra></extra>",
         "hovertext": [
          " 2e ",
          " 2e "
         ],
         "ids": [
          "Personenauto",
          "Personenauto"
         ],
         "legendgroup": " 2e , Personenauto",
         "marker": {
          "color": "#EF553B",
          "size": [
           0.76,
           0.31
          ],
          "sizemode": "area",
          "sizeref": 0.007525,
          "symbol": "diamond"
         },
         "mode": "markers",
         "name": " 2e , Personenauto",
         "orientation": "v",
         "showlegend": true,
         "type": "scatter",
         "x": [
          " 2e ",
          " 2e "
         ],
         "xaxis": "x",
         "y": [
          0.76,
          0.31
         ],
         "yaxis": "y"
        },
        {
         "hovertemplate": "<b>%{hovertext}</b><br><br>Per=%{x}<br>Vervoerwijzen=Trein<br>Perioden=2018<br>Verplaatsingen=%{marker.size}<extra></extra>",
         "hovertext": [
          " 2e "
         ],
         "ids": [
          "Trein"
         ],
         "legendgroup": " 2e , Trein",
         "marker": {
          "color": "#EF553B",
          "size": [
           0.06
          ],
          "sizemode": "area",
          "sizeref": 0.007525,
          "symbol": "square"
         },
         "mode": "markers",
         "name": " 2e , Trein",
         "orientation": "v",
         "showlegend": true,
         "type": "scatter",
         "x": [
          " 2e "
         ],
         "xaxis": "x",
         "y": [
          0.06
         ],
         "yaxis": "y"
        },
        {
         "hovertemplate": "<b>%{hovertext}</b><br><br>Per=%{x}<br>Vervoerwijzen=Fiets<br>Perioden=2018<br>Verplaatsingen=%{marker.size}<extra></extra>",
         "hovertext": [
          " 2e "
         ],
         "ids": [
          "Fiets"
         ],
         "legendgroup": " 2e , Fiets",
         "marker": {
          "color": "#EF553B",
          "size": [
           0.71
          ],
          "sizemode": "area",
          "sizeref": 0.007525,
          "symbol": "x"
         },
         "mode": "markers",
         "name": " 2e , Fiets",
         "orientation": "v",
         "showlegend": true,
         "type": "scatter",
         "x": [
          " 2e "
         ],
         "xaxis": "x",
         "y": [
          0.71
         ],
         "yaxis": "y"
        },
        {
         "hovertemplate": "<b>%{hovertext}</b><br><br>Per=%{x}<br>Vervoerwijzen=Totaal<br>Perioden=2018<br>Verplaatsingen=%{marker.size}<extra></extra>",
         "hovertext": [
          " 3e "
         ],
         "ids": [
          "Totaal"
         ],
         "legendgroup": " 3e , Totaal",
         "marker": {
          "color": "#00cc96",
          "size": [
           2.88
          ],
          "sizemode": "area",
          "sizeref": 0.007525,
          "symbol": "circle"
         },
         "mode": "markers",
         "name": " 3e , Totaal",
         "orientation": "v",
         "showlegend": true,
         "type": "scatter",
         "x": [
          " 3e "
         ],
         "xaxis": "x",
         "y": [
          2.88
         ],
         "yaxis": "y"
        },
        {
         "hovertemplate": "<b>%{hovertext}</b><br><br>Per=%{x}<br>Vervoerwijzen=Personenauto<br>Perioden=2018<br>Verplaatsingen=%{marker.size}<extra></extra>",
         "hovertext": [
          " 3e ",
          " 3e "
         ],
         "ids": [
          "Personenauto",
          "Personenauto"
         ],
         "legendgroup": " 3e , Personenauto",
         "marker": {
          "color": "#00cc96",
          "size": [
           0.98,
           0.36
          ],
          "sizemode": "area",
          "sizeref": 0.007525,
          "symbol": "diamond"
         },
         "mode": "markers",
         "name": " 3e , Personenauto",
         "orientation": "v",
         "showlegend": true,
         "type": "scatter",
         "x": [
          " 3e ",
          " 3e "
         ],
         "xaxis": "x",
         "y": [
          0.98,
          0.36
         ],
         "yaxis": "y"
        },
        {
         "hovertemplate": "<b>%{hovertext}</b><br><br>Per=%{x}<br>Vervoerwijzen=Trein<br>Perioden=2018<br>Verplaatsingen=%{marker.size}<extra></extra>",
         "hovertext": [
          " 3e "
         ],
         "ids": [
          "Trein"
         ],
         "legendgroup": " 3e , Trein",
         "marker": {
          "color": "#00cc96",
          "size": [
           0.07
          ],
          "sizemode": "area",
          "sizeref": 0.007525,
          "symbol": "square"
         },
         "mode": "markers",
         "name": " 3e , Trein",
         "orientation": "v",
         "showlegend": true,
         "type": "scatter",
         "x": [
          " 3e "
         ],
         "xaxis": "x",
         "y": [
          0.07
         ],
         "yaxis": "y"
        },
        {
         "hovertemplate": "<b>%{hovertext}</b><br><br>Per=%{x}<br>Vervoerwijzen=Fiets<br>Perioden=2018<br>Verplaatsingen=%{marker.size}<extra></extra>",
         "hovertext": [
          " 3e "
         ],
         "ids": [
          "Fiets"
         ],
         "legendgroup": " 3e , Fiets",
         "marker": {
          "color": "#00cc96",
          "size": [
           0.82
          ],
          "sizemode": "area",
          "sizeref": 0.007525,
          "symbol": "x"
         },
         "mode": "markers",
         "name": " 3e , Fiets",
         "orientation": "v",
         "showlegend": true,
         "type": "scatter",
         "x": [
          " 3e "
         ],
         "xaxis": "x",
         "y": [
          0.82
         ],
         "yaxis": "y"
        },
        {
         "hovertemplate": "<b>%{hovertext}</b><br><br>Per=%{x}<br>Vervoerwijzen=Totaal<br>Perioden=2018<br>Verplaatsingen=%{marker.size}<extra></extra>",
         "hovertext": [
          " 4e "
         ],
         "ids": [
          "Totaal"
         ],
         "legendgroup": " 4e , Totaal",
         "marker": {
          "color": "#ab63fa",
          "size": [
           3.01
          ],
          "sizemode": "area",
          "sizeref": 0.007525,
          "symbol": "circle"
         },
         "mode": "markers",
         "name": " 4e , Totaal",
         "orientation": "v",
         "showlegend": true,
         "type": "scatter",
         "x": [
          " 4e "
         ],
         "xaxis": "x",
         "y": [
          3.01
         ],
         "yaxis": "y"
        },
        {
         "hovertemplate": "<b>%{hovertext}</b><br><br>Per=%{x}<br>Vervoerwijzen=Personenauto<br>Perioden=2018<br>Verplaatsingen=%{marker.size}<extra></extra>",
         "hovertext": [
          " 4e ",
          " 4e "
         ],
         "ids": [
          "Personenauto",
          "Personenauto"
         ],
         "legendgroup": " 4e , Personenauto",
         "marker": {
          "color": "#ab63fa",
          "size": [
           1.12,
           0.37
          ],
          "sizemode": "area",
          "sizeref": 0.007525,
          "symbol": "diamond"
         },
         "mode": "markers",
         "name": " 4e , Personenauto",
         "orientation": "v",
         "showlegend": true,
         "type": "scatter",
         "x": [
          " 4e ",
          " 4e "
         ],
         "xaxis": "x",
         "y": [
          1.12,
          0.37
         ],
         "yaxis": "y"
        },
        {
         "hovertemplate": "<b>%{hovertext}</b><br><br>Per=%{x}<br>Vervoerwijzen=Trein<br>Perioden=2018<br>Verplaatsingen=%{marker.size}<extra></extra>",
         "hovertext": [
          " 4e "
         ],
         "ids": [
          "Trein"
         ],
         "legendgroup": " 4e , Trein",
         "marker": {
          "color": "#ab63fa",
          "size": [
           0.08
          ],
          "sizemode": "area",
          "sizeref": 0.007525,
          "symbol": "square"
         },
         "mode": "markers",
         "name": " 4e , Trein",
         "orientation": "v",
         "showlegend": true,
         "type": "scatter",
         "x": [
          " 4e "
         ],
         "xaxis": "x",
         "y": [
          0.08
         ],
         "yaxis": "y"
        },
        {
         "hovertemplate": "<b>%{hovertext}</b><br><br>Per=%{x}<br>Vervoerwijzen=Fiets<br>Perioden=2018<br>Verplaatsingen=%{marker.size}<extra></extra>",
         "hovertext": [
          " 4e "
         ],
         "ids": [
          "Fiets"
         ],
         "legendgroup": " 4e , Fiets",
         "marker": {
          "color": "#ab63fa",
          "size": [
           0.84
          ],
          "sizemode": "area",
          "sizeref": 0.007525,
          "symbol": "x"
         },
         "mode": "markers",
         "name": " 4e , Fiets",
         "orientation": "v",
         "showlegend": true,
         "type": "scatter",
         "x": [
          " 4e "
         ],
         "xaxis": "x",
         "y": [
          0.84
         ],
         "yaxis": "y"
        },
        {
         "hovertemplate": "<b>%{hovertext}</b><br><br>Per=%{x}<br>Vervoerwijzen=Totaal<br>Perioden=2018<br>Verplaatsingen=%{marker.size}<extra></extra>",
         "hovertext": [
          " 5e "
         ],
         "ids": [
          "Totaal"
         ],
         "legendgroup": " 5e , Totaal",
         "marker": {
          "color": "#FFA15A",
          "size": [
           3
          ],
          "sizemode": "area",
          "sizeref": 0.007525,
          "symbol": "circle"
         },
         "mode": "markers",
         "name": " 5e , Totaal",
         "orientation": "v",
         "showlegend": true,
         "type": "scatter",
         "x": [
          " 5e "
         ],
         "xaxis": "x",
         "y": [
          3
         ],
         "yaxis": "y"
        },
        {
         "hovertemplate": "<b>%{hovertext}</b><br><br>Per=%{x}<br>Vervoerwijzen=Personenauto<br>Perioden=2018<br>Verplaatsingen=%{marker.size}<extra></extra>",
         "hovertext": [
          " 5e ",
          " 5e "
         ],
         "ids": [
          "Personenauto",
          "Personenauto"
         ],
         "legendgroup": " 5e , Personenauto",
         "marker": {
          "color": "#FFA15A",
          "size": [
           1.25,
           0.32
          ],
          "sizemode": "area",
          "sizeref": 0.007525,
          "symbol": "diamond"
         },
         "mode": "markers",
         "name": " 5e , Personenauto",
         "orientation": "v",
         "showlegend": true,
         "type": "scatter",
         "x": [
          " 5e ",
          " 5e "
         ],
         "xaxis": "x",
         "y": [
          1.25,
          0.32
         ],
         "yaxis": "y"
        },
        {
         "hovertemplate": "<b>%{hovertext}</b><br><br>Per=%{x}<br>Vervoerwijzen=Trein<br>Perioden=2018<br>Verplaatsingen=%{marker.size}<extra></extra>",
         "hovertext": [
          " 5e "
         ],
         "ids": [
          "Trein"
         ],
         "legendgroup": " 5e , Trein",
         "marker": {
          "color": "#FFA15A",
          "size": [
           0.09
          ],
          "sizemode": "area",
          "sizeref": 0.007525,
          "symbol": "square"
         },
         "mode": "markers",
         "name": " 5e , Trein",
         "orientation": "v",
         "showlegend": true,
         "type": "scatter",
         "x": [
          " 5e "
         ],
         "xaxis": "x",
         "y": [
          0.09
         ],
         "yaxis": "y"
        },
        {
         "hovertemplate": "<b>%{hovertext}</b><br><br>Per=%{x}<br>Vervoerwijzen=Fiets<br>Perioden=2018<br>Verplaatsingen=%{marker.size}<extra></extra>",
         "hovertext": [
          " 5e "
         ],
         "ids": [
          "Fiets"
         ],
         "legendgroup": " 5e , Fiets",
         "marker": {
          "color": "#FFA15A",
          "size": [
           0.8
          ],
          "sizemode": "area",
          "sizeref": 0.007525,
          "symbol": "x"
         },
         "mode": "markers",
         "name": " 5e , Fiets",
         "orientation": "v",
         "showlegend": true,
         "type": "scatter",
         "x": [
          " 5e "
         ],
         "xaxis": "x",
         "y": [
          0.8
         ],
         "yaxis": "y"
        }
       ],
       "frames": [
        {
         "data": [
          {
           "hovertemplate": "<b>%{hovertext}</b><br><br>Per=%{x}<br>Vervoerwijzen=Totaal<br>Perioden=2018<br>Verplaatsingen=%{marker.size}<extra></extra>",
           "hovertext": [
            " 1e "
           ],
           "ids": [
            "Totaal"
           ],
           "legendgroup": " 1e , Totaal",
           "marker": {
            "color": "#636efa",
            "size": [
             2.45
            ],
            "sizemode": "area",
            "sizeref": 0.007525,
            "symbol": "circle"
           },
           "mode": "markers",
           "name": " 1e , Totaal",
           "orientation": "v",
           "showlegend": true,
           "type": "scatter",
           "x": [
            " 1e "
           ],
           "xaxis": "x",
           "y": [
            2.45
           ],
           "yaxis": "y"
          },
          {
           "hovertemplate": "<b>%{hovertext}</b><br><br>Per=%{x}<br>Vervoerwijzen=Personenauto<br>Perioden=2018<br>Verplaatsingen=%{marker.size}<extra></extra>",
           "hovertext": [
            " 1e ",
            " 1e "
           ],
           "ids": [
            "Personenauto",
            "Personenauto"
           ],
           "legendgroup": " 1e , Personenauto",
           "marker": {
            "color": "#636efa",
            "size": [
             0.55,
             0.24
            ],
            "sizemode": "area",
            "sizeref": 0.007525,
            "symbol": "diamond"
           },
           "mode": "markers",
           "name": " 1e , Personenauto",
           "orientation": "v",
           "showlegend": true,
           "type": "scatter",
           "x": [
            " 1e ",
            " 1e "
           ],
           "xaxis": "x",
           "y": [
            0.55,
            0.24
           ],
           "yaxis": "y"
          },
          {
           "hovertemplate": "<b>%{hovertext}</b><br><br>Per=%{x}<br>Vervoerwijzen=Trein<br>Perioden=2018<br>Verplaatsingen=%{marker.size}<extra></extra>",
           "hovertext": [
            " 1e "
           ],
           "ids": [
            "Trein"
           ],
           "legendgroup": " 1e , Trein",
           "marker": {
            "color": "#636efa",
            "size": [
             0.09
            ],
            "sizemode": "area",
            "sizeref": 0.007525,
            "symbol": "square"
           },
           "mode": "markers",
           "name": " 1e , Trein",
           "orientation": "v",
           "showlegend": true,
           "type": "scatter",
           "x": [
            " 1e "
           ],
           "xaxis": "x",
           "y": [
            0.09
           ],
           "yaxis": "y"
          },
          {
           "hovertemplate": "<b>%{hovertext}</b><br><br>Per=%{x}<br>Vervoerwijzen=Fiets<br>Perioden=2018<br>Verplaatsingen=%{marker.size}<extra></extra>",
           "hovertext": [
            " 1e "
           ],
           "ids": [
            "Fiets"
           ],
           "legendgroup": " 1e , Fiets",
           "marker": {
            "color": "#636efa",
            "size": [
             0.78
            ],
            "sizemode": "area",
            "sizeref": 0.007525,
            "symbol": "x"
           },
           "mode": "markers",
           "name": " 1e , Fiets",
           "orientation": "v",
           "showlegend": true,
           "type": "scatter",
           "x": [
            " 1e "
           ],
           "xaxis": "x",
           "y": [
            0.78
           ],
           "yaxis": "y"
          },
          {
           "hovertemplate": "<b>%{hovertext}</b><br><br>Per=%{x}<br>Vervoerwijzen=Totaal<br>Perioden=2018<br>Verplaatsingen=%{marker.size}<extra></extra>",
           "hovertext": [
            " 2e "
           ],
           "ids": [
            "Totaal"
           ],
           "legendgroup": " 2e , Totaal",
           "marker": {
            "color": "#EF553B",
            "size": [
             2.46
            ],
            "sizemode": "area",
            "sizeref": 0.007525,
            "symbol": "circle"
           },
           "mode": "markers",
           "name": " 2e , Totaal",
           "orientation": "v",
           "showlegend": true,
           "type": "scatter",
           "x": [
            " 2e "
           ],
           "xaxis": "x",
           "y": [
            2.46
           ],
           "yaxis": "y"
          },
          {
           "hovertemplate": "<b>%{hovertext}</b><br><br>Per=%{x}<br>Vervoerwijzen=Personenauto<br>Perioden=2018<br>Verplaatsingen=%{marker.size}<extra></extra>",
           "hovertext": [
            " 2e ",
            " 2e "
           ],
           "ids": [
            "Personenauto",
            "Personenauto"
           ],
           "legendgroup": " 2e , Personenauto",
           "marker": {
            "color": "#EF553B",
            "size": [
             0.76,
             0.31
            ],
            "sizemode": "area",
            "sizeref": 0.007525,
            "symbol": "diamond"
           },
           "mode": "markers",
           "name": " 2e , Personenauto",
           "orientation": "v",
           "showlegend": true,
           "type": "scatter",
           "x": [
            " 2e ",
            " 2e "
           ],
           "xaxis": "x",
           "y": [
            0.76,
            0.31
           ],
           "yaxis": "y"
          },
          {
           "hovertemplate": "<b>%{hovertext}</b><br><br>Per=%{x}<br>Vervoerwijzen=Trein<br>Perioden=2018<br>Verplaatsingen=%{marker.size}<extra></extra>",
           "hovertext": [
            " 2e "
           ],
           "ids": [
            "Trein"
           ],
           "legendgroup": " 2e , Trein",
           "marker": {
            "color": "#EF553B",
            "size": [
             0.06
            ],
            "sizemode": "area",
            "sizeref": 0.007525,
            "symbol": "square"
           },
           "mode": "markers",
           "name": " 2e , Trein",
           "orientation": "v",
           "showlegend": true,
           "type": "scatter",
           "x": [
            " 2e "
           ],
           "xaxis": "x",
           "y": [
            0.06
           ],
           "yaxis": "y"
          },
          {
           "hovertemplate": "<b>%{hovertext}</b><br><br>Per=%{x}<br>Vervoerwijzen=Fiets<br>Perioden=2018<br>Verplaatsingen=%{marker.size}<extra></extra>",
           "hovertext": [
            " 2e "
           ],
           "ids": [
            "Fiets"
           ],
           "legendgroup": " 2e , Fiets",
           "marker": {
            "color": "#EF553B",
            "size": [
             0.71
            ],
            "sizemode": "area",
            "sizeref": 0.007525,
            "symbol": "x"
           },
           "mode": "markers",
           "name": " 2e , Fiets",
           "orientation": "v",
           "showlegend": true,
           "type": "scatter",
           "x": [
            " 2e "
           ],
           "xaxis": "x",
           "y": [
            0.71
           ],
           "yaxis": "y"
          },
          {
           "hovertemplate": "<b>%{hovertext}</b><br><br>Per=%{x}<br>Vervoerwijzen=Totaal<br>Perioden=2018<br>Verplaatsingen=%{marker.size}<extra></extra>",
           "hovertext": [
            " 3e "
           ],
           "ids": [
            "Totaal"
           ],
           "legendgroup": " 3e , Totaal",
           "marker": {
            "color": "#00cc96",
            "size": [
             2.88
            ],
            "sizemode": "area",
            "sizeref": 0.007525,
            "symbol": "circle"
           },
           "mode": "markers",
           "name": " 3e , Totaal",
           "orientation": "v",
           "showlegend": true,
           "type": "scatter",
           "x": [
            " 3e "
           ],
           "xaxis": "x",
           "y": [
            2.88
           ],
           "yaxis": "y"
          },
          {
           "hovertemplate": "<b>%{hovertext}</b><br><br>Per=%{x}<br>Vervoerwijzen=Personenauto<br>Perioden=2018<br>Verplaatsingen=%{marker.size}<extra></extra>",
           "hovertext": [
            " 3e ",
            " 3e "
           ],
           "ids": [
            "Personenauto",
            "Personenauto"
           ],
           "legendgroup": " 3e , Personenauto",
           "marker": {
            "color": "#00cc96",
            "size": [
             0.98,
             0.36
            ],
            "sizemode": "area",
            "sizeref": 0.007525,
            "symbol": "diamond"
           },
           "mode": "markers",
           "name": " 3e , Personenauto",
           "orientation": "v",
           "showlegend": true,
           "type": "scatter",
           "x": [
            " 3e ",
            " 3e "
           ],
           "xaxis": "x",
           "y": [
            0.98,
            0.36
           ],
           "yaxis": "y"
          },
          {
           "hovertemplate": "<b>%{hovertext}</b><br><br>Per=%{x}<br>Vervoerwijzen=Trein<br>Perioden=2018<br>Verplaatsingen=%{marker.size}<extra></extra>",
           "hovertext": [
            " 3e "
           ],
           "ids": [
            "Trein"
           ],
           "legendgroup": " 3e , Trein",
           "marker": {
            "color": "#00cc96",
            "size": [
             0.07
            ],
            "sizemode": "area",
            "sizeref": 0.007525,
            "symbol": "square"
           },
           "mode": "markers",
           "name": " 3e , Trein",
           "orientation": "v",
           "showlegend": true,
           "type": "scatter",
           "x": [
            " 3e "
           ],
           "xaxis": "x",
           "y": [
            0.07
           ],
           "yaxis": "y"
          },
          {
           "hovertemplate": "<b>%{hovertext}</b><br><br>Per=%{x}<br>Vervoerwijzen=Fiets<br>Perioden=2018<br>Verplaatsingen=%{marker.size}<extra></extra>",
           "hovertext": [
            " 3e "
           ],
           "ids": [
            "Fiets"
           ],
           "legendgroup": " 3e , Fiets",
           "marker": {
            "color": "#00cc96",
            "size": [
             0.82
            ],
            "sizemode": "area",
            "sizeref": 0.007525,
            "symbol": "x"
           },
           "mode": "markers",
           "name": " 3e , Fiets",
           "orientation": "v",
           "showlegend": true,
           "type": "scatter",
           "x": [
            " 3e "
           ],
           "xaxis": "x",
           "y": [
            0.82
           ],
           "yaxis": "y"
          },
          {
           "hovertemplate": "<b>%{hovertext}</b><br><br>Per=%{x}<br>Vervoerwijzen=Totaal<br>Perioden=2018<br>Verplaatsingen=%{marker.size}<extra></extra>",
           "hovertext": [
            " 4e "
           ],
           "ids": [
            "Totaal"
           ],
           "legendgroup": " 4e , Totaal",
           "marker": {
            "color": "#ab63fa",
            "size": [
             3.01
            ],
            "sizemode": "area",
            "sizeref": 0.007525,
            "symbol": "circle"
           },
           "mode": "markers",
           "name": " 4e , Totaal",
           "orientation": "v",
           "showlegend": true,
           "type": "scatter",
           "x": [
            " 4e "
           ],
           "xaxis": "x",
           "y": [
            3.01
           ],
           "yaxis": "y"
          },
          {
           "hovertemplate": "<b>%{hovertext}</b><br><br>Per=%{x}<br>Vervoerwijzen=Personenauto<br>Perioden=2018<br>Verplaatsingen=%{marker.size}<extra></extra>",
           "hovertext": [
            " 4e ",
            " 4e "
           ],
           "ids": [
            "Personenauto",
            "Personenauto"
           ],
           "legendgroup": " 4e , Personenauto",
           "marker": {
            "color": "#ab63fa",
            "size": [
             1.12,
             0.37
            ],
            "sizemode": "area",
            "sizeref": 0.007525,
            "symbol": "diamond"
           },
           "mode": "markers",
           "name": " 4e , Personenauto",
           "orientation": "v",
           "showlegend": true,
           "type": "scatter",
           "x": [
            " 4e ",
            " 4e "
           ],
           "xaxis": "x",
           "y": [
            1.12,
            0.37
           ],
           "yaxis": "y"
          },
          {
           "hovertemplate": "<b>%{hovertext}</b><br><br>Per=%{x}<br>Vervoerwijzen=Trein<br>Perioden=2018<br>Verplaatsingen=%{marker.size}<extra></extra>",
           "hovertext": [
            " 4e "
           ],
           "ids": [
            "Trein"
           ],
           "legendgroup": " 4e , Trein",
           "marker": {
            "color": "#ab63fa",
            "size": [
             0.08
            ],
            "sizemode": "area",
            "sizeref": 0.007525,
            "symbol": "square"
           },
           "mode": "markers",
           "name": " 4e , Trein",
           "orientation": "v",
           "showlegend": true,
           "type": "scatter",
           "x": [
            " 4e "
           ],
           "xaxis": "x",
           "y": [
            0.08
           ],
           "yaxis": "y"
          },
          {
           "hovertemplate": "<b>%{hovertext}</b><br><br>Per=%{x}<br>Vervoerwijzen=Fiets<br>Perioden=2018<br>Verplaatsingen=%{marker.size}<extra></extra>",
           "hovertext": [
            " 4e "
           ],
           "ids": [
            "Fiets"
           ],
           "legendgroup": " 4e , Fiets",
           "marker": {
            "color": "#ab63fa",
            "size": [
             0.84
            ],
            "sizemode": "area",
            "sizeref": 0.007525,
            "symbol": "x"
           },
           "mode": "markers",
           "name": " 4e , Fiets",
           "orientation": "v",
           "showlegend": true,
           "type": "scatter",
           "x": [
            " 4e "
           ],
           "xaxis": "x",
           "y": [
            0.84
           ],
           "yaxis": "y"
          },
          {
           "hovertemplate": "<b>%{hovertext}</b><br><br>Per=%{x}<br>Vervoerwijzen=Totaal<br>Perioden=2018<br>Verplaatsingen=%{marker.size}<extra></extra>",
           "hovertext": [
            " 5e "
           ],
           "ids": [
            "Totaal"
           ],
           "legendgroup": " 5e , Totaal",
           "marker": {
            "color": "#FFA15A",
            "size": [
             3
            ],
            "sizemode": "area",
            "sizeref": 0.007525,
            "symbol": "circle"
           },
           "mode": "markers",
           "name": " 5e , Totaal",
           "orientation": "v",
           "showlegend": true,
           "type": "scatter",
           "x": [
            " 5e "
           ],
           "xaxis": "x",
           "y": [
            3
           ],
           "yaxis": "y"
          },
          {
           "hovertemplate": "<b>%{hovertext}</b><br><br>Per=%{x}<br>Vervoerwijzen=Personenauto<br>Perioden=2018<br>Verplaatsingen=%{marker.size}<extra></extra>",
           "hovertext": [
            " 5e ",
            " 5e "
           ],
           "ids": [
            "Personenauto",
            "Personenauto"
           ],
           "legendgroup": " 5e , Personenauto",
           "marker": {
            "color": "#FFA15A",
            "size": [
             1.25,
             0.32
            ],
            "sizemode": "area",
            "sizeref": 0.007525,
            "symbol": "diamond"
           },
           "mode": "markers",
           "name": " 5e , Personenauto",
           "orientation": "v",
           "showlegend": true,
           "type": "scatter",
           "x": [
            " 5e ",
            " 5e "
           ],
           "xaxis": "x",
           "y": [
            1.25,
            0.32
           ],
           "yaxis": "y"
          },
          {
           "hovertemplate": "<b>%{hovertext}</b><br><br>Per=%{x}<br>Vervoerwijzen=Trein<br>Perioden=2018<br>Verplaatsingen=%{marker.size}<extra></extra>",
           "hovertext": [
            " 5e "
           ],
           "ids": [
            "Trein"
           ],
           "legendgroup": " 5e , Trein",
           "marker": {
            "color": "#FFA15A",
            "size": [
             0.09
            ],
            "sizemode": "area",
            "sizeref": 0.007525,
            "symbol": "square"
           },
           "mode": "markers",
           "name": " 5e , Trein",
           "orientation": "v",
           "showlegend": true,
           "type": "scatter",
           "x": [
            " 5e "
           ],
           "xaxis": "x",
           "y": [
            0.09
           ],
           "yaxis": "y"
          },
          {
           "hovertemplate": "<b>%{hovertext}</b><br><br>Per=%{x}<br>Vervoerwijzen=Fiets<br>Perioden=2018<br>Verplaatsingen=%{marker.size}<extra></extra>",
           "hovertext": [
            " 5e "
           ],
           "ids": [
            "Fiets"
           ],
           "legendgroup": " 5e , Fiets",
           "marker": {
            "color": "#FFA15A",
            "size": [
             0.8
            ],
            "sizemode": "area",
            "sizeref": 0.007525,
            "symbol": "x"
           },
           "mode": "markers",
           "name": " 5e , Fiets",
           "orientation": "v",
           "showlegend": true,
           "type": "scatter",
           "x": [
            " 5e "
           ],
           "xaxis": "x",
           "y": [
            0.8
           ],
           "yaxis": "y"
          }
         ],
         "name": "2018"
        },
        {
         "data": [
          {
           "hovertemplate": "<b>%{hovertext}</b><br><br>Per=%{x}<br>Vervoerwijzen=Totaal<br>Perioden=2019<br>Verplaatsingen=%{marker.size}<extra></extra>",
           "hovertext": [
            " 1e "
           ],
           "ids": [
            "Totaal"
           ],
           "legendgroup": " 1e , Totaal",
           "marker": {
            "color": "#636efa",
            "size": [
             2.3
            ],
            "sizemode": "area",
            "sizeref": 0.007525,
            "symbol": "circle"
           },
           "mode": "markers",
           "name": " 1e , Totaal",
           "orientation": "v",
           "showlegend": true,
           "type": "scatter",
           "x": [
            " 1e "
           ],
           "xaxis": "x",
           "y": [
            2.3
           ],
           "yaxis": "y"
          },
          {
           "hovertemplate": "<b>%{hovertext}</b><br><br>Per=%{x}<br>Vervoerwijzen=Personenauto<br>Perioden=2019<br>Verplaatsingen=%{marker.size}<extra></extra>",
           "hovertext": [
            " 1e ",
            " 1e "
           ],
           "ids": [
            "Personenauto",
            "Personenauto"
           ],
           "legendgroup": " 1e , Personenauto",
           "marker": {
            "color": "#636efa",
            "size": [
             0.47,
             0.25
            ],
            "sizemode": "area",
            "sizeref": 0.007525,
            "symbol": "diamond"
           },
           "mode": "markers",
           "name": " 1e , Personenauto",
           "orientation": "v",
           "showlegend": true,
           "type": "scatter",
           "x": [
            " 1e ",
            " 1e "
           ],
           "xaxis": "x",
           "y": [
            0.47,
            0.25
           ],
           "yaxis": "y"
          },
          {
           "hovertemplate": "<b>%{hovertext}</b><br><br>Per=%{x}<br>Vervoerwijzen=Trein<br>Perioden=2019<br>Verplaatsingen=%{marker.size}<extra></extra>",
           "hovertext": [
            " 1e "
           ],
           "ids": [
            "Trein"
           ],
           "legendgroup": " 1e , Trein",
           "marker": {
            "color": "#636efa",
            "size": [
             0.1
            ],
            "sizemode": "area",
            "sizeref": 0.007525,
            "symbol": "square"
           },
           "mode": "markers",
           "name": " 1e , Trein",
           "orientation": "v",
           "showlegend": true,
           "type": "scatter",
           "x": [
            " 1e "
           ],
           "xaxis": "x",
           "y": [
            0.1
           ],
           "yaxis": "y"
          },
          {
           "hovertemplate": "<b>%{hovertext}</b><br><br>Per=%{x}<br>Vervoerwijzen=Fiets<br>Perioden=2019<br>Verplaatsingen=%{marker.size}<extra></extra>",
           "hovertext": [
            " 1e "
           ],
           "ids": [
            "Fiets"
           ],
           "legendgroup": " 1e , Fiets",
           "marker": {
            "color": "#636efa",
            "size": [
             0.75
            ],
            "sizemode": "area",
            "sizeref": 0.007525,
            "symbol": "x"
           },
           "mode": "markers",
           "name": " 1e , Fiets",
           "orientation": "v",
           "showlegend": true,
           "type": "scatter",
           "x": [
            " 1e "
           ],
           "xaxis": "x",
           "y": [
            0.75
           ],
           "yaxis": "y"
          },
          {
           "hovertemplate": "<b>%{hovertext}</b><br><br>Per=%{x}<br>Vervoerwijzen=Totaal<br>Perioden=2019<br>Verplaatsingen=%{marker.size}<extra></extra>",
           "hovertext": [
            " 2e "
           ],
           "ids": [
            "Totaal"
           ],
           "legendgroup": " 2e , Totaal",
           "marker": {
            "color": "#EF553B",
            "size": [
             2.41
            ],
            "sizemode": "area",
            "sizeref": 0.007525,
            "symbol": "circle"
           },
           "mode": "markers",
           "name": " 2e , Totaal",
           "orientation": "v",
           "showlegend": true,
           "type": "scatter",
           "x": [
            " 2e "
           ],
           "xaxis": "x",
           "y": [
            2.41
           ],
           "yaxis": "y"
          },
          {
           "hovertemplate": "<b>%{hovertext}</b><br><br>Per=%{x}<br>Vervoerwijzen=Personenauto<br>Perioden=2019<br>Verplaatsingen=%{marker.size}<extra></extra>",
           "hovertext": [
            " 2e ",
            " 2e "
           ],
           "ids": [
            "Personenauto",
            "Personenauto"
           ],
           "legendgroup": " 2e , Personenauto",
           "marker": {
            "color": "#EF553B",
            "size": [
             0.73,
             0.28
            ],
            "sizemode": "area",
            "sizeref": 0.007525,
            "symbol": "diamond"
           },
           "mode": "markers",
           "name": " 2e , Personenauto",
           "orientation": "v",
           "showlegend": true,
           "type": "scatter",
           "x": [
            " 2e ",
            " 2e "
           ],
           "xaxis": "x",
           "y": [
            0.73,
            0.28
           ],
           "yaxis": "y"
          },
          {
           "hovertemplate": "<b>%{hovertext}</b><br><br>Per=%{x}<br>Vervoerwijzen=Trein<br>Perioden=2019<br>Verplaatsingen=%{marker.size}<extra></extra>",
           "hovertext": [
            " 2e "
           ],
           "ids": [
            "Trein"
           ],
           "legendgroup": " 2e , Trein",
           "marker": {
            "color": "#EF553B",
            "size": [
             0.06
            ],
            "sizemode": "area",
            "sizeref": 0.007525,
            "symbol": "square"
           },
           "mode": "markers",
           "name": " 2e , Trein",
           "orientation": "v",
           "showlegend": true,
           "type": "scatter",
           "x": [
            " 2e "
           ],
           "xaxis": "x",
           "y": [
            0.06
           ],
           "yaxis": "y"
          },
          {
           "hovertemplate": "<b>%{hovertext}</b><br><br>Per=%{x}<br>Vervoerwijzen=Fiets<br>Perioden=2019<br>Verplaatsingen=%{marker.size}<extra></extra>",
           "hovertext": [
            " 2e "
           ],
           "ids": [
            "Fiets"
           ],
           "legendgroup": " 2e , Fiets",
           "marker": {
            "color": "#EF553B",
            "size": [
             0.71
            ],
            "sizemode": "area",
            "sizeref": 0.007525,
            "symbol": "x"
           },
           "mode": "markers",
           "name": " 2e , Fiets",
           "orientation": "v",
           "showlegend": true,
           "type": "scatter",
           "x": [
            " 2e "
           ],
           "xaxis": "x",
           "y": [
            0.71
           ],
           "yaxis": "y"
          },
          {
           "hovertemplate": "<b>%{hovertext}</b><br><br>Per=%{x}<br>Vervoerwijzen=Totaal<br>Perioden=2019<br>Verplaatsingen=%{marker.size}<extra></extra>",
           "hovertext": [
            " 3e "
           ],
           "ids": [
            "Totaal"
           ],
           "legendgroup": " 3e , Totaal",
           "marker": {
            "color": "#00cc96",
            "size": [
             2.8
            ],
            "sizemode": "area",
            "sizeref": 0.007525,
            "symbol": "circle"
           },
           "mode": "markers",
           "name": " 3e , Totaal",
           "orientation": "v",
           "showlegend": true,
           "type": "scatter",
           "x": [
            " 3e "
           ],
           "xaxis": "x",
           "y": [
            2.8
           ],
           "yaxis": "y"
          },
          {
           "hovertemplate": "<b>%{hovertext}</b><br><br>Per=%{x}<br>Vervoerwijzen=Personenauto<br>Perioden=2019<br>Verplaatsingen=%{marker.size}<extra></extra>",
           "hovertext": [
            " 3e ",
            " 3e "
           ],
           "ids": [
            "Personenauto",
            "Personenauto"
           ],
           "legendgroup": " 3e , Personenauto",
           "marker": {
            "color": "#00cc96",
            "size": [
             0.99,
             0.34
            ],
            "sizemode": "area",
            "sizeref": 0.007525,
            "symbol": "diamond"
           },
           "mode": "markers",
           "name": " 3e , Personenauto",
           "orientation": "v",
           "showlegend": true,
           "type": "scatter",
           "x": [
            " 3e ",
            " 3e "
           ],
           "xaxis": "x",
           "y": [
            0.99,
            0.34
           ],
           "yaxis": "y"
          },
          {
           "hovertemplate": "<b>%{hovertext}</b><br><br>Per=%{x}<br>Vervoerwijzen=Trein<br>Perioden=2019<br>Verplaatsingen=%{marker.size}<extra></extra>",
           "hovertext": [
            " 3e "
           ],
           "ids": [
            "Trein"
           ],
           "legendgroup": " 3e , Trein",
           "marker": {
            "color": "#00cc96",
            "size": [
             0.08
            ],
            "sizemode": "area",
            "sizeref": 0.007525,
            "symbol": "square"
           },
           "mode": "markers",
           "name": " 3e , Trein",
           "orientation": "v",
           "showlegend": true,
           "type": "scatter",
           "x": [
            " 3e "
           ],
           "xaxis": "x",
           "y": [
            0.08
           ],
           "yaxis": "y"
          },
          {
           "hovertemplate": "<b>%{hovertext}</b><br><br>Per=%{x}<br>Vervoerwijzen=Fiets<br>Perioden=2019<br>Verplaatsingen=%{marker.size}<extra></extra>",
           "hovertext": [
            " 3e "
           ],
           "ids": [
            "Fiets"
           ],
           "legendgroup": " 3e , Fiets",
           "marker": {
            "color": "#00cc96",
            "size": [
             0.78
            ],
            "sizemode": "area",
            "sizeref": 0.007525,
            "symbol": "x"
           },
           "mode": "markers",
           "name": " 3e , Fiets",
           "orientation": "v",
           "showlegend": true,
           "type": "scatter",
           "x": [
            " 3e "
           ],
           "xaxis": "x",
           "y": [
            0.78
           ],
           "yaxis": "y"
          },
          {
           "hovertemplate": "<b>%{hovertext}</b><br><br>Per=%{x}<br>Vervoerwijzen=Totaal<br>Perioden=2019<br>Verplaatsingen=%{marker.size}<extra></extra>",
           "hovertext": [
            " 4e "
           ],
           "ids": [
            "Totaal"
           ],
           "legendgroup": " 4e , Totaal",
           "marker": {
            "color": "#ab63fa",
            "size": [
             2.95
            ],
            "sizemode": "area",
            "sizeref": 0.007525,
            "symbol": "circle"
           },
           "mode": "markers",
           "name": " 4e , Totaal",
           "orientation": "v",
           "showlegend": true,
           "type": "scatter",
           "x": [
            " 4e "
           ],
           "xaxis": "x",
           "y": [
            2.95
           ],
           "yaxis": "y"
          },
          {
           "hovertemplate": "<b>%{hovertext}</b><br><br>Per=%{x}<br>Vervoerwijzen=Personenauto<br>Perioden=2019<br>Verplaatsingen=%{marker.size}<extra></extra>",
           "hovertext": [
            " 4e ",
            " 4e "
           ],
           "ids": [
            "Personenauto",
            "Personenauto"
           ],
           "legendgroup": " 4e , Personenauto",
           "marker": {
            "color": "#ab63fa",
            "size": [
             1.13,
             0.35
            ],
            "sizemode": "area",
            "sizeref": 0.007525,
            "symbol": "diamond"
           },
           "mode": "markers",
           "name": " 4e , Personenauto",
           "orientation": "v",
           "showlegend": true,
           "type": "scatter",
           "x": [
            " 4e ",
            " 4e "
           ],
           "xaxis": "x",
           "y": [
            1.13,
            0.35
           ],
           "yaxis": "y"
          },
          {
           "hovertemplate": "<b>%{hovertext}</b><br><br>Per=%{x}<br>Vervoerwijzen=Trein<br>Perioden=2019<br>Verplaatsingen=%{marker.size}<extra></extra>",
           "hovertext": [
            " 4e "
           ],
           "ids": [
            "Trein"
           ],
           "legendgroup": " 4e , Trein",
           "marker": {
            "color": "#ab63fa",
            "size": [
             0.08
            ],
            "sizemode": "area",
            "sizeref": 0.007525,
            "symbol": "square"
           },
           "mode": "markers",
           "name": " 4e , Trein",
           "orientation": "v",
           "showlegend": true,
           "type": "scatter",
           "x": [
            " 4e "
           ],
           "xaxis": "x",
           "y": [
            0.08
           ],
           "yaxis": "y"
          },
          {
           "hovertemplate": "<b>%{hovertext}</b><br><br>Per=%{x}<br>Vervoerwijzen=Fiets<br>Perioden=2019<br>Verplaatsingen=%{marker.size}<extra></extra>",
           "hovertext": [
            " 4e "
           ],
           "ids": [
            "Fiets"
           ],
           "legendgroup": " 4e , Fiets",
           "marker": {
            "color": "#ab63fa",
            "size": [
             0.8
            ],
            "sizemode": "area",
            "sizeref": 0.007525,
            "symbol": "x"
           },
           "mode": "markers",
           "name": " 4e , Fiets",
           "orientation": "v",
           "showlegend": true,
           "type": "scatter",
           "x": [
            " 4e "
           ],
           "xaxis": "x",
           "y": [
            0.8
           ],
           "yaxis": "y"
          },
          {
           "hovertemplate": "<b>%{hovertext}</b><br><br>Per=%{x}<br>Vervoerwijzen=Totaal<br>Perioden=2019<br>Verplaatsingen=%{marker.size}<extra></extra>",
           "hovertext": [
            " 5e "
           ],
           "ids": [
            "Totaal"
           ],
           "legendgroup": " 5e , Totaal",
           "marker": {
            "color": "#FFA15A",
            "size": [
             2.95
            ],
            "sizemode": "area",
            "sizeref": 0.007525,
            "symbol": "circle"
           },
           "mode": "markers",
           "name": " 5e , Totaal",
           "orientation": "v",
           "showlegend": true,
           "type": "scatter",
           "x": [
            " 5e "
           ],
           "xaxis": "x",
           "y": [
            2.95
           ],
           "yaxis": "y"
          },
          {
           "hovertemplate": "<b>%{hovertext}</b><br><br>Per=%{x}<br>Vervoerwijzen=Personenauto<br>Perioden=2019<br>Verplaatsingen=%{marker.size}<extra></extra>",
           "hovertext": [
            " 5e ",
            " 5e "
           ],
           "ids": [
            "Personenauto",
            "Personenauto"
           ],
           "legendgroup": " 5e , Personenauto",
           "marker": {
            "color": "#FFA15A",
            "size": [
             1.26,
             0.33
            ],
            "sizemode": "area",
            "sizeref": 0.007525,
            "symbol": "diamond"
           },
           "mode": "markers",
           "name": " 5e , Personenauto",
           "orientation": "v",
           "showlegend": true,
           "type": "scatter",
           "x": [
            " 5e ",
            " 5e "
           ],
           "xaxis": "x",
           "y": [
            1.26,
            0.33
           ],
           "yaxis": "y"
          },
          {
           "hovertemplate": "<b>%{hovertext}</b><br><br>Per=%{x}<br>Vervoerwijzen=Trein<br>Perioden=2019<br>Verplaatsingen=%{marker.size}<extra></extra>",
           "hovertext": [
            " 5e "
           ],
           "ids": [
            "Trein"
           ],
           "legendgroup": " 5e , Trein",
           "marker": {
            "color": "#FFA15A",
            "size": [
             0.09
            ],
            "sizemode": "area",
            "sizeref": 0.007525,
            "symbol": "square"
           },
           "mode": "markers",
           "name": " 5e , Trein",
           "orientation": "v",
           "showlegend": true,
           "type": "scatter",
           "x": [
            " 5e "
           ],
           "xaxis": "x",
           "y": [
            0.09
           ],
           "yaxis": "y"
          },
          {
           "hovertemplate": "<b>%{hovertext}</b><br><br>Per=%{x}<br>Vervoerwijzen=Fiets<br>Perioden=2019<br>Verplaatsingen=%{marker.size}<extra></extra>",
           "hovertext": [
            " 5e "
           ],
           "ids": [
            "Fiets"
           ],
           "legendgroup": " 5e , Fiets",
           "marker": {
            "color": "#FFA15A",
            "size": [
             0.75
            ],
            "sizemode": "area",
            "sizeref": 0.007525,
            "symbol": "x"
           },
           "mode": "markers",
           "name": " 5e , Fiets",
           "orientation": "v",
           "showlegend": true,
           "type": "scatter",
           "x": [
            " 5e "
           ],
           "xaxis": "x",
           "y": [
            0.75
           ],
           "yaxis": "y"
          }
         ],
         "name": "2019"
        },
        {
         "data": [
          {
           "hovertemplate": "<b>%{hovertext}</b><br><br>Per=%{x}<br>Vervoerwijzen=Totaal<br>Perioden=2020<br>Verplaatsingen=%{marker.size}<extra></extra>",
           "hovertext": [
            " 1e "
           ],
           "ids": [
            "Totaal"
           ],
           "legendgroup": " 1e , Totaal",
           "marker": {
            "color": "#636efa",
            "size": [
             1.88
            ],
            "sizemode": "area",
            "sizeref": 0.007525,
            "symbol": "circle"
           },
           "mode": "markers",
           "name": " 1e , Totaal",
           "orientation": "v",
           "showlegend": true,
           "type": "scatter",
           "x": [
            " 1e "
           ],
           "xaxis": "x",
           "y": [
            1.88
           ],
           "yaxis": "y"
          },
          {
           "hovertemplate": "<b>%{hovertext}</b><br><br>Per=%{x}<br>Vervoerwijzen=Personenauto<br>Perioden=2020<br>Verplaatsingen=%{marker.size}<extra></extra>",
           "hovertext": [
            " 1e ",
            " 1e "
           ],
           "ids": [
            "Personenauto",
            "Personenauto"
           ],
           "legendgroup": " 1e , Personenauto",
           "marker": {
            "color": "#636efa",
            "size": [
             0.4,
             0.18
            ],
            "sizemode": "area",
            "sizeref": 0.007525,
            "symbol": "diamond"
           },
           "mode": "markers",
           "name": " 1e , Personenauto",
           "orientation": "v",
           "showlegend": true,
           "type": "scatter",
           "x": [
            " 1e ",
            " 1e "
           ],
           "xaxis": "x",
           "y": [
            0.4,
            0.18
           ],
           "yaxis": "y"
          },
          {
           "hovertemplate": "<b>%{hovertext}</b><br><br>Per=%{x}<br>Vervoerwijzen=Trein<br>Perioden=2020<br>Verplaatsingen=%{marker.size}<extra></extra>",
           "hovertext": [
            " 1e "
           ],
           "ids": [
            "Trein"
           ],
           "legendgroup": " 1e , Trein",
           "marker": {
            "color": "#636efa",
            "size": [
             0.04
            ],
            "sizemode": "area",
            "sizeref": 0.007525,
            "symbol": "square"
           },
           "mode": "markers",
           "name": " 1e , Trein",
           "orientation": "v",
           "showlegend": true,
           "type": "scatter",
           "x": [
            " 1e "
           ],
           "xaxis": "x",
           "y": [
            0.04
           ],
           "yaxis": "y"
          },
          {
           "hovertemplate": "<b>%{hovertext}</b><br><br>Per=%{x}<br>Vervoerwijzen=Fiets<br>Perioden=2020<br>Verplaatsingen=%{marker.size}<extra></extra>",
           "hovertext": [
            " 1e "
           ],
           "ids": [
            "Fiets"
           ],
           "legendgroup": " 1e , Fiets",
           "marker": {
            "color": "#636efa",
            "size": [
             0.57
            ],
            "sizemode": "area",
            "sizeref": 0.007525,
            "symbol": "x"
           },
           "mode": "markers",
           "name": " 1e , Fiets",
           "orientation": "v",
           "showlegend": true,
           "type": "scatter",
           "x": [
            " 1e "
           ],
           "xaxis": "x",
           "y": [
            0.57
           ],
           "yaxis": "y"
          },
          {
           "hovertemplate": "<b>%{hovertext}</b><br><br>Per=%{x}<br>Vervoerwijzen=Totaal<br>Perioden=2020<br>Verplaatsingen=%{marker.size}<extra></extra>",
           "hovertext": [
            " 2e "
           ],
           "ids": [
            "Totaal"
           ],
           "legendgroup": " 2e , Totaal",
           "marker": {
            "color": "#EF553B",
            "size": [
             2.08
            ],
            "sizemode": "area",
            "sizeref": 0.007525,
            "symbol": "circle"
           },
           "mode": "markers",
           "name": " 2e , Totaal",
           "orientation": "v",
           "showlegend": true,
           "type": "scatter",
           "x": [
            " 2e "
           ],
           "xaxis": "x",
           "y": [
            2.08
           ],
           "yaxis": "y"
          },
          {
           "hovertemplate": "<b>%{hovertext}</b><br><br>Per=%{x}<br>Vervoerwijzen=Personenauto<br>Perioden=2020<br>Verplaatsingen=%{marker.size}<extra></extra>",
           "hovertext": [
            " 2e ",
            " 2e "
           ],
           "ids": [
            "Personenauto",
            "Personenauto"
           ],
           "legendgroup": " 2e , Personenauto",
           "marker": {
            "color": "#EF553B",
            "size": [
             0.64,
             0.21
            ],
            "sizemode": "area",
            "sizeref": 0.007525,
            "symbol": "diamond"
           },
           "mode": "markers",
           "name": " 2e , Personenauto",
           "orientation": "v",
           "showlegend": true,
           "type": "scatter",
           "x": [
            " 2e ",
            " 2e "
           ],
           "xaxis": "x",
           "y": [
            0.64,
            0.21
           ],
           "yaxis": "y"
          },
          {
           "hovertemplate": "<b>%{hovertext}</b><br><br>Per=%{x}<br>Vervoerwijzen=Trein<br>Perioden=2020<br>Verplaatsingen=%{marker.size}<extra></extra>",
           "hovertext": [
            " 2e "
           ],
           "ids": [
            "Trein"
           ],
           "legendgroup": " 2e , Trein",
           "marker": {
            "color": "#EF553B",
            "size": [
             0.02
            ],
            "sizemode": "area",
            "sizeref": 0.007525,
            "symbol": "square"
           },
           "mode": "markers",
           "name": " 2e , Trein",
           "orientation": "v",
           "showlegend": true,
           "type": "scatter",
           "x": [
            " 2e "
           ],
           "xaxis": "x",
           "y": [
            0.02
           ],
           "yaxis": "y"
          },
          {
           "hovertemplate": "<b>%{hovertext}</b><br><br>Per=%{x}<br>Vervoerwijzen=Fiets<br>Perioden=2020<br>Verplaatsingen=%{marker.size}<extra></extra>",
           "hovertext": [
            " 2e "
           ],
           "ids": [
            "Fiets"
           ],
           "legendgroup": " 2e , Fiets",
           "marker": {
            "color": "#EF553B",
            "size": [
             0.58
            ],
            "sizemode": "area",
            "sizeref": 0.007525,
            "symbol": "x"
           },
           "mode": "markers",
           "name": " 2e , Fiets",
           "orientation": "v",
           "showlegend": true,
           "type": "scatter",
           "x": [
            " 2e "
           ],
           "xaxis": "x",
           "y": [
            0.58
           ],
           "yaxis": "y"
          },
          {
           "hovertemplate": "<b>%{hovertext}</b><br><br>Per=%{x}<br>Vervoerwijzen=Totaal<br>Perioden=2020<br>Verplaatsingen=%{marker.size}<extra></extra>",
           "hovertext": [
            " 3e "
           ],
           "ids": [
            "Totaal"
           ],
           "legendgroup": " 3e , Totaal",
           "marker": {
            "color": "#00cc96",
            "size": [
             2.43
            ],
            "sizemode": "area",
            "sizeref": 0.007525,
            "symbol": "circle"
           },
           "mode": "markers",
           "name": " 3e , Totaal",
           "orientation": "v",
           "showlegend": true,
           "type": "scatter",
           "x": [
            " 3e "
           ],
           "xaxis": "x",
           "y": [
            2.43
           ],
           "yaxis": "y"
          },
          {
           "hovertemplate": "<b>%{hovertext}</b><br><br>Per=%{x}<br>Vervoerwijzen=Personenauto<br>Perioden=2020<br>Verplaatsingen=%{marker.size}<extra></extra>",
           "hovertext": [
            " 3e ",
            " 3e "
           ],
           "ids": [
            "Personenauto",
            "Personenauto"
           ],
           "legendgroup": " 3e , Personenauto",
           "marker": {
            "color": "#00cc96",
            "size": [
             0.84,
             0.27
            ],
            "sizemode": "area",
            "sizeref": 0.007525,
            "symbol": "diamond"
           },
           "mode": "markers",
           "name": " 3e , Personenauto",
           "orientation": "v",
           "showlegend": true,
           "type": "scatter",
           "x": [
            " 3e ",
            " 3e "
           ],
           "xaxis": "x",
           "y": [
            0.84,
            0.27
           ],
           "yaxis": "y"
          },
          {
           "hovertemplate": "<b>%{hovertext}</b><br><br>Per=%{x}<br>Vervoerwijzen=Trein<br>Perioden=2020<br>Verplaatsingen=%{marker.size}<extra></extra>",
           "hovertext": [
            " 3e "
           ],
           "ids": [
            "Trein"
           ],
           "legendgroup": " 3e , Trein",
           "marker": {
            "color": "#00cc96",
            "size": [
             0.03
            ],
            "sizemode": "area",
            "sizeref": 0.007525,
            "symbol": "square"
           },
           "mode": "markers",
           "name": " 3e , Trein",
           "orientation": "v",
           "showlegend": true,
           "type": "scatter",
           "x": [
            " 3e "
           ],
           "xaxis": "x",
           "y": [
            0.03
           ],
           "yaxis": "y"
          },
          {
           "hovertemplate": "<b>%{hovertext}</b><br><br>Per=%{x}<br>Vervoerwijzen=Fiets<br>Perioden=2020<br>Verplaatsingen=%{marker.size}<extra></extra>",
           "hovertext": [
            " 3e "
           ],
           "ids": [
            "Fiets"
           ],
           "legendgroup": " 3e , Fiets",
           "marker": {
            "color": "#00cc96",
            "size": [
             0.63
            ],
            "sizemode": "area",
            "sizeref": 0.007525,
            "symbol": "x"
           },
           "mode": "markers",
           "name": " 3e , Fiets",
           "orientation": "v",
           "showlegend": true,
           "type": "scatter",
           "x": [
            " 3e "
           ],
           "xaxis": "x",
           "y": [
            0.63
           ],
           "yaxis": "y"
          },
          {
           "hovertemplate": "<b>%{hovertext}</b><br><br>Per=%{x}<br>Vervoerwijzen=Totaal<br>Perioden=2020<br>Verplaatsingen=%{marker.size}<extra></extra>",
           "hovertext": [
            " 4e "
           ],
           "ids": [
            "Totaal"
           ],
           "legendgroup": " 4e , Totaal",
           "marker": {
            "color": "#ab63fa",
            "size": [
             2.59
            ],
            "sizemode": "area",
            "sizeref": 0.007525,
            "symbol": "circle"
           },
           "mode": "markers",
           "name": " 4e , Totaal",
           "orientation": "v",
           "showlegend": true,
           "type": "scatter",
           "x": [
            " 4e "
           ],
           "xaxis": "x",
           "y": [
            2.59
           ],
           "yaxis": "y"
          },
          {
           "hovertemplate": "<b>%{hovertext}</b><br><br>Per=%{x}<br>Vervoerwijzen=Personenauto<br>Perioden=2020<br>Verplaatsingen=%{marker.size}<extra></extra>",
           "hovertext": [
            " 4e ",
            " 4e "
           ],
           "ids": [
            "Personenauto",
            "Personenauto"
           ],
           "legendgroup": " 4e , Personenauto",
           "marker": {
            "color": "#ab63fa",
            "size": [
             0.97,
             0.27
            ],
            "sizemode": "area",
            "sizeref": 0.007525,
            "symbol": "diamond"
           },
           "mode": "markers",
           "name": " 4e , Personenauto",
           "orientation": "v",
           "showlegend": true,
           "type": "scatter",
           "x": [
            " 4e ",
            " 4e "
           ],
           "xaxis": "x",
           "y": [
            0.97,
            0.27
           ],
           "yaxis": "y"
          },
          {
           "hovertemplate": "<b>%{hovertext}</b><br><br>Per=%{x}<br>Vervoerwijzen=Trein<br>Perioden=2020<br>Verplaatsingen=%{marker.size}<extra></extra>",
           "hovertext": [
            " 4e "
           ],
           "ids": [
            "Trein"
           ],
           "legendgroup": " 4e , Trein",
           "marker": {
            "color": "#ab63fa",
            "size": [
             0.03
            ],
            "sizemode": "area",
            "sizeref": 0.007525,
            "symbol": "square"
           },
           "mode": "markers",
           "name": " 4e , Trein",
           "orientation": "v",
           "showlegend": true,
           "type": "scatter",
           "x": [
            " 4e "
           ],
           "xaxis": "x",
           "y": [
            0.03
           ],
           "yaxis": "y"
          },
          {
           "hovertemplate": "<b>%{hovertext}</b><br><br>Per=%{x}<br>Vervoerwijzen=Fiets<br>Perioden=2020<br>Verplaatsingen=%{marker.size}<extra></extra>",
           "hovertext": [
            " 4e "
           ],
           "ids": [
            "Fiets"
           ],
           "legendgroup": " 4e , Fiets",
           "marker": {
            "color": "#ab63fa",
            "size": [
             0.67
            ],
            "sizemode": "area",
            "sizeref": 0.007525,
            "symbol": "x"
           },
           "mode": "markers",
           "name": " 4e , Fiets",
           "orientation": "v",
           "showlegend": true,
           "type": "scatter",
           "x": [
            " 4e "
           ],
           "xaxis": "x",
           "y": [
            0.67
           ],
           "yaxis": "y"
          },
          {
           "hovertemplate": "<b>%{hovertext}</b><br><br>Per=%{x}<br>Vervoerwijzen=Totaal<br>Perioden=2020<br>Verplaatsingen=%{marker.size}<extra></extra>",
           "hovertext": [
            " 5e "
           ],
           "ids": [
            "Totaal"
           ],
           "legendgroup": " 5e , Totaal",
           "marker": {
            "color": "#FFA15A",
            "size": [
             2.64
            ],
            "sizemode": "area",
            "sizeref": 0.007525,
            "symbol": "circle"
           },
           "mode": "markers",
           "name": " 5e , Totaal",
           "orientation": "v",
           "showlegend": true,
           "type": "scatter",
           "x": [
            " 5e "
           ],
           "xaxis": "x",
           "y": [
            2.64
           ],
           "yaxis": "y"
          },
          {
           "hovertemplate": "<b>%{hovertext}</b><br><br>Per=%{x}<br>Vervoerwijzen=Personenauto<br>Perioden=2020<br>Verplaatsingen=%{marker.size}<extra></extra>",
           "hovertext": [
            " 5e ",
            " 5e "
           ],
           "ids": [
            "Personenauto",
            "Personenauto"
           ],
           "legendgroup": " 5e , Personenauto",
           "marker": {
            "color": "#FFA15A",
            "size": [
             1.04,
             0.25
            ],
            "sizemode": "area",
            "sizeref": 0.007525,
            "symbol": "diamond"
           },
           "mode": "markers",
           "name": " 5e , Personenauto",
           "orientation": "v",
           "showlegend": true,
           "type": "scatter",
           "x": [
            " 5e ",
            " 5e "
           ],
           "xaxis": "x",
           "y": [
            1.04,
            0.25
           ],
           "yaxis": "y"
          },
          {
           "hovertemplate": "<b>%{hovertext}</b><br><br>Per=%{x}<br>Vervoerwijzen=Trein<br>Perioden=2020<br>Verplaatsingen=%{marker.size}<extra></extra>",
           "hovertext": [
            " 5e "
           ],
           "ids": [
            "Trein"
           ],
           "legendgroup": " 5e , Trein",
           "marker": {
            "color": "#FFA15A",
            "size": [
             0.04
            ],
            "sizemode": "area",
            "sizeref": 0.007525,
            "symbol": "square"
           },
           "mode": "markers",
           "name": " 5e , Trein",
           "orientation": "v",
           "showlegend": true,
           "type": "scatter",
           "x": [
            " 5e "
           ],
           "xaxis": "x",
           "y": [
            0.04
           ],
           "yaxis": "y"
          },
          {
           "hovertemplate": "<b>%{hovertext}</b><br><br>Per=%{x}<br>Vervoerwijzen=Fiets<br>Perioden=2020<br>Verplaatsingen=%{marker.size}<extra></extra>",
           "hovertext": [
            " 5e "
           ],
           "ids": [
            "Fiets"
           ],
           "legendgroup": " 5e , Fiets",
           "marker": {
            "color": "#FFA15A",
            "size": [
             0.66
            ],
            "sizemode": "area",
            "sizeref": 0.007525,
            "symbol": "x"
           },
           "mode": "markers",
           "name": " 5e , Fiets",
           "orientation": "v",
           "showlegend": true,
           "type": "scatter",
           "x": [
            " 5e "
           ],
           "xaxis": "x",
           "y": [
            0.66
           ],
           "yaxis": "y"
          }
         ],
         "name": "2020"
        },
        {
         "data": [
          {
           "hovertemplate": "<b>%{hovertext}</b><br><br>Per=%{x}<br>Vervoerwijzen=Totaal<br>Perioden=2021<br>Verplaatsingen=%{marker.size}<extra></extra>",
           "hovertext": [
            " 1e "
           ],
           "ids": [
            "Totaal"
           ],
           "legendgroup": " 1e , Totaal",
           "marker": {
            "color": "#636efa",
            "size": [
             2.07
            ],
            "sizemode": "area",
            "sizeref": 0.007525,
            "symbol": "circle"
           },
           "mode": "markers",
           "name": " 1e , Totaal",
           "orientation": "v",
           "showlegend": true,
           "type": "scatter",
           "x": [
            " 1e "
           ],
           "xaxis": "x",
           "y": [
            2.07
           ],
           "yaxis": "y"
          },
          {
           "hovertemplate": "<b>%{hovertext}</b><br><br>Per=%{x}<br>Vervoerwijzen=Personenauto<br>Perioden=2021<br>Verplaatsingen=%{marker.size}<extra></extra>",
           "hovertext": [
            " 1e ",
            " 1e "
           ],
           "ids": [
            "Personenauto",
            "Personenauto"
           ],
           "legendgroup": " 1e , Personenauto",
           "marker": {
            "color": "#636efa",
            "size": [
             0.42,
             0.2
            ],
            "sizemode": "area",
            "sizeref": 0.007525,
            "symbol": "diamond"
           },
           "mode": "markers",
           "name": " 1e , Personenauto",
           "orientation": "v",
           "showlegend": true,
           "type": "scatter",
           "x": [
            " 1e ",
            " 1e "
           ],
           "xaxis": "x",
           "y": [
            0.42,
            0.2
           ],
           "yaxis": "y"
          },
          {
           "hovertemplate": "<b>%{hovertext}</b><br><br>Per=%{x}<br>Vervoerwijzen=Trein<br>Perioden=2021<br>Verplaatsingen=%{marker.size}<extra></extra>",
           "hovertext": [
            " 1e "
           ],
           "ids": [
            "Trein"
           ],
           "legendgroup": " 1e , Trein",
           "marker": {
            "color": "#636efa",
            "size": [
             0.05
            ],
            "sizemode": "area",
            "sizeref": 0.007525,
            "symbol": "square"
           },
           "mode": "markers",
           "name": " 1e , Trein",
           "orientation": "v",
           "showlegend": true,
           "type": "scatter",
           "x": [
            " 1e "
           ],
           "xaxis": "x",
           "y": [
            0.05
           ],
           "yaxis": "y"
          },
          {
           "hovertemplate": "<b>%{hovertext}</b><br><br>Per=%{x}<br>Vervoerwijzen=Fiets<br>Perioden=2021<br>Verplaatsingen=%{marker.size}<extra></extra>",
           "hovertext": [
            " 1e "
           ],
           "ids": [
            "Fiets"
           ],
           "legendgroup": " 1e , Fiets",
           "marker": {
            "color": "#636efa",
            "size": [
             0.6
            ],
            "sizemode": "area",
            "sizeref": 0.007525,
            "symbol": "x"
           },
           "mode": "markers",
           "name": " 1e , Fiets",
           "orientation": "v",
           "showlegend": true,
           "type": "scatter",
           "x": [
            " 1e "
           ],
           "xaxis": "x",
           "y": [
            0.6
           ],
           "yaxis": "y"
          },
          {
           "hovertemplate": "<b>%{hovertext}</b><br><br>Per=%{x}<br>Vervoerwijzen=Totaal<br>Perioden=2021<br>Verplaatsingen=%{marker.size}<extra></extra>",
           "hovertext": [
            " 2e "
           ],
           "ids": [
            "Totaal"
           ],
           "legendgroup": " 2e , Totaal",
           "marker": {
            "color": "#EF553B",
            "size": [
             2.28
            ],
            "sizemode": "area",
            "sizeref": 0.007525,
            "symbol": "circle"
           },
           "mode": "markers",
           "name": " 2e , Totaal",
           "orientation": "v",
           "showlegend": true,
           "type": "scatter",
           "x": [
            " 2e "
           ],
           "xaxis": "x",
           "y": [
            2.28
           ],
           "yaxis": "y"
          },
          {
           "hovertemplate": "<b>%{hovertext}</b><br><br>Per=%{x}<br>Vervoerwijzen=Personenauto<br>Perioden=2021<br>Verplaatsingen=%{marker.size}<extra></extra>",
           "hovertext": [
            " 2e ",
            " 2e "
           ],
           "ids": [
            "Personenauto",
            "Personenauto"
           ],
           "legendgroup": " 2e , Personenauto",
           "marker": {
            "color": "#EF553B",
            "size": [
             0.68,
             0.25
            ],
            "sizemode": "area",
            "sizeref": 0.007525,
            "symbol": "diamond"
           },
           "mode": "markers",
           "name": " 2e , Personenauto",
           "orientation": "v",
           "showlegend": true,
           "type": "scatter",
           "x": [
            " 2e ",
            " 2e "
           ],
           "xaxis": "x",
           "y": [
            0.68,
            0.25
           ],
           "yaxis": "y"
          },
          {
           "hovertemplate": "<b>%{hovertext}</b><br><br>Per=%{x}<br>Vervoerwijzen=Trein<br>Perioden=2021<br>Verplaatsingen=%{marker.size}<extra></extra>",
           "hovertext": [
            " 2e "
           ],
           "ids": [
            "Trein"
           ],
           "legendgroup": " 2e , Trein",
           "marker": {
            "color": "#EF553B",
            "size": [
             0.03
            ],
            "sizemode": "area",
            "sizeref": 0.007525,
            "symbol": "square"
           },
           "mode": "markers",
           "name": " 2e , Trein",
           "orientation": "v",
           "showlegend": true,
           "type": "scatter",
           "x": [
            " 2e "
           ],
           "xaxis": "x",
           "y": [
            0.03
           ],
           "yaxis": "y"
          },
          {
           "hovertemplate": "<b>%{hovertext}</b><br><br>Per=%{x}<br>Vervoerwijzen=Fiets<br>Perioden=2021<br>Verplaatsingen=%{marker.size}<extra></extra>",
           "hovertext": [
            " 2e "
           ],
           "ids": [
            "Fiets"
           ],
           "legendgroup": " 2e , Fiets",
           "marker": {
            "color": "#EF553B",
            "size": [
             0.57
            ],
            "sizemode": "area",
            "sizeref": 0.007525,
            "symbol": "x"
           },
           "mode": "markers",
           "name": " 2e , Fiets",
           "orientation": "v",
           "showlegend": true,
           "type": "scatter",
           "x": [
            " 2e "
           ],
           "xaxis": "x",
           "y": [
            0.57
           ],
           "yaxis": "y"
          },
          {
           "hovertemplate": "<b>%{hovertext}</b><br><br>Per=%{x}<br>Vervoerwijzen=Totaal<br>Perioden=2021<br>Verplaatsingen=%{marker.size}<extra></extra>",
           "hovertext": [
            " 3e "
           ],
           "ids": [
            "Totaal"
           ],
           "legendgroup": " 3e , Totaal",
           "marker": {
            "color": "#00cc96",
            "size": [
             2.59
            ],
            "sizemode": "area",
            "sizeref": 0.007525,
            "symbol": "circle"
           },
           "mode": "markers",
           "name": " 3e , Totaal",
           "orientation": "v",
           "showlegend": true,
           "type": "scatter",
           "x": [
            " 3e "
           ],
           "xaxis": "x",
           "y": [
            2.59
           ],
           "yaxis": "y"
          },
          {
           "hovertemplate": "<b>%{hovertext}</b><br><br>Per=%{x}<br>Vervoerwijzen=Personenauto<br>Perioden=2021<br>Verplaatsingen=%{marker.size}<extra></extra>",
           "hovertext": [
            " 3e ",
            " 3e "
           ],
           "ids": [
            "Personenauto",
            "Personenauto"
           ],
           "legendgroup": " 3e , Personenauto",
           "marker": {
            "color": "#00cc96",
            "size": [
             0.86,
             0.28
            ],
            "sizemode": "area",
            "sizeref": 0.007525,
            "symbol": "diamond"
           },
           "mode": "markers",
           "name": " 3e , Personenauto",
           "orientation": "v",
           "showlegend": true,
           "type": "scatter",
           "x": [
            " 3e ",
            " 3e "
           ],
           "xaxis": "x",
           "y": [
            0.86,
            0.28
           ],
           "yaxis": "y"
          },
          {
           "hovertemplate": "<b>%{hovertext}</b><br><br>Per=%{x}<br>Vervoerwijzen=Trein<br>Perioden=2021<br>Verplaatsingen=%{marker.size}<extra></extra>",
           "hovertext": [
            " 3e "
           ],
           "ids": [
            "Trein"
           ],
           "legendgroup": " 3e , Trein",
           "marker": {
            "color": "#00cc96",
            "size": [
             0.03
            ],
            "sizemode": "area",
            "sizeref": 0.007525,
            "symbol": "square"
           },
           "mode": "markers",
           "name": " 3e , Trein",
           "orientation": "v",
           "showlegend": true,
           "type": "scatter",
           "x": [
            " 3e "
           ],
           "xaxis": "x",
           "y": [
            0.03
           ],
           "yaxis": "y"
          },
          {
           "hovertemplate": "<b>%{hovertext}</b><br><br>Per=%{x}<br>Vervoerwijzen=Fiets<br>Perioden=2021<br>Verplaatsingen=%{marker.size}<extra></extra>",
           "hovertext": [
            " 3e "
           ],
           "ids": [
            "Fiets"
           ],
           "legendgroup": " 3e , Fiets",
           "marker": {
            "color": "#00cc96",
            "size": [
             0.65
            ],
            "sizemode": "area",
            "sizeref": 0.007525,
            "symbol": "x"
           },
           "mode": "markers",
           "name": " 3e , Fiets",
           "orientation": "v",
           "showlegend": true,
           "type": "scatter",
           "x": [
            " 3e "
           ],
           "xaxis": "x",
           "y": [
            0.65
           ],
           "yaxis": "y"
          },
          {
           "hovertemplate": "<b>%{hovertext}</b><br><br>Per=%{x}<br>Vervoerwijzen=Totaal<br>Perioden=2021<br>Verplaatsingen=%{marker.size}<extra></extra>",
           "hovertext": [
            " 4e "
           ],
           "ids": [
            "Totaal"
           ],
           "legendgroup": " 4e , Totaal",
           "marker": {
            "color": "#ab63fa",
            "size": [
             2.73
            ],
            "sizemode": "area",
            "sizeref": 0.007525,
            "symbol": "circle"
           },
           "mode": "markers",
           "name": " 4e , Totaal",
           "orientation": "v",
           "showlegend": true,
           "type": "scatter",
           "x": [
            " 4e "
           ],
           "xaxis": "x",
           "y": [
            2.73
           ],
           "yaxis": "y"
          },
          {
           "hovertemplate": "<b>%{hovertext}</b><br><br>Per=%{x}<br>Vervoerwijzen=Personenauto<br>Perioden=2021<br>Verplaatsingen=%{marker.size}<extra></extra>",
           "hovertext": [
            " 4e ",
            " 4e "
           ],
           "ids": [
            "Personenauto",
            "Personenauto"
           ],
           "legendgroup": " 4e , Personenauto",
           "marker": {
            "color": "#ab63fa",
            "size": [
             0.99,
             0.27
            ],
            "sizemode": "area",
            "sizeref": 0.007525,
            "symbol": "diamond"
           },
           "mode": "markers",
           "name": " 4e , Personenauto",
           "orientation": "v",
           "showlegend": true,
           "type": "scatter",
           "x": [
            " 4e ",
            " 4e "
           ],
           "xaxis": "x",
           "y": [
            0.99,
            0.27
           ],
           "yaxis": "y"
          },
          {
           "hovertemplate": "<b>%{hovertext}</b><br><br>Per=%{x}<br>Vervoerwijzen=Trein<br>Perioden=2021<br>Verplaatsingen=%{marker.size}<extra></extra>",
           "hovertext": [
            " 4e "
           ],
           "ids": [
            "Trein"
           ],
           "legendgroup": " 4e , Trein",
           "marker": {
            "color": "#ab63fa",
            "size": [
             0.03
            ],
            "sizemode": "area",
            "sizeref": 0.007525,
            "symbol": "square"
           },
           "mode": "markers",
           "name": " 4e , Trein",
           "orientation": "v",
           "showlegend": true,
           "type": "scatter",
           "x": [
            " 4e "
           ],
           "xaxis": "x",
           "y": [
            0.03
           ],
           "yaxis": "y"
          },
          {
           "hovertemplate": "<b>%{hovertext}</b><br><br>Per=%{x}<br>Vervoerwijzen=Fiets<br>Perioden=2021<br>Verplaatsingen=%{marker.size}<extra></extra>",
           "hovertext": [
            " 4e "
           ],
           "ids": [
            "Fiets"
           ],
           "legendgroup": " 4e , Fiets",
           "marker": {
            "color": "#ab63fa",
            "size": [
             0.69
            ],
            "sizemode": "area",
            "sizeref": 0.007525,
            "symbol": "x"
           },
           "mode": "markers",
           "name": " 4e , Fiets",
           "orientation": "v",
           "showlegend": true,
           "type": "scatter",
           "x": [
            " 4e "
           ],
           "xaxis": "x",
           "y": [
            0.69
           ],
           "yaxis": "y"
          },
          {
           "hovertemplate": "<b>%{hovertext}</b><br><br>Per=%{x}<br>Vervoerwijzen=Totaal<br>Perioden=2021<br>Verplaatsingen=%{marker.size}<extra></extra>",
           "hovertext": [
            " 5e "
           ],
           "ids": [
            "Totaal"
           ],
           "legendgroup": " 5e , Totaal",
           "marker": {
            "color": "#FFA15A",
            "size": [
             2.71
            ],
            "sizemode": "area",
            "sizeref": 0.007525,
            "symbol": "circle"
           },
           "mode": "markers",
           "name": " 5e , Totaal",
           "orientation": "v",
           "showlegend": true,
           "type": "scatter",
           "x": [
            " 5e "
           ],
           "xaxis": "x",
           "y": [
            2.71
           ],
           "yaxis": "y"
          },
          {
           "hovertemplate": "<b>%{hovertext}</b><br><br>Per=%{x}<br>Vervoerwijzen=Personenauto<br>Perioden=2021<br>Verplaatsingen=%{marker.size}<extra></extra>",
           "hovertext": [
            " 5e ",
            " 5e "
           ],
           "ids": [
            "Personenauto",
            "Personenauto"
           ],
           "legendgroup": " 5e , Personenauto",
           "marker": {
            "color": "#FFA15A",
            "size": [
             1.03,
             0.28
            ],
            "sizemode": "area",
            "sizeref": 0.007525,
            "symbol": "diamond"
           },
           "mode": "markers",
           "name": " 5e , Personenauto",
           "orientation": "v",
           "showlegend": true,
           "type": "scatter",
           "x": [
            " 5e ",
            " 5e "
           ],
           "xaxis": "x",
           "y": [
            1.03,
            0.28
           ],
           "yaxis": "y"
          },
          {
           "hovertemplate": "<b>%{hovertext}</b><br><br>Per=%{x}<br>Vervoerwijzen=Trein<br>Perioden=2021<br>Verplaatsingen=%{marker.size}<extra></extra>",
           "hovertext": [
            " 5e "
           ],
           "ids": [
            "Trein"
           ],
           "legendgroup": " 5e , Trein",
           "marker": {
            "color": "#FFA15A",
            "size": [
             0.03
            ],
            "sizemode": "area",
            "sizeref": 0.007525,
            "symbol": "square"
           },
           "mode": "markers",
           "name": " 5e , Trein",
           "orientation": "v",
           "showlegend": true,
           "type": "scatter",
           "x": [
            " 5e "
           ],
           "xaxis": "x",
           "y": [
            0.03
           ],
           "yaxis": "y"
          },
          {
           "hovertemplate": "<b>%{hovertext}</b><br><br>Per=%{x}<br>Vervoerwijzen=Fiets<br>Perioden=2021<br>Verplaatsingen=%{marker.size}<extra></extra>",
           "hovertext": [
            " 5e "
           ],
           "ids": [
            "Fiets"
           ],
           "legendgroup": " 5e , Fiets",
           "marker": {
            "color": "#FFA15A",
            "size": [
             0.65
            ],
            "sizemode": "area",
            "sizeref": 0.007525,
            "symbol": "x"
           },
           "mode": "markers",
           "name": " 5e , Fiets",
           "orientation": "v",
           "showlegend": true,
           "type": "scatter",
           "x": [
            " 5e "
           ],
           "xaxis": "x",
           "y": [
            0.65
           ],
           "yaxis": "y"
          }
         ],
         "name": "2021"
        }
       ],
       "layout": {
        "legend": {
         "itemsizing": "constant",
         "title": {
          "text": "Per, Vervoerwijzen"
         },
         "tracegroupgap": 0
        },
        "margin": {
         "t": 60
        },
        "sliders": [
         {
          "active": 0,
          "currentvalue": {
           "prefix": "Perioden="
          },
          "len": 0.9,
          "pad": {
           "b": 10,
           "t": 60
          },
          "steps": [
           {
            "args": [
             [
              "2018"
             ],
             {
              "frame": {
               "duration": 0,
               "redraw": false
              },
              "fromcurrent": true,
              "mode": "immediate",
              "transition": {
               "duration": 0,
               "easing": "linear"
              }
             }
            ],
            "label": "2018",
            "method": "animate"
           },
           {
            "args": [
             [
              "2019"
             ],
             {
              "frame": {
               "duration": 0,
               "redraw": false
              },
              "fromcurrent": true,
              "mode": "immediate",
              "transition": {
               "duration": 0,
               "easing": "linear"
              }
             }
            ],
            "label": "2019",
            "method": "animate"
           },
           {
            "args": [
             [
              "2020"
             ],
             {
              "frame": {
               "duration": 0,
               "redraw": false
              },
              "fromcurrent": true,
              "mode": "immediate",
              "transition": {
               "duration": 0,
               "easing": "linear"
              }
             }
            ],
            "label": "2020",
            "method": "animate"
           },
           {
            "args": [
             [
              "2021"
             ],
             {
              "frame": {
               "duration": 0,
               "redraw": false
              },
              "fromcurrent": true,
              "mode": "immediate",
              "transition": {
               "duration": 0,
               "easing": "linear"
              }
             }
            ],
            "label": "2021",
            "method": "animate"
           }
          ],
          "x": 0.1,
          "xanchor": "left",
          "y": 0,
          "yanchor": "top"
         }
        ],
        "template": {
         "data": {
          "bar": [
           {
            "error_x": {
             "color": "#2a3f5f"
            },
            "error_y": {
             "color": "#2a3f5f"
            },
            "marker": {
             "line": {
              "color": "#E5ECF6",
              "width": 0.5
             },
             "pattern": {
              "fillmode": "overlay",
              "size": 10,
              "solidity": 0.2
             }
            },
            "type": "bar"
           }
          ],
          "barpolar": [
           {
            "marker": {
             "line": {
              "color": "#E5ECF6",
              "width": 0.5
             },
             "pattern": {
              "fillmode": "overlay",
              "size": 10,
              "solidity": 0.2
             }
            },
            "type": "barpolar"
           }
          ],
          "carpet": [
           {
            "aaxis": {
             "endlinecolor": "#2a3f5f",
             "gridcolor": "white",
             "linecolor": "white",
             "minorgridcolor": "white",
             "startlinecolor": "#2a3f5f"
            },
            "baxis": {
             "endlinecolor": "#2a3f5f",
             "gridcolor": "white",
             "linecolor": "white",
             "minorgridcolor": "white",
             "startlinecolor": "#2a3f5f"
            },
            "type": "carpet"
           }
          ],
          "choropleth": [
           {
            "colorbar": {
             "outlinewidth": 0,
             "ticks": ""
            },
            "type": "choropleth"
           }
          ],
          "contour": [
           {
            "colorbar": {
             "outlinewidth": 0,
             "ticks": ""
            },
            "colorscale": [
             [
              0,
              "#0d0887"
             ],
             [
              0.1111111111111111,
              "#46039f"
             ],
             [
              0.2222222222222222,
              "#7201a8"
             ],
             [
              0.3333333333333333,
              "#9c179e"
             ],
             [
              0.4444444444444444,
              "#bd3786"
             ],
             [
              0.5555555555555556,
              "#d8576b"
             ],
             [
              0.6666666666666666,
              "#ed7953"
             ],
             [
              0.7777777777777778,
              "#fb9f3a"
             ],
             [
              0.8888888888888888,
              "#fdca26"
             ],
             [
              1,
              "#f0f921"
             ]
            ],
            "type": "contour"
           }
          ],
          "contourcarpet": [
           {
            "colorbar": {
             "outlinewidth": 0,
             "ticks": ""
            },
            "type": "contourcarpet"
           }
          ],
          "heatmap": [
           {
            "colorbar": {
             "outlinewidth": 0,
             "ticks": ""
            },
            "colorscale": [
             [
              0,
              "#0d0887"
             ],
             [
              0.1111111111111111,
              "#46039f"
             ],
             [
              0.2222222222222222,
              "#7201a8"
             ],
             [
              0.3333333333333333,
              "#9c179e"
             ],
             [
              0.4444444444444444,
              "#bd3786"
             ],
             [
              0.5555555555555556,
              "#d8576b"
             ],
             [
              0.6666666666666666,
              "#ed7953"
             ],
             [
              0.7777777777777778,
              "#fb9f3a"
             ],
             [
              0.8888888888888888,
              "#fdca26"
             ],
             [
              1,
              "#f0f921"
             ]
            ],
            "type": "heatmap"
           }
          ],
          "heatmapgl": [
           {
            "colorbar": {
             "outlinewidth": 0,
             "ticks": ""
            },
            "colorscale": [
             [
              0,
              "#0d0887"
             ],
             [
              0.1111111111111111,
              "#46039f"
             ],
             [
              0.2222222222222222,
              "#7201a8"
             ],
             [
              0.3333333333333333,
              "#9c179e"
             ],
             [
              0.4444444444444444,
              "#bd3786"
             ],
             [
              0.5555555555555556,
              "#d8576b"
             ],
             [
              0.6666666666666666,
              "#ed7953"
             ],
             [
              0.7777777777777778,
              "#fb9f3a"
             ],
             [
              0.8888888888888888,
              "#fdca26"
             ],
             [
              1,
              "#f0f921"
             ]
            ],
            "type": "heatmapgl"
           }
          ],
          "histogram": [
           {
            "marker": {
             "pattern": {
              "fillmode": "overlay",
              "size": 10,
              "solidity": 0.2
             }
            },
            "type": "histogram"
           }
          ],
          "histogram2d": [
           {
            "colorbar": {
             "outlinewidth": 0,
             "ticks": ""
            },
            "colorscale": [
             [
              0,
              "#0d0887"
             ],
             [
              0.1111111111111111,
              "#46039f"
             ],
             [
              0.2222222222222222,
              "#7201a8"
             ],
             [
              0.3333333333333333,
              "#9c179e"
             ],
             [
              0.4444444444444444,
              "#bd3786"
             ],
             [
              0.5555555555555556,
              "#d8576b"
             ],
             [
              0.6666666666666666,
              "#ed7953"
             ],
             [
              0.7777777777777778,
              "#fb9f3a"
             ],
             [
              0.8888888888888888,
              "#fdca26"
             ],
             [
              1,
              "#f0f921"
             ]
            ],
            "type": "histogram2d"
           }
          ],
          "histogram2dcontour": [
           {
            "colorbar": {
             "outlinewidth": 0,
             "ticks": ""
            },
            "colorscale": [
             [
              0,
              "#0d0887"
             ],
             [
              0.1111111111111111,
              "#46039f"
             ],
             [
              0.2222222222222222,
              "#7201a8"
             ],
             [
              0.3333333333333333,
              "#9c179e"
             ],
             [
              0.4444444444444444,
              "#bd3786"
             ],
             [
              0.5555555555555556,
              "#d8576b"
             ],
             [
              0.6666666666666666,
              "#ed7953"
             ],
             [
              0.7777777777777778,
              "#fb9f3a"
             ],
             [
              0.8888888888888888,
              "#fdca26"
             ],
             [
              1,
              "#f0f921"
             ]
            ],
            "type": "histogram2dcontour"
           }
          ],
          "mesh3d": [
           {
            "colorbar": {
             "outlinewidth": 0,
             "ticks": ""
            },
            "type": "mesh3d"
           }
          ],
          "parcoords": [
           {
            "line": {
             "colorbar": {
              "outlinewidth": 0,
              "ticks": ""
             }
            },
            "type": "parcoords"
           }
          ],
          "pie": [
           {
            "automargin": true,
            "type": "pie"
           }
          ],
          "scatter": [
           {
            "fillpattern": {
             "fillmode": "overlay",
             "size": 10,
             "solidity": 0.2
            },
            "type": "scatter"
           }
          ],
          "scatter3d": [
           {
            "line": {
             "colorbar": {
              "outlinewidth": 0,
              "ticks": ""
             }
            },
            "marker": {
             "colorbar": {
              "outlinewidth": 0,
              "ticks": ""
             }
            },
            "type": "scatter3d"
           }
          ],
          "scattercarpet": [
           {
            "marker": {
             "colorbar": {
              "outlinewidth": 0,
              "ticks": ""
             }
            },
            "type": "scattercarpet"
           }
          ],
          "scattergeo": [
           {
            "marker": {
             "colorbar": {
              "outlinewidth": 0,
              "ticks": ""
             }
            },
            "type": "scattergeo"
           }
          ],
          "scattergl": [
           {
            "marker": {
             "colorbar": {
              "outlinewidth": 0,
              "ticks": ""
             }
            },
            "type": "scattergl"
           }
          ],
          "scattermapbox": [
           {
            "marker": {
             "colorbar": {
              "outlinewidth": 0,
              "ticks": ""
             }
            },
            "type": "scattermapbox"
           }
          ],
          "scatterpolar": [
           {
            "marker": {
             "colorbar": {
              "outlinewidth": 0,
              "ticks": ""
             }
            },
            "type": "scatterpolar"
           }
          ],
          "scatterpolargl": [
           {
            "marker": {
             "colorbar": {
              "outlinewidth": 0,
              "ticks": ""
             }
            },
            "type": "scatterpolargl"
           }
          ],
          "scatterternary": [
           {
            "marker": {
             "colorbar": {
              "outlinewidth": 0,
              "ticks": ""
             }
            },
            "type": "scatterternary"
           }
          ],
          "surface": [
           {
            "colorbar": {
             "outlinewidth": 0,
             "ticks": ""
            },
            "colorscale": [
             [
              0,
              "#0d0887"
             ],
             [
              0.1111111111111111,
              "#46039f"
             ],
             [
              0.2222222222222222,
              "#7201a8"
             ],
             [
              0.3333333333333333,
              "#9c179e"
             ],
             [
              0.4444444444444444,
              "#bd3786"
             ],
             [
              0.5555555555555556,
              "#d8576b"
             ],
             [
              0.6666666666666666,
              "#ed7953"
             ],
             [
              0.7777777777777778,
              "#fb9f3a"
             ],
             [
              0.8888888888888888,
              "#fdca26"
             ],
             [
              1,
              "#f0f921"
             ]
            ],
            "type": "surface"
           }
          ],
          "table": [
           {
            "cells": {
             "fill": {
              "color": "#EBF0F8"
             },
             "line": {
              "color": "white"
             }
            },
            "header": {
             "fill": {
              "color": "#C8D4E3"
             },
             "line": {
              "color": "white"
             }
            },
            "type": "table"
           }
          ]
         },
         "layout": {
          "annotationdefaults": {
           "arrowcolor": "#2a3f5f",
           "arrowhead": 0,
           "arrowwidth": 1
          },
          "autotypenumbers": "strict",
          "coloraxis": {
           "colorbar": {
            "outlinewidth": 0,
            "ticks": ""
           }
          },
          "colorscale": {
           "diverging": [
            [
             0,
             "#8e0152"
            ],
            [
             0.1,
             "#c51b7d"
            ],
            [
             0.2,
             "#de77ae"
            ],
            [
             0.3,
             "#f1b6da"
            ],
            [
             0.4,
             "#fde0ef"
            ],
            [
             0.5,
             "#f7f7f7"
            ],
            [
             0.6,
             "#e6f5d0"
            ],
            [
             0.7,
             "#b8e186"
            ],
            [
             0.8,
             "#7fbc41"
            ],
            [
             0.9,
             "#4d9221"
            ],
            [
             1,
             "#276419"
            ]
           ],
           "sequential": [
            [
             0,
             "#0d0887"
            ],
            [
             0.1111111111111111,
             "#46039f"
            ],
            [
             0.2222222222222222,
             "#7201a8"
            ],
            [
             0.3333333333333333,
             "#9c179e"
            ],
            [
             0.4444444444444444,
             "#bd3786"
            ],
            [
             0.5555555555555556,
             "#d8576b"
            ],
            [
             0.6666666666666666,
             "#ed7953"
            ],
            [
             0.7777777777777778,
             "#fb9f3a"
            ],
            [
             0.8888888888888888,
             "#fdca26"
            ],
            [
             1,
             "#f0f921"
            ]
           ],
           "sequentialminus": [
            [
             0,
             "#0d0887"
            ],
            [
             0.1111111111111111,
             "#46039f"
            ],
            [
             0.2222222222222222,
             "#7201a8"
            ],
            [
             0.3333333333333333,
             "#9c179e"
            ],
            [
             0.4444444444444444,
             "#bd3786"
            ],
            [
             0.5555555555555556,
             "#d8576b"
            ],
            [
             0.6666666666666666,
             "#ed7953"
            ],
            [
             0.7777777777777778,
             "#fb9f3a"
            ],
            [
             0.8888888888888888,
             "#fdca26"
            ],
            [
             1,
             "#f0f921"
            ]
           ]
          },
          "colorway": [
           "#636efa",
           "#EF553B",
           "#00cc96",
           "#ab63fa",
           "#FFA15A",
           "#19d3f3",
           "#FF6692",
           "#B6E880",
           "#FF97FF",
           "#FECB52"
          ],
          "font": {
           "color": "#2a3f5f"
          },
          "geo": {
           "bgcolor": "white",
           "lakecolor": "white",
           "landcolor": "#E5ECF6",
           "showlakes": true,
           "showland": true,
           "subunitcolor": "white"
          },
          "hoverlabel": {
           "align": "left"
          },
          "hovermode": "closest",
          "mapbox": {
           "style": "light"
          },
          "paper_bgcolor": "white",
          "plot_bgcolor": "#E5ECF6",
          "polar": {
           "angularaxis": {
            "gridcolor": "white",
            "linecolor": "white",
            "ticks": ""
           },
           "bgcolor": "#E5ECF6",
           "radialaxis": {
            "gridcolor": "white",
            "linecolor": "white",
            "ticks": ""
           }
          },
          "scene": {
           "xaxis": {
            "backgroundcolor": "#E5ECF6",
            "gridcolor": "white",
            "gridwidth": 2,
            "linecolor": "white",
            "showbackground": true,
            "ticks": "",
            "zerolinecolor": "white"
           },
           "yaxis": {
            "backgroundcolor": "#E5ECF6",
            "gridcolor": "white",
            "gridwidth": 2,
            "linecolor": "white",
            "showbackground": true,
            "ticks": "",
            "zerolinecolor": "white"
           },
           "zaxis": {
            "backgroundcolor": "#E5ECF6",
            "gridcolor": "white",
            "gridwidth": 2,
            "linecolor": "white",
            "showbackground": true,
            "ticks": "",
            "zerolinecolor": "white"
           }
          },
          "shapedefaults": {
           "line": {
            "color": "#2a3f5f"
           }
          },
          "ternary": {
           "aaxis": {
            "gridcolor": "white",
            "linecolor": "white",
            "ticks": ""
           },
           "baxis": {
            "gridcolor": "white",
            "linecolor": "white",
            "ticks": ""
           },
           "bgcolor": "#E5ECF6",
           "caxis": {
            "gridcolor": "white",
            "linecolor": "white",
            "ticks": ""
           }
          },
          "title": {
           "x": 0.05
          },
          "xaxis": {
           "automargin": true,
           "gridcolor": "white",
           "linecolor": "white",
           "ticks": "",
           "title": {
            "standoff": 15
           },
           "zerolinecolor": "white",
           "zerolinewidth": 2
          },
          "yaxis": {
           "automargin": true,
           "gridcolor": "white",
           "linecolor": "white",
           "ticks": "",
           "title": {
            "standoff": 15
           },
           "zerolinecolor": "white",
           "zerolinewidth": 2
          }
         }
        },
        "updatemenus": [
         {
          "buttons": [
           {
            "args": [
             null,
             {
              "frame": {
               "duration": 500,
               "redraw": false
              },
              "fromcurrent": true,
              "mode": "immediate",
              "transition": {
               "duration": 500,
               "easing": "linear"
              }
             }
            ],
            "label": "&#9654;",
            "method": "animate"
           },
           {
            "args": [
             [
              null
             ],
             {
              "frame": {
               "duration": 0,
               "redraw": false
              },
              "fromcurrent": true,
              "mode": "immediate",
              "transition": {
               "duration": 0,
               "easing": "linear"
              }
             }
            ],
            "label": "&#9724;",
            "method": "animate"
           }
          ],
          "direction": "left",
          "pad": {
           "r": 10,
           "t": 70
          },
          "showactive": false,
          "type": "buttons",
          "x": 0.1,
          "xanchor": "right",
          "y": 0,
          "yanchor": "top"
         }
        ],
        "xaxis": {
         "anchor": "y",
         "categoryarray": [
          " 1e ",
          " 2e ",
          " 3e ",
          " 4e ",
          " 5e "
         ],
         "categoryorder": "array",
         "domain": [
          0,
          1
         ],
         "title": {
          "text": "Per"
         }
        },
        "yaxis": {
         "anchor": "x",
         "domain": [
          0,
          1
         ],
         "title": {
          "text": "Verplaatsingen"
         }
        }
       }
      }
     },
     "metadata": {},
     "output_type": "display_data"
    }
   ],
   "source": [
    "\n",
    "fig = px.scatter(df_movement, x=\"Per\", y=\"Verplaatsingen\", animation_frame=\"Perioden\",animation_group=\"Vervoerwijzen\",\n",
    "            size=\"Verplaatsingen\",color='Per',hover_name=\"Per\",symbol='Vervoerwijzen')\n",
    "\n",
    "fig.show()"
   ]
  }
 ],
 "metadata": {
  "kernelspec": {
   "display_name": "Python 3.10.6 ('geo_env')",
   "language": "python",
   "name": "python3"
  },
  "language_info": {
   "codemirror_mode": {
    "name": "ipython",
    "version": 3
   },
   "file_extension": ".py",
   "mimetype": "text/x-python",
   "name": "python",
   "nbconvert_exporter": "python",
   "pygments_lexer": "ipython3",
   "version": "3.10.6"
  },
  "orig_nbformat": 4,
  "vscode": {
   "interpreter": {
    "hash": "b6656aa92867de04c70119335fc3c3a4596933397f2003359bd019dd745cffca"
   }
  }
 },
 "nbformat": 4,
 "nbformat_minor": 2
}
